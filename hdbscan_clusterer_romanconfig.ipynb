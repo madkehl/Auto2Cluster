{
 "cells": [
  {
   "cell_type": "code",
   "execution_count": 2,
   "metadata": {},
   "outputs": [],
   "source": [
    "exec(open(\"./autoencoderhelperfunctions.py\").read())\n",
    "df = pd.read_csv(\"./101620_roman.csv\", index_col = 0)\n",
    "labels1 = pd.read_csv('./101420_romanvecs.csv', index_col = 0)\n",
    "#labels2 = labels1[~labels1.text.str.contains('і')].copy()\n",
    "#labels3 = labels2[~labels2.text.str.contains('стихия')].copy()\n",
    "#labels4 = labels3[~labels3.text.str.contains('стихии')].copy()\n",
    "#labels = labels4[~labels4.text.str.contains('стихает')].copy()\n",
    "labels = labels1.dropna()\n",
    "labels = labels.reset_index(drop = True)"
   ]
  },
  {
   "cell_type": "code",
   "execution_count": 5,
   "metadata": {},
   "outputs": [
    {
     "data": {
      "text/html": [
       "<div>\n",
       "<style scoped>\n",
       "    .dataframe tbody tr th:only-of-type {\n",
       "        vertical-align: middle;\n",
       "    }\n",
       "\n",
       "    .dataframe tbody tr th {\n",
       "        vertical-align: top;\n",
       "    }\n",
       "\n",
       "    .dataframe thead th {\n",
       "        text-align: right;\n",
       "    }\n",
       "</style>\n",
       "<table border=\"1\" class=\"dataframe\">\n",
       "  <thead>\n",
       "    <tr style=\"text-align: right;\">\n",
       "      <th></th>\n",
       "      <th>0</th>\n",
       "      <th>1</th>\n",
       "      <th>2</th>\n",
       "    </tr>\n",
       "  </thead>\n",
       "  <tbody>\n",
       "    <tr>\n",
       "      <th>0</th>\n",
       "      <td>-0.206629</td>\n",
       "      <td>0.108134</td>\n",
       "      <td>0.017197</td>\n",
       "    </tr>\n",
       "    <tr>\n",
       "      <th>1</th>\n",
       "      <td>-0.769393</td>\n",
       "      <td>0.782226</td>\n",
       "      <td>-0.482484</td>\n",
       "    </tr>\n",
       "    <tr>\n",
       "      <th>2</th>\n",
       "      <td>-0.273834</td>\n",
       "      <td>-0.048424</td>\n",
       "      <td>-0.572010</td>\n",
       "    </tr>\n",
       "    <tr>\n",
       "      <th>3</th>\n",
       "      <td>-0.625786</td>\n",
       "      <td>-0.068009</td>\n",
       "      <td>0.016747</td>\n",
       "    </tr>\n",
       "    <tr>\n",
       "      <th>4</th>\n",
       "      <td>-0.138776</td>\n",
       "      <td>0.212537</td>\n",
       "      <td>-0.044223</td>\n",
       "    </tr>\n",
       "  </tbody>\n",
       "</table>\n",
       "</div>"
      ],
      "text/plain": [
       "          0         1         2\n",
       "0 -0.206629  0.108134  0.017197\n",
       "1 -0.769393  0.782226 -0.482484\n",
       "2 -0.273834 -0.048424 -0.572010\n",
       "3 -0.625786 -0.068009  0.016747\n",
       "4 -0.138776  0.212537 -0.044223"
      ]
     },
     "execution_count": 5,
     "metadata": {},
     "output_type": "execute_result"
    }
   ],
   "source": [
    "og.head()"
   ]
  },
  {
   "cell_type": "code",
   "execution_count": 3,
   "metadata": {},
   "outputs": [],
   "source": [
    "og= df[['0','1','2']]"
   ]
  },
  {
   "cell_type": "code",
   "execution_count": 21,
   "metadata": {},
   "outputs": [
    {
     "name": "stdout",
     "output_type": "stream",
     "text": [
      "done\n",
      "done\n",
      "Accuracy: 0.9862068965517241\n"
     ]
    },
    {
     "data": {
      "text/plain": [
       "<matplotlib.axes._subplots.AxesSubplot at 0x2a4f82aeb70>"
      ]
     },
     "execution_count": 21,
     "metadata": {},
     "output_type": "execute_result"
    },
    {
     "data": {
      "image/png": "[encoded data removed]",
      "text/plain": [
       "<matplotlib.figure.Figure at 0x2a4f82ae2b0>"
      ]
     },
     "metadata": {},
     "output_type": "display_data"
    }
   ],
   "source": [
    "og2 = np.array(og) \n",
    "svm_ = return_hdbscansvm(og2, rf = False, svmc= 1000, txt_col = labels['text'], clust_size = 18, samp_size = 10, svmx = True, clust_metric = 'manhattan')\n",
    "\n",
    "make_graph(og2, svm_[0]['text'], svm_[1], colors = \"Inferno\", PCA = False)\n",
    "#X1 = og\n",
    "%matplotlib inline\n",
    "svm_[2].condensed_tree_.plot(select_clusters = False)"
   ]
  },
  {
   "cell_type": "code",
   "execution_count": 23,
   "metadata": {
    "scrolled": true
   },
   "outputs": [
    {
     "name": "stdout",
     "output_type": "stream",
     "text": [
      "\n",
      "\n",
      "TOPIC 0\n",
      "\n",
      "('Вспоминали старые истории о романах профессора Павленко, о войне, о жене Данькевича и еще многое другое.', 0)\n",
      "('повесть Авенариуса «Меньшой потешный».', 0)\n",
      "('...Прочел при керосиночке повесть в стихах Павла Антокольского «Сын».', 0)\n",
      "('Закончил новеллу о Горьком.', 0)\n",
      "('Это повесть о Литинституте.', 0)\n",
      "('Вчера статья А. Фадеева о повести Платонова «Впрок».', 0)\n",
      "('Конечно, зашла речь и о моем новом романе.', 0)\n",
      "('«Чрезвычайный посол» — философская повесть о Древнем Риме, о гениальном изобретателе, придумавшем пароходы и паровую скороварку.', 0)\n",
      "('Написал письмо — отзыв о повести Пришвина «Слово правды» Твардовскому<com id=\"15347095431424\"/>.', 0)\n",
      "('* Рассказы и повесть «Колония Ланфиер».', 0)\n",
      "\n",
      "\n",
      "TOPIC 1\n",
      "\n",
      "('Случайно прочла книжку какой-то Веледницкой «Моя повесть», там рассказ о Володиной смерти.', 1)\n",
      "('О последней повести — ее нет в дипломе, она о Литинституте, и «даже о людях, которые присутствуют в этой аудитории».', 1)\n",
      "('Александр Житинский, предисловие к роману:  \\n\\n>Дмитрий Каралис написал роман о предприимчивом человеке, другими словами — о предпринимателе.', 1)\n",
      "('Все думаю о романе и скитском житье.', 1)\n",
      "('В романе Фурманова «Мятеж» есть несколько ласковых строк об Алеше Колосове.', 1)\n",
      "('Он уже выступал о повести Герасимова и еще о чем-то.', 1)\n",
      "('Закончил чтение повести Эренбурга «Оттепель».', 1)\n",
      "('Хвалит мою новеллу о Шуберте.', 1)\n",
      "('Рассказ<ывал> Олег о своем романе с Никсом, который кончился.', 1)\n",
      "('Сделал перевод новеллы «Голубые мотыльки».', 1)\n",
      "\n",
      "\n",
      "TOPIC 2\n",
      "\n",
      "('Ефиму 30 лет, он — врач-гинеколог-акушер, говорим и о романе «Побежденные» Ирины Головкиной.', 2)\n",
      "('<...>  \\nПеречитал умную и радостную повесть Паустовского «Мещерская сторона» (1940).', 2)\n",
      "('Читал повесть, музицировали, было неплохо.', 2)\n",
      "('Обложился книгами о русском народном искусстве, фольклоре, перечитываю «Слово о полку Игореве», русские повести XVII века, сказки Пушкина, Гоголя и т. д.    \\nИнтересная тема и очень серьёзная.', 2)\n",
      "('Катаева за роман «Затмение Марса», 250 тыс.', 2)\n",
      "('А. Т.: — Самое главное, что я пишу о форме, о недостойной форме организации письма, а это уже снимает разговор о существе, содержании романа.', 2)\n",
      "('Достоевский проиграл свои шансы написать гениальную повесть о революционном движении.', 2)\n",
      "('...Утром неожиданный визит Померанца: ему захотелось продолжить разговор о романе.', 2)\n",
      "('Вечером читали вслух сборник научно-фантастических повестей «Новая планета» В. Рапирина.', 2)\n",
      "('Читал сегодня другую скандальную повесть «Собачий переулок» А. Гумилевского.', 2)\n",
      "\n",
      "\n",
      "TOPIC 3\n",
      "\n",
      "('По телевізії передавали двосерійний телефільм за романом Клауса Манна «Мефістофель».', 3)\n",
      "('Смотрел новую грузинскую фильму «Три жизни» по роману Церетелли.', 3)\n",
      "('Содержание «Некогда» составит первую часть новеллы.', 3)\n",
      "('Ужинали, слушали фантастическую новеллу, только что переведенную мною, а также новую пластинку — спектакль о Паганини.', 3)\n",
      "('Предложил им смотреть в «Москве» итальянский фильм «Невинный», поставленный по роману Г. Данунцио.', 3)\n",
      "('Я с интересом бы прочел его мнение о повести уже напечатанной.', 3)\n",
      "('Советовала прочесть самый «интеллектуальный» роман «Игра в бисер» Гессе.', 3)\n",
      "('Пошел посмотреть польскую экранизацию новеллы Г. Сенкевича «В пустыне и джунглях», которую когда-то давно видел.', 3)\n",
      "('положенные две страницы — занимался романом, это глава о собаке.', 3)\n",
      "('Вторую неделю на коротких волнах передавали новый роман Войновича.', 3)\n",
      "\n",
      "\n",
      "TOPIC 4\n",
      "\n",
      "('В 1966 году была опубликована документальная повесть «1000 дней академика Николая Вавилова», получившая отклик не только в СССР, но и во многих иностранных газетах, в частности о книге весьма одобрительно писала лондонская «Таймс».', 4)\n",
      "('В английских повестях этого века есть еще ирония, наполняющая каждую пору, ирония всеобщая.', 4)\n",
      "('— Но ведь «Гнев Диониса» бездарный роман!', 4)\n",
      "('Погляди на себя,   \\n>Прочитай очевидную повесть.', 4)\n",
      "('Действие самой повести — воспоминание.', 4)\n",
      "('Многие реалии детства и юности он включил в романы.', 4)\n",
      "('Поговорили о повести, в которой, я полагаю, первая часть более интересная, нежели вторая «динамичная».', 4)\n",
      "('Сюжетные песни, песни-фельетоны, новеллы, были очень хороши.', 4)\n",
      "('Актриса отбросила весь свой шарм и тонкости, никакого оттенка эстетизации, манерности, это шлюха и пьянь, ненавидящая всех, но в ее душе есть тяга к красивой жизни из романов, и за эти романы она глаза выцарапает.', 4)\n",
      "('Мысль такая: если сравнить фабулы повести Бориса Васильева «А зори здесь тихие», «Трех сестер» Чехова и даже «Униженных и оскорбленных» Достоевского, то окажется, что везде неестественность, везде литературщина, везде жизненная неправда.', 4)\n",
      "\n",
      "\n",
      "TOPIC 5\n",
      "\n",
      "('Прогулки в Кадриорге... Только у Калабашкина завязывается трогательный, хотя и грубый роман с эстонской медсестрой Эльзой.', 5)\n",
      "('роману «Пирамида»...    \\nПотом наш разговор перешел на «политику»: «1993 год — самый тяжелый год.', 5)\n",
      "('У меня сохранился его портрет, сделанный карандашом 8 августа 1978 года, и повесть «Предтеча» с его автографом.', 5)\n",
      "('Саня Скворцов прочитал и сказал, что Настя в романе любовно выписана.', 5)\n",
      "('Оказывается, под социальными романами тов.', 5)\n",
      "('Дивився виставу в нашому театрі «Сестра Керрі» за романом американського письменника Теодора Драйзера.', 5)\n",
      "('Переписывал повесть «Старец Н.» Кирилл принес обед: суп с галушками и каша пшенная без жиров с 3-мя огурцами.', 5)\n",
      "('Сартр снискал первую славу романом «La Nausée» («Тошнота») в 1937 году.', 5)\n",
      "('Здесь еще были Кураев с новым романом про надоевшую действительность, очеркист Борис Черных с сельской темой, Надежда Горлова с книгой «Покрывало Ребекки», профессорский роман Ал.', 5)\n",
      "('Пошел я в «Дом Печати» — где должны были собраться писатели, ждал часа два, но пришли только Фроман, Наппельбаум, Всев.', 5)\n",
      "\n",
      "\n",
      "TOPIC 6\n",
      "\n",
      "('Хотели, было, послать и меня, хотя накануне на совещании со Смирновым и Губаревым я договорился, что буду писать большую повесть с продолжением (единственное, что может оживить сейчас газету).', 6)\n",
      "('Он только что получил полторы странички отзыва о повести от Мих.', 6)\n",
      "('Его отъезд ориентировали два его больших поклонника — большеголовая, непрерывно осклабляющая аферистка и гризетка мадам Миллер, вызвавшаяся переводить его роман на все языки и, видимо, готовящаяся при этом его совершенно забрать.', 6)\n",
      "('м.»: «Она (газета) выступала против необъективного изображения будней Советской Армии в повести И. Грековой «На испытаниях», против ложных теорий «маленького человека», «малой правды» в рассказах А. Ткаченко, А Кузнецова, опубликованных журналом «Новый мир» Дальше упоминаются: «Поэма о разных точках зрения» Рождественского и «Затоваренная бочкотара» Аксенова, но уже без упоминания, где они были напечатаны.', 6)\n",
      "('О романе «В конце века любовь», из которого вышел «Вопрос», едва упомянуто было в двух-трех журналах.', 6)\n",
      "('После повести Евтушенко я задумался над тем, что удар кастетом был на самом деле...    \\nСтояли, разговаривали втроем или вчетвером.', 6)\n",
      "('Главные лица романа — это Глеб, Даша, а потом уже Бадьин, Мехова, Ивагин.', 6)\n",
      "('Юра Карасев, учившийся с нами в Литинституте, небесталанный, пьющий и добрый (в отличие от пьющих — злых) в свое время попал в «негры» к Рашидову и так и остался до конца в этой роли, больше ничего не написав — пять или шесть, или сколько их там, романов Рашидова, и вот вся его жизнь — с правительственными особняками в Ташкенте, личным поваром, коньяками и фруктами.', 6)\n",
      "('>Сюжетный посыл романа обозначен в аннотации: «Автор популярных женских романов и скандально известный режиссер отправляются за город писать киносценарий.', 6)\n",
      "('Что мне делать с романом, который я пишу на Нобелевскую премию?', 6)\n",
      "\n",
      "\n",
      "TOPIC 7\n",
      "\n",
      "('Замечательно, что между сотнями книг ни одной религиозной, даже ни одной научной — все повести и романы, и притом, большею частию низшего пошиба, вроде романов Золя.', 7)\n",
      "('В романах русских советских писателей даже самого раннего периода — эпохи «Цемента» Гладкова, «Брусков» Панферова — авторы смело ведут читателей в крупные советские учреждения, в Госплан, в ЦИК, в наркоматы, безбоязненно выводят руководителей, исторических деятелей.', 7)\n",
      "('автора] никогда не понимали, не хотели понять, что русские фильмы и романы, созданные за сорок лет, стремились с великолепной нетерпимостью основать искусство совершенно новое, которое ни чем не было бы обязано декадентским принципам нашего западного искусства».', 7)\n",
      "('Но одно бесспорно: в ячейках модернистского повествования есть отрывки, которые говорят об основном — проблем со словом и стилем у Ильи больше нет, а все остальное, при его напряженном стремлении думать, возможно, появится.', 7)\n",
      "('Чушь все это собачья, ненормативной лексики раз-два и обчелся, и в «Дрофе» мы и так безо всякого вреда для романа ее выжгли.', 7)\n",
      "('— Затем роман развивается, и роль доброго волшебника тоже видоизменяется.', 7)\n",
      "('Совсем как в романах Вальтер Скотта: зубчатые стены, башни, тяжелые ворота, ров, когда-то наполнявшийся водой.', 7)\n",
      "('Потом Абалкин переходит к той драматургии, что противостоит «мещанской тенденции», и приводит в пример инсценировку повести А. Калинина «Цыган», поставленную в год 50-летия Октября в 80-и театрах страны, и объясняет это тем, что «она наиболее полно отвечала духовной потребности зрителя».', 7)\n",
      "('Это небольшие новеллы из современной жизни, каждая из которых стилизованная, в зависимости от содержания, под кого-то из западных писателей.', 7)\n",
      "('Он перескочил к роману «Тля»<com id=\"1466324802410\"/> недавно вышедшему, действительно скандальному, антихудожественному, в котором слегка завуалированные вымышленными именами действуют плоские фигурки реальных участников литературной борьбы.', 7)\n",
      "\n",
      "\n",
      "TOPIC 8\n",
      "\n",
      "('И кончается повесть на этом мотиве: Дафнис наконец трахнул Хлою, и она поняла, что все, чем они занимались до того, было невинными забавами.', 8)\n",
      "('Играть интереснее, конечно, Агостена — если по сценарию; если по роману — Матамора можно сделать, но не просто и опять надо сталкиваться со сценарием.', 8)\n",
      "('И беда наша, оппонентов Аликато, что мы обо всем этом знаем больше, чем он, и мучимся этим, но вынуждены под страхом впадения в смертный грех делать вид, что ничего-таки не случилось, даже отводить от Кочетова обвинения чисто политического порядка, лепетать нечто о несовершенстве формы и т.п., давая возможность вопроса: а зачем такая большая статья в «НМ», зачем мы говорим об этом плохом романе так долго и с такой горячностью?<com id=\"148129086914210\"/>    \\nРазочарование в идеологии — эти слова М. А.<com id=\"148129086914211\"/> пришли мне здесь на память, и я вижу, что это так именно и есть.', 8)\n",
      "('Неужели я пишу романы каждый день и в таком количестве, что о появлении их в редакциях не говорят и не слышат.', 8)\n",
      "('Обычно им лет 20, и они пишут и пишут свои романы».', 8)\n",
      "('Сделана инсценировка так хорошо, с такими играми смыслов, что я снова подумал: такой специалист мог что-то сделать и с моим романом.', 8)\n",
      "('К этому времени я уже прочел и роман «Мы», который тоже, естественно, не знал.', 8)\n",
      "('И если бы писать, то я стал бы писать политический роман.', 8)\n",
      "('Александрийская грусть (это же я чувствую и в «Голубой Звезде» Зайцева, и в «Вороне» О.Форш, и в некоторых романах и повестях М.Кузмина, и во всем символистическом искусстве той поры).', 8)\n",
      "('Вообще сценаристы не знают твердо, что им делать с Гобсеком и с другими персонажами бальзаковской повести.', 8)\n",
      "\n",
      "\n",
      "TOPIC 9\n",
      "\n",
      "('Недаром за эту повесть получил премию, а если бы это было еще при советской власти, при тогдашних оценках и критериях — не идеологических, а художественных — эта вещь сделала бы меня архизнаменитым.', 9)\n",
      "('Газеты»), что    \\n1. романа он не читал,    \\n2. не читал и своего предисловия, так как это предисловие в порядке саморекламы сочинил сам автор «Тли».', 9)\n",
      "('Сдается мне, что мой пролог к «логическому» роману превращается, не начавшись, в повествование о женщинах, с кем я дружил, кого любил, кто любил меня.', 9)\n",
      "('Писал, потом открыл томик Астафьева; сначала краем глаза, заставляя себя отвлечься и отгоняя навязчивые мысли, потом постепенно увлекся, отошел, отмяк душой и прочитал повести «Стародуб» и «А где-то шла война».', 9)\n",
      "('«Портрет художника в юности» тоже традиционный роман, порой тяжеловесно офилософленный, там где Аквинский и пр., но есть места—- подступы к «потоку сознания», на грани новаторства, но еще в пределах старых форм.', 9)\n",
      "('Это роман о художнике, но, к сожалению, такие имитаторы оказались очень живучи, куда от них денешься... Большую роль в моем становлении сыграл журнал «Юность», его все тогда читали.', 9)\n",
      "('Прочла 50 страниц романа А. Белого «Петербург», очень много мыслей относительно композиционных приемов Белого.', 9)\n",
      "('Открыл сборник, там мой Андрей Коротеев, его дипломная работа «Пришлые люди», но начал читать повесть Адрианы Самаркандовой «Гепард и львенок», прельстившись заявлением Ольги Славниковой, что это как бы набоковская «Лолита», написанная от лица четырнадцатилетней героини.', 9)\n",
      "('Наука получила такое значение, о котором раньше писалось только в фантастических романах.', 9)\n",
      "('Она даже спела хриплым и чувствительным, почти цыганским голосом романс.', 9)\n"
     ]
    }
   ],
   "source": [
    "dice = range(0,10)\n",
    "for_tatyana = []\n",
    "for i in dice:\n",
    "    temp = svm_[0][svm_[0][i] == 1]\n",
    "    res = temp['text'].sample(n=10, random_state=7)\n",
    "    res = res.reset_index(drop = True)\n",
    "    for_tatyana.append(res)\n",
    "    \n",
    "    \n",
    "for j, i in enumerate(for_tatyana):\n",
    "    print('\\n')\n",
    "    print('TOPIC' + ' ' + str(j) + '\\n')\n",
    "    for n in i:\n",
    "        print(n)"
   ]
  },
  {
   "cell_type": "code",
   "execution_count": 33,
   "metadata": {},
   "outputs": [
    {
     "data": {
      "text/plain": [
       "array([15, 21, 18, ..., 16,  6,  9])"
      ]
     },
     "execution_count": 33,
     "metadata": {},
     "output_type": "execute_result"
    }
   ],
   "source": [
    " svm_[1]"
   ]
  },
  {
   "cell_type": "code",
   "execution_count": 24,
   "metadata": {},
   "outputs": [],
   "source": [
    "df['entry_type'] =  svm_[1]\n",
    "df.to_csv('./101820_stikhicats.csv')"
   ]
  },
  {
   "cell_type": "code",
   "execution_count": null,
   "metadata": {},
   "outputs": [],
   "source": []
  }
 ],
 "metadata": {
  "kernelspec": {
   "display_name": "Python 3",
   "language": "python",
   "name": "python3"
  },
  "language_info": {
   "codemirror_mode": {
    "name": "ipython",
    "version": 3
   },
   "file_extension": ".py",
   "mimetype": "text/x-python",
   "name": "python",
   "nbconvert_exporter": "python",
   "pygments_lexer": "ipython3",
   "version": "3.6.4"
  }
 },
 "nbformat": 4,
 "nbformat_minor": 2
}

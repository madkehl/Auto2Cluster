{
 "cells": [
  {
   "cell_type": "code",
   "execution_count": 1,
   "metadata": {},
   "outputs": [],
   "source": [
    "import pandas as pd\n",
    "import numpy as np\n",
    "import statsmodels.api as sm\n",
    "import statsmodels.formula.api as smf\n",
    "import plotly\n",
    "import plotly.graph_objects as go\n",
    "\n",
    "pd.options.mode.chained_assignment = None"
   ]
  },
  {
   "cell_type": "code",
   "execution_count": 2,
   "metadata": {},
   "outputs": [],
   "source": [
    "df_dnevnik = pd.read_csv('../hdbscan/data/072420_dnevnikcats.csv', index_col = 0)"
   ]
  },
  {
   "cell_type": "code",
   "execution_count": 3,
   "metadata": {},
   "outputs": [
    {
     "data": {
      "text/html": [
       "<div>\n",
       "<style scoped>\n",
       "    .dataframe tbody tr th:only-of-type {\n",
       "        vertical-align: middle;\n",
       "    }\n",
       "\n",
       "    .dataframe tbody tr th {\n",
       "        vertical-align: top;\n",
       "    }\n",
       "\n",
       "    .dataframe thead th {\n",
       "        text-align: right;\n",
       "    }\n",
       "</style>\n",
       "<table border=\"1\" class=\"dataframe\">\n",
       "  <thead>\n",
       "    <tr style=\"text-align: right;\">\n",
       "      <th></th>\n",
       "      <th>X</th>\n",
       "      <th>index</th>\n",
       "      <th>entry_id</th>\n",
       "      <th>entry_year</th>\n",
       "      <th>firstName</th>\n",
       "      <th>info</th>\n",
       "      <th>lastName</th>\n",
       "      <th>pub</th>\n",
       "      <th>au_clust</th>\n",
       "      <th>diarynum</th>\n",
       "      <th>...</th>\n",
       "      <th>entry_type</th>\n",
       "      <th>is_au</th>\n",
       "      <th>gender</th>\n",
       "      <th>au_clust_2</th>\n",
       "      <th>isNotes</th>\n",
       "      <th>isRoutine</th>\n",
       "      <th>isPersonal</th>\n",
       "      <th>isLit</th>\n",
       "      <th>isSpirit</th>\n",
       "      <th>isForm</th>\n",
       "    </tr>\n",
       "  </thead>\n",
       "  <tbody>\n",
       "    <tr>\n",
       "      <th>1</th>\n",
       "      <td>0</td>\n",
       "      <td>0</td>\n",
       "      <td>1506</td>\n",
       "      <td>1919</td>\n",
       "      <td>NaN</td>\n",
       "      <td>NaN</td>\n",
       "      <td>NaN</td>\n",
       "      <td>0</td>\n",
       "      <td>8</td>\n",
       "      <td>2</td>\n",
       "      <td>...</td>\n",
       "      <td>35</td>\n",
       "      <td>0</td>\n",
       "      <td>-1</td>\n",
       "      <td>7</td>\n",
       "      <td>0</td>\n",
       "      <td>0</td>\n",
       "      <td>0</td>\n",
       "      <td>0</td>\n",
       "      <td>1</td>\n",
       "      <td>0</td>\n",
       "    </tr>\n",
       "    <tr>\n",
       "      <th>2</th>\n",
       "      <td>1</td>\n",
       "      <td>1</td>\n",
       "      <td>1504</td>\n",
       "      <td>1919</td>\n",
       "      <td>NaN</td>\n",
       "      <td>NaN</td>\n",
       "      <td>NaN</td>\n",
       "      <td>0</td>\n",
       "      <td>8</td>\n",
       "      <td>2</td>\n",
       "      <td>...</td>\n",
       "      <td>21</td>\n",
       "      <td>0</td>\n",
       "      <td>-1</td>\n",
       "      <td>7</td>\n",
       "      <td>0</td>\n",
       "      <td>0</td>\n",
       "      <td>0</td>\n",
       "      <td>0</td>\n",
       "      <td>1</td>\n",
       "      <td>0</td>\n",
       "    </tr>\n",
       "    <tr>\n",
       "      <th>3</th>\n",
       "      <td>2</td>\n",
       "      <td>3</td>\n",
       "      <td>1497</td>\n",
       "      <td>1919</td>\n",
       "      <td>NaN</td>\n",
       "      <td>NaN</td>\n",
       "      <td>NaN</td>\n",
       "      <td>0</td>\n",
       "      <td>8</td>\n",
       "      <td>2</td>\n",
       "      <td>...</td>\n",
       "      <td>34</td>\n",
       "      <td>0</td>\n",
       "      <td>-1</td>\n",
       "      <td>7</td>\n",
       "      <td>0</td>\n",
       "      <td>0</td>\n",
       "      <td>0</td>\n",
       "      <td>0</td>\n",
       "      <td>1</td>\n",
       "      <td>0</td>\n",
       "    </tr>\n",
       "    <tr>\n",
       "      <th>4</th>\n",
       "      <td>3</td>\n",
       "      <td>4</td>\n",
       "      <td>1488</td>\n",
       "      <td>1919</td>\n",
       "      <td>NaN</td>\n",
       "      <td>NaN</td>\n",
       "      <td>NaN</td>\n",
       "      <td>0</td>\n",
       "      <td>8</td>\n",
       "      <td>2</td>\n",
       "      <td>...</td>\n",
       "      <td>32</td>\n",
       "      <td>0</td>\n",
       "      <td>-1</td>\n",
       "      <td>7</td>\n",
       "      <td>0</td>\n",
       "      <td>0</td>\n",
       "      <td>0</td>\n",
       "      <td>1</td>\n",
       "      <td>0</td>\n",
       "      <td>0</td>\n",
       "    </tr>\n",
       "    <tr>\n",
       "      <th>5</th>\n",
       "      <td>4</td>\n",
       "      <td>6</td>\n",
       "      <td>1488</td>\n",
       "      <td>1919</td>\n",
       "      <td>NaN</td>\n",
       "      <td>NaN</td>\n",
       "      <td>NaN</td>\n",
       "      <td>0</td>\n",
       "      <td>8</td>\n",
       "      <td>2</td>\n",
       "      <td>...</td>\n",
       "      <td>23</td>\n",
       "      <td>0</td>\n",
       "      <td>-1</td>\n",
       "      <td>7</td>\n",
       "      <td>0</td>\n",
       "      <td>0</td>\n",
       "      <td>0</td>\n",
       "      <td>0</td>\n",
       "      <td>1</td>\n",
       "      <td>0</td>\n",
       "    </tr>\n",
       "  </tbody>\n",
       "</table>\n",
       "<p>5 rows × 27 columns</p>\n",
       "</div>"
      ],
      "text/plain": [
       "   X  index  entry_id  entry_year firstName info lastName  pub  au_clust  \\\n",
       "1  0      0      1506        1919       NaN  NaN      NaN    0         8   \n",
       "2  1      1      1504        1919       NaN  NaN      NaN    0         8   \n",
       "3  2      3      1497        1919       NaN  NaN      NaN    0         8   \n",
       "4  3      4      1488        1919       NaN  NaN      NaN    0         8   \n",
       "5  4      6      1488        1919       NaN  NaN      NaN    0         8   \n",
       "\n",
       "   diarynum  ...  entry_type  is_au  gender au_clust_2  isNotes  isRoutine  \\\n",
       "1         2  ...          35      0      -1          7        0          0   \n",
       "2         2  ...          21      0      -1          7        0          0   \n",
       "3         2  ...          34      0      -1          7        0          0   \n",
       "4         2  ...          32      0      -1          7        0          0   \n",
       "5         2  ...          23      0      -1          7        0          0   \n",
       "\n",
       "   isPersonal  isLit  isSpirit  isForm  \n",
       "1           0      0         1       0  \n",
       "2           0      0         1       0  \n",
       "3           0      0         1       0  \n",
       "4           0      1         0       0  \n",
       "5           0      0         1       0  \n",
       "\n",
       "[5 rows x 27 columns]"
      ]
     },
     "execution_count": 3,
     "metadata": {},
     "output_type": "execute_result"
    }
   ],
   "source": [
    "df_dnevnik.head()"
   ]
  },
  {
   "cell_type": "code",
   "execution_count": 4,
   "metadata": {},
   "outputs": [],
   "source": [
    "\n",
    "df_dnev_cat =  df_dnevnik[['entry_year','diarynum','isNotes','is_au','isRoutine', 'isPersonal', 'isLit', 'isSpirit', 'isForm']]"
   ]
  },
  {
   "cell_type": "code",
   "execution_count": 5,
   "metadata": {},
   "outputs": [],
   "source": [
    "df_dnev_cat['is_hun'] = [1 if i < 1911 else 0 for i in df_dnev_cat['entry_year']]\n",
    "df_dnev_cat['is_ten'] = [1 if (i > 1910 and i < 1921) else 0 for i in df_dnev_cat['entry_year']]\n",
    "df_dnev_cat['is_twe'] = [1 if (i > 1920 and i < 1931) else 0 for i in df_dnev_cat['entry_year']]\n",
    "df_dnev_cat['is_thi'] = [1 if (i > 1930 and i < 1941) else 0 for i in df_dnev_cat['entry_year']]\n",
    "df_dnev_cat['is_for'] = [1 if (i > 1940 and i < 1951) else 0 for i in df_dnev_cat['entry_year']]\n",
    "df_dnev_cat['is_fif'] = [1 if (i > 1950 and i < 1961) else 0 for i in df_dnev_cat['entry_year']]\n",
    "df_dnev_cat['is_six'] = [1 if (i > 1960 and i < 1971) else 0 for i in df_dnev_cat['entry_year']]\n",
    "df_dnev_cat['is_sev'] = [1 if (i > 1970 and i < 1981) else 0 for i in df_dnev_cat['entry_year']]\n",
    "df_dnev_cat['is_eig'] = [1 if (i > 1980 and i < 1991) else 0 for i in df_dnev_cat['entry_year']]"
   ]
  },
  {
   "cell_type": "code",
   "execution_count": 6,
   "metadata": {},
   "outputs": [],
   "source": [
    "def mlm(str_x, str_y, str_group, df, nested):\n",
    "    '''\n",
    "    INPUT:\n",
    "    string of independent var, string of dependent var, string of group, df hosting, string of nested group if relevant\n",
    "    \n",
    "    OUTPUT:\n",
    "    a statsmodel instance of a mixed effects/multilevel model\n",
    "    \n",
    "    '''\n",
    "    if isinstance(nested, str):\n",
    "        vcf = {nested: \"0 +C(\" + nested + \")\"}\n",
    "    else:\n",
    "        vcf = None\n",
    "    model = str_y + \" ~ \" + str_x\n",
    "    md = smf.mixedlm(model, df, groups = df[str_group], vc_formula = vcf)\n",
    "    mdf = md.fit()\n",
    "    return(mdf)"
   ]
  },
  {
   "cell_type": "code",
   "execution_count": 7,
   "metadata": {},
   "outputs": [
    {
     "name": "stdout",
     "output_type": "stream",
     "text": [
      "         Mixed Linear Model Regression Results\n",
      "========================================================\n",
      "Model:            MixedLM Dependent Variable: is_hun    \n",
      "No. Observations: 14513   Method:             REML      \n",
      "No. Groups:       885     Scale:              0.0113    \n",
      "Min. group size:  1       Log-Likelihood:     10375.6586\n",
      "Max. group size:  594     Converged:          Yes       \n",
      "Mean group size:  16.4                                  \n",
      "--------------------------------------------------------\n",
      "              Coef.  Std.Err.   z    P>|z| [0.025 0.975]\n",
      "--------------------------------------------------------\n",
      "Intercept      0.063    0.009  6.740 0.000  0.045  0.082\n",
      "isLit         -0.006    0.003 -1.600 0.110 -0.012  0.001\n",
      "is_au          0.034    0.020  1.666 0.096 -0.006  0.074\n",
      "isLit:is_au    0.009    0.005  1.687 0.092 -0.001  0.019\n",
      "Group Var      0.057    0.028                           \n",
      "========================================================\n",
      "\n",
      "         Mixed Linear Model Regression Results\n",
      "=======================================================\n",
      "Model:            MixedLM Dependent Variable: is_ten   \n",
      "No. Observations: 14513   Method:             REML     \n",
      "No. Groups:       885     Scale:              0.0339   \n",
      "Min. group size:  1       Log-Likelihood:     2618.9737\n",
      "Max. group size:  594     Converged:          Yes      \n",
      "Mean group size:  16.4                                 \n",
      "-------------------------------------------------------\n",
      "             Coef.  Std.Err.   z    P>|z| [0.025 0.975]\n",
      "-------------------------------------------------------\n",
      "Intercept     0.165    0.013 12.615 0.000  0.139  0.190\n",
      "isLit        -0.006    0.006 -1.046 0.295 -0.018  0.006\n",
      "is_au        -0.039    0.028 -1.386 0.166 -0.094  0.016\n",
      "isLit:is_au  -0.003    0.009 -0.380 0.704 -0.021  0.014\n",
      "Group Var     0.107    0.031                           \n",
      "=======================================================\n",
      "\n",
      "         Mixed Linear Model Regression Results\n",
      "=======================================================\n",
      "Model:            MixedLM Dependent Variable: is_twe   \n",
      "No. Observations: 14513   Method:             REML     \n",
      "No. Groups:       885     Scale:              0.0363   \n",
      "Min. group size:  1       Log-Likelihood:     2362.3187\n",
      "Max. group size:  594     Converged:          Yes      \n",
      "Mean group size:  16.4                                 \n",
      "-------------------------------------------------------\n",
      "             Coef.  Std.Err.   z    P>|z| [0.025 0.975]\n",
      "-------------------------------------------------------\n",
      "Intercept     0.092    0.010  8.997 0.000  0.072  0.112\n",
      "isLit         0.007    0.006  1.179 0.239 -0.005  0.020\n",
      "is_au         0.006    0.022  0.270 0.787 -0.037  0.049\n",
      "isLit:is_au  -0.010    0.009 -1.081 0.280 -0.029  0.008\n",
      "Group Var     0.061    0.018                           \n",
      "=======================================================\n",
      "\n",
      "         Mixed Linear Model Regression Results\n",
      "=======================================================\n",
      "Model:            MixedLM Dependent Variable: is_thi   \n",
      "No. Observations: 14513   Method:             REML     \n",
      "No. Groups:       885     Scale:              0.0337   \n",
      "Min. group size:  1       Log-Likelihood:     2817.1939\n",
      "Max. group size:  594     Converged:          Yes      \n",
      "Mean group size:  16.4                                 \n",
      "-------------------------------------------------------\n",
      "             Coef.  Std.Err.   z    P>|z| [0.025 0.975]\n",
      "-------------------------------------------------------\n",
      "Intercept     0.110    0.011 10.240 0.000  0.089  0.132\n",
      "isLit        -0.007    0.006 -1.216 0.224 -0.019  0.004\n",
      "is_au        -0.021    0.023 -0.913 0.361 -0.067  0.024\n",
      "isLit:is_au   0.007    0.009  0.717 0.474 -0.011  0.024\n",
      "Group Var     0.070    0.021                           \n",
      "=======================================================\n",
      "\n",
      "         Mixed Linear Model Regression Results\n",
      "=======================================================\n",
      "Model:            MixedLM Dependent Variable: is_for   \n",
      "No. Observations: 14513   Method:             REML     \n",
      "No. Groups:       885     Scale:              0.0352   \n",
      "Min. group size:  1       Log-Likelihood:     2136.8424\n",
      "Max. group size:  594     Converged:          Yes      \n",
      "Mean group size:  16.4                                 \n",
      "-------------------------------------------------------\n",
      "             Coef.  Std.Err.   z    P>|z| [0.025 0.975]\n",
      "-------------------------------------------------------\n",
      "Intercept     0.363    0.017 21.503 0.000  0.330  0.396\n",
      "isLit         0.004    0.006  0.600 0.548 -0.008  0.016\n",
      "is_au        -0.162    0.037 -4.435 0.000 -0.233 -0.090\n",
      "isLit:is_au  -0.005    0.009 -0.511 0.610 -0.023  0.014\n",
      "Group Var     0.186    0.052                           \n",
      "=======================================================\n",
      "\n",
      "         Mixed Linear Model Regression Results\n",
      "=======================================================\n",
      "Model:            MixedLM Dependent Variable: is_fif   \n",
      "No. Observations: 14513   Method:             REML     \n",
      "No. Groups:       885     Scale:              0.0185   \n",
      "Min. group size:  1       Log-Likelihood:     7220.2551\n",
      "Max. group size:  594     Converged:          Yes      \n",
      "Mean group size:  16.4                                 \n",
      "-------------------------------------------------------\n",
      "             Coef.  Std.Err.   z    P>|z| [0.025 0.975]\n",
      "-------------------------------------------------------\n",
      "Intercept     0.048    0.008  6.429 0.000  0.034  0.063\n",
      "isLit        -0.004    0.004 -0.880 0.379 -0.013  0.005\n",
      "is_au         0.020    0.016  1.229 0.219 -0.012  0.051\n",
      "isLit:is_au  -0.003    0.007 -0.440 0.660 -0.016  0.010\n",
      "Group Var     0.033    0.014                           \n",
      "=======================================================\n",
      "\n",
      "         Mixed Linear Model Regression Results\n",
      "=======================================================\n",
      "Model:            MixedLM Dependent Variable: is_six   \n",
      "No. Observations: 14513   Method:             REML     \n",
      "No. Groups:       885     Scale:              0.0320   \n",
      "Min. group size:  1       Log-Likelihood:     3493.6910\n",
      "Max. group size:  594     Converged:          Yes      \n",
      "Mean group size:  16.4                                 \n",
      "-------------------------------------------------------\n",
      "             Coef.  Std.Err.   z    P>|z| [0.025 0.975]\n",
      "-------------------------------------------------------\n",
      "Intercept     0.040    0.008  5.280 0.000  0.025  0.055\n",
      "isLit         0.004    0.006  0.746 0.456 -0.007  0.016\n",
      "is_au         0.062    0.016  3.865 0.000  0.031  0.094\n",
      "isLit:is_au  -0.006    0.009 -0.691 0.490 -0.024  0.011\n",
      "Group Var     0.030    0.010                           \n",
      "=======================================================\n",
      "\n",
      "         Mixed Linear Model Regression Results\n",
      "=======================================================\n",
      "Model:            MixedLM Dependent Variable: is_sev   \n",
      "No. Observations: 14513   Method:             REML     \n",
      "No. Groups:       885     Scale:              0.0263   \n",
      "Min. group size:  1       Log-Likelihood:     4982.3248\n",
      "Max. group size:  594     Converged:          Yes      \n",
      "Mean group size:  16.4                                 \n",
      "-------------------------------------------------------\n",
      "             Coef.  Std.Err.   z    P>|z| [0.025 0.975]\n",
      "-------------------------------------------------------\n",
      "Intercept     0.031    0.006  4.942 0.000  0.019  0.043\n",
      "isLit         0.011    0.005  2.061 0.039  0.001  0.021\n",
      "is_au         0.037    0.013  2.754 0.006  0.011  0.063\n",
      "isLit:is_au  -0.004    0.008 -0.497 0.619 -0.020  0.012\n",
      "Group Var     0.020    0.008                           \n",
      "=======================================================\n",
      "\n",
      "         Mixed Linear Model Regression Results\n",
      "=======================================================\n",
      "Model:            MixedLM Dependent Variable: is_eig   \n",
      "No. Observations: 14513   Method:             REML     \n",
      "No. Groups:       885     Scale:              0.0290   \n",
      "Min. group size:  1       Log-Likelihood:     4116.3087\n",
      "Max. group size:  594     Converged:          Yes      \n",
      "Mean group size:  16.4                                 \n",
      "-------------------------------------------------------\n",
      "             Coef.  Std.Err.   z    P>|z| [0.025 0.975]\n",
      "-------------------------------------------------------\n",
      "Intercept     0.050    0.008  6.286 0.000  0.034  0.066\n",
      "isLit         0.009    0.006  1.533 0.125 -0.002  0.019\n",
      "is_au         0.026    0.017  1.500 0.134 -0.008  0.059\n",
      "isLit:is_au  -0.011    0.008 -1.358 0.175 -0.028  0.005\n",
      "Group Var     0.035    0.012                           \n",
      "=======================================================\n",
      "\n"
     ]
    }
   ],
   "source": [
    "decade_ls = ['is_hun', 'is_ten', 'is_twe', 'is_thi', 'is_for', 'is_fif', 'is_six', 'is_sev', 'is_eig']\n",
    "multilevel_models = []\n",
    "for i in decade_ls:\n",
    "    mlm_i = mlm(str_x = 'isLit*is_au', str_y = str(i), str_group = 'diarynum', df= df_dnev_cat, nested = None)\n",
    "    multilevel_models.append(mlm_i)\n",
    "    print(mlm_i.summary())"
   ]
  },
  {
   "cell_type": "code",
   "execution_count": 8,
   "metadata": {},
   "outputs": [],
   "source": [
    "mlm_results = pd.DataFrame({\n",
    "    \n",
    "    'features': decade_ls,\n",
    "    'pvalues':[i.pvalues[1] for i in multilevel_models],\n",
    "    'coef': [i.params[1] for i in multilevel_models],\n",
    "    'conf_int_025': [i.conf_int()[0][1] for i in multilevel_models],\n",
    "    'conf_int_975': [i.conf_int()[1][1] for i in multilevel_models]\n",
    "    \n",
    "})"
   ]
  },
  {
   "cell_type": "code",
   "execution_count": 9,
   "metadata": {},
   "outputs": [
    {
     "data": {
      "text/html": [
       "<style  type=\"text/css\" >\n",
       "#T_d61ff7a4_19f3_11eb_aff2_8cec4b0ec919row0_col1{\n",
       "            background-color:  #e9e5f1;\n",
       "            color:  #000000;\n",
       "        }#T_d61ff7a4_19f3_11eb_aff2_8cec4b0ec919row1_col1{\n",
       "            background-color:  #73a9cf;\n",
       "            color:  #000000;\n",
       "        }#T_d61ff7a4_19f3_11eb_aff2_8cec4b0ec919row2_col1{\n",
       "            background-color:  #9fbad9;\n",
       "            color:  #000000;\n",
       "        }#T_d61ff7a4_19f3_11eb_aff2_8cec4b0ec919row3_col1{\n",
       "            background-color:  #abbfdc;\n",
       "            color:  #000000;\n",
       "        }#T_d61ff7a4_19f3_11eb_aff2_8cec4b0ec919row4_col1{\n",
       "            background-color:  #023858;\n",
       "            color:  #f1f1f1;\n",
       "        }#T_d61ff7a4_19f3_11eb_aff2_8cec4b0ec919row5_col1{\n",
       "            background-color:  #2685bb;\n",
       "            color:  #000000;\n",
       "        }#T_d61ff7a4_19f3_11eb_aff2_8cec4b0ec919row6_col1{\n",
       "            background-color:  #04649d;\n",
       "            color:  #f1f1f1;\n",
       "        }#T_d61ff7a4_19f3_11eb_aff2_8cec4b0ec919row7_col1{\n",
       "            background-color:  #fff7fb;\n",
       "            color:  #000000;\n",
       "        }#T_d61ff7a4_19f3_11eb_aff2_8cec4b0ec919row8_col1{\n",
       "            background-color:  #e2dfee;\n",
       "            color:  #000000;\n",
       "        }</style><table id=\"T_d61ff7a4_19f3_11eb_aff2_8cec4b0ec919\" ><thead>    <tr>        <th class=\"blank level0\" ></th>        <th class=\"col_heading level0 col0\" >features</th>        <th class=\"col_heading level0 col1\" >pvalues</th>    </tr></thead><tbody>\n",
       "                <tr>\n",
       "                        <th id=\"T_d61ff7a4_19f3_11eb_aff2_8cec4b0ec919level0_row0\" class=\"row_heading level0 row0\" >0</th>\n",
       "                        <td id=\"T_d61ff7a4_19f3_11eb_aff2_8cec4b0ec919row0_col0\" class=\"data row0 col0\" >is_hun</td>\n",
       "                        <td id=\"T_d61ff7a4_19f3_11eb_aff2_8cec4b0ec919row0_col1\" class=\"data row0 col1\" >0.109695</td>\n",
       "            </tr>\n",
       "            <tr>\n",
       "                        <th id=\"T_d61ff7a4_19f3_11eb_aff2_8cec4b0ec919level0_row1\" class=\"row_heading level0 row1\" >1</th>\n",
       "                        <td id=\"T_d61ff7a4_19f3_11eb_aff2_8cec4b0ec919row1_col0\" class=\"data row1 col0\" >is_ten</td>\n",
       "                        <td id=\"T_d61ff7a4_19f3_11eb_aff2_8cec4b0ec919row1_col1\" class=\"data row1 col1\" >0.295406</td>\n",
       "            </tr>\n",
       "            <tr>\n",
       "                        <th id=\"T_d61ff7a4_19f3_11eb_aff2_8cec4b0ec919level0_row2\" class=\"row_heading level0 row2\" >2</th>\n",
       "                        <td id=\"T_d61ff7a4_19f3_11eb_aff2_8cec4b0ec919row2_col0\" class=\"data row2 col0\" >is_twe</td>\n",
       "                        <td id=\"T_d61ff7a4_19f3_11eb_aff2_8cec4b0ec919row2_col1\" class=\"data row2 col1\" >0.238565</td>\n",
       "            </tr>\n",
       "            <tr>\n",
       "                        <th id=\"T_d61ff7a4_19f3_11eb_aff2_8cec4b0ec919level0_row3\" class=\"row_heading level0 row3\" >3</th>\n",
       "                        <td id=\"T_d61ff7a4_19f3_11eb_aff2_8cec4b0ec919row3_col0\" class=\"data row3 col0\" >is_thi</td>\n",
       "                        <td id=\"T_d61ff7a4_19f3_11eb_aff2_8cec4b0ec919row3_col1\" class=\"data row3 col1\" >0.223913</td>\n",
       "            </tr>\n",
       "            <tr>\n",
       "                        <th id=\"T_d61ff7a4_19f3_11eb_aff2_8cec4b0ec919level0_row4\" class=\"row_heading level0 row4\" >4</th>\n",
       "                        <td id=\"T_d61ff7a4_19f3_11eb_aff2_8cec4b0ec919row4_col0\" class=\"data row4 col0\" >is_for</td>\n",
       "                        <td id=\"T_d61ff7a4_19f3_11eb_aff2_8cec4b0ec919row4_col1\" class=\"data row4 col1\" >0.548398</td>\n",
       "            </tr>\n",
       "            <tr>\n",
       "                        <th id=\"T_d61ff7a4_19f3_11eb_aff2_8cec4b0ec919level0_row5\" class=\"row_heading level0 row5\" >5</th>\n",
       "                        <td id=\"T_d61ff7a4_19f3_11eb_aff2_8cec4b0ec919row5_col0\" class=\"data row5 col0\" >is_fif</td>\n",
       "                        <td id=\"T_d61ff7a4_19f3_11eb_aff2_8cec4b0ec919row5_col1\" class=\"data row5 col1\" >0.378711</td>\n",
       "            </tr>\n",
       "            <tr>\n",
       "                        <th id=\"T_d61ff7a4_19f3_11eb_aff2_8cec4b0ec919level0_row6\" class=\"row_heading level0 row6\" >6</th>\n",
       "                        <td id=\"T_d61ff7a4_19f3_11eb_aff2_8cec4b0ec919row6_col0\" class=\"data row6 col0\" >is_six</td>\n",
       "                        <td id=\"T_d61ff7a4_19f3_11eb_aff2_8cec4b0ec919row6_col1\" class=\"data row6 col1\" >0.455841</td>\n",
       "            </tr>\n",
       "            <tr>\n",
       "                        <th id=\"T_d61ff7a4_19f3_11eb_aff2_8cec4b0ec919level0_row7\" class=\"row_heading level0 row7\" >7</th>\n",
       "                        <td id=\"T_d61ff7a4_19f3_11eb_aff2_8cec4b0ec919row7_col0\" class=\"data row7 col0\" >is_sev</td>\n",
       "                        <td id=\"T_d61ff7a4_19f3_11eb_aff2_8cec4b0ec919row7_col1\" class=\"data row7 col1\" >0.039285</td>\n",
       "            </tr>\n",
       "            <tr>\n",
       "                        <th id=\"T_d61ff7a4_19f3_11eb_aff2_8cec4b0ec919level0_row8\" class=\"row_heading level0 row8\" >8</th>\n",
       "                        <td id=\"T_d61ff7a4_19f3_11eb_aff2_8cec4b0ec919row8_col0\" class=\"data row8 col0\" >is_eig</td>\n",
       "                        <td id=\"T_d61ff7a4_19f3_11eb_aff2_8cec4b0ec919row8_col1\" class=\"data row8 col1\" >0.125196</td>\n",
       "            </tr>\n",
       "    </tbody></table>"
      ],
      "text/plain": [
       "<pandas.io.formats.style.Styler at 0x2a678cc02b0>"
      ]
     },
     "execution_count": 9,
     "metadata": {},
     "output_type": "execute_result"
    }
   ],
   "source": [
    "mlm_results[['features', 'pvalues']].style.background_gradient()"
   ]
  },
  {
   "cell_type": "code",
   "execution_count": 16,
   "metadata": {},
   "outputs": [],
   "source": [
    "\n",
    "def plot_sig_results(sig_df):\n",
    "    '''\n",
    "    INPUT: df of results, significant features\n",
    "    \n",
    "    \n",
    "    OUTPUT: graphs\n",
    "    '''\n",
    "    \n",
    "    fig = go.Figure()\n",
    "\n",
    "    fig.add_trace(go.Bar(x=sig_df['features'], y = sig_df['coef'], name = 'Ratings_Score_Top_Coef', \n",
    "                     marker=dict(color =   sig_df['pvalues'],\n",
    "                                 colorscale='cividis',   # choose a colorscale\n",
    "                                 opacity=0.8,\n",
    "                                 showscale = True\n",
    "                                ), \n",
    "                     error_y=dict(type='data',\n",
    "                                array= list(sig_df['conf_int_975'] - sig_df['conf_int_025']),\n",
    "                                visible=True)\n",
    "                                ))\n",
    "    return(fig)"
   ]
  },
  {
   "cell_type": "code",
   "execution_count": 17,
   "metadata": {},
   "outputs": [
    {
     "data": {
      "application/vnd.plotly.v1+json": {
       "config": {
        "plotlyServerURL": "https://plot.ly"
       },
       "data": [
        {
         "error_y": {
          "array": [
           0.013682742199656348,
           0.02362694946321056,
           0.024387502464492866,
           0.02352917145901845,
           0.024115049720037692,
           0.017421976866363154,
           0.02278844007810242,
           0.020633222222524197,
           0.021741492929221343
          ],
          "type": "data",
          "visible": true
         },
         "marker": {
          "color": [
           0.10969500359985261,
           0.29540586452695206,
           0.2385650835887636,
           0.22391270730058732,
           0.5483982931410141,
           0.3787112868208935,
           0.4558408082622134,
           0.039285092693115906,
           0.12519645612902142
          ],
          "colorscale": [
           [
            0,
            "#00224e"
           ],
           [
            0.1111111111111111,
            "#123570"
           ],
           [
            0.2222222222222222,
            "#3b496c"
           ],
           [
            0.3333333333333333,
            "#575d6d"
           ],
           [
            0.4444444444444444,
            "#707173"
           ],
           [
            0.5555555555555556,
            "#8a8678"
           ],
           [
            0.6666666666666666,
            "#a59c74"
           ],
           [
            0.7777777777777778,
            "#c3b369"
           ],
           [
            0.8888888888888888,
            "#e1cc55"
           ],
           [
            1,
            "#fee838"
           ]
          ],
          "opacity": 0.8,
          "showscale": true
         },
         "name": "Ratings_Score_Top_Coef",
         "type": "bar",
         "x": [
          "is_hun",
          "is_ten",
          "is_twe",
          "is_thi",
          "is_for",
          "is_fif",
          "is_six",
          "is_sev",
          "is_eig"
         ],
         "y": [
          -0.005583378765432054,
          -0.006306679953205034,
          0.00733244230176461,
          -0.007300117165513993,
          0.0036921433156628016,
          -0.0039123424584889,
          0.004335190851864687,
          0.010849422151343662,
          0.008504420690712259
         ]
        }
       ],
       "layout": {
        "template": {
         "data": {
          "bar": [
           {
            "error_x": {
             "color": "#2a3f5f"
            },
            "error_y": {
             "color": "#2a3f5f"
            },
            "marker": {
             "line": {
              "color": "#E5ECF6",
              "width": 0.5
             }
            },
            "type": "bar"
           }
          ],
          "barpolar": [
           {
            "marker": {
             "line": {
              "color": "#E5ECF6",
              "width": 0.5
             }
            },
            "type": "barpolar"
           }
          ],
          "carpet": [
           {
            "aaxis": {
             "endlinecolor": "#2a3f5f",
             "gridcolor": "white",
             "linecolor": "white",
             "minorgridcolor": "white",
             "startlinecolor": "#2a3f5f"
            },
            "baxis": {
             "endlinecolor": "#2a3f5f",
             "gridcolor": "white",
             "linecolor": "white",
             "minorgridcolor": "white",
             "startlinecolor": "#2a3f5f"
            },
            "type": "carpet"
           }
          ],
          "choropleth": [
           {
            "colorbar": {
             "outlinewidth": 0,
             "ticks": ""
            },
            "type": "choropleth"
           }
          ],
          "contour": [
           {
            "colorbar": {
             "outlinewidth": 0,
             "ticks": ""
            },
            "colorscale": [
             [
              0,
              "#0d0887"
             ],
             [
              0.1111111111111111,
              "#46039f"
             ],
             [
              0.2222222222222222,
              "#7201a8"
             ],
             [
              0.3333333333333333,
              "#9c179e"
             ],
             [
              0.4444444444444444,
              "#bd3786"
             ],
             [
              0.5555555555555556,
              "#d8576b"
             ],
             [
              0.6666666666666666,
              "#ed7953"
             ],
             [
              0.7777777777777778,
              "#fb9f3a"
             ],
             [
              0.8888888888888888,
              "#fdca26"
             ],
             [
              1,
              "#f0f921"
             ]
            ],
            "type": "contour"
           }
          ],
          "contourcarpet": [
           {
            "colorbar": {
             "outlinewidth": 0,
             "ticks": ""
            },
            "type": "contourcarpet"
           }
          ],
          "heatmap": [
           {
            "colorbar": {
             "outlinewidth": 0,
             "ticks": ""
            },
            "colorscale": [
             [
              0,
              "#0d0887"
             ],
             [
              0.1111111111111111,
              "#46039f"
             ],
             [
              0.2222222222222222,
              "#7201a8"
             ],
             [
              0.3333333333333333,
              "#9c179e"
             ],
             [
              0.4444444444444444,
              "#bd3786"
             ],
             [
              0.5555555555555556,
              "#d8576b"
             ],
             [
              0.6666666666666666,
              "#ed7953"
             ],
             [
              0.7777777777777778,
              "#fb9f3a"
             ],
             [
              0.8888888888888888,
              "#fdca26"
             ],
             [
              1,
              "#f0f921"
             ]
            ],
            "type": "heatmap"
           }
          ],
          "heatmapgl": [
           {
            "colorbar": {
             "outlinewidth": 0,
             "ticks": ""
            },
            "colorscale": [
             [
              0,
              "#0d0887"
             ],
             [
              0.1111111111111111,
              "#46039f"
             ],
             [
              0.2222222222222222,
              "#7201a8"
             ],
             [
              0.3333333333333333,
              "#9c179e"
             ],
             [
              0.4444444444444444,
              "#bd3786"
             ],
             [
              0.5555555555555556,
              "#d8576b"
             ],
             [
              0.6666666666666666,
              "#ed7953"
             ],
             [
              0.7777777777777778,
              "#fb9f3a"
             ],
             [
              0.8888888888888888,
              "#fdca26"
             ],
             [
              1,
              "#f0f921"
             ]
            ],
            "type": "heatmapgl"
           }
          ],
          "histogram": [
           {
            "marker": {
             "colorbar": {
              "outlinewidth": 0,
              "ticks": ""
             }
            },
            "type": "histogram"
           }
          ],
          "histogram2d": [
           {
            "colorbar": {
             "outlinewidth": 0,
             "ticks": ""
            },
            "colorscale": [
             [
              0,
              "#0d0887"
             ],
             [
              0.1111111111111111,
              "#46039f"
             ],
             [
              0.2222222222222222,
              "#7201a8"
             ],
             [
              0.3333333333333333,
              "#9c179e"
             ],
             [
              0.4444444444444444,
              "#bd3786"
             ],
             [
              0.5555555555555556,
              "#d8576b"
             ],
             [
              0.6666666666666666,
              "#ed7953"
             ],
             [
              0.7777777777777778,
              "#fb9f3a"
             ],
             [
              0.8888888888888888,
              "#fdca26"
             ],
             [
              1,
              "#f0f921"
             ]
            ],
            "type": "histogram2d"
           }
          ],
          "histogram2dcontour": [
           {
            "colorbar": {
             "outlinewidth": 0,
             "ticks": ""
            },
            "colorscale": [
             [
              0,
              "#0d0887"
             ],
             [
              0.1111111111111111,
              "#46039f"
             ],
             [
              0.2222222222222222,
              "#7201a8"
             ],
             [
              0.3333333333333333,
              "#9c179e"
             ],
             [
              0.4444444444444444,
              "#bd3786"
             ],
             [
              0.5555555555555556,
              "#d8576b"
             ],
             [
              0.6666666666666666,
              "#ed7953"
             ],
             [
              0.7777777777777778,
              "#fb9f3a"
             ],
             [
              0.8888888888888888,
              "#fdca26"
             ],
             [
              1,
              "#f0f921"
             ]
            ],
            "type": "histogram2dcontour"
           }
          ],
          "mesh3d": [
           {
            "colorbar": {
             "outlinewidth": 0,
             "ticks": ""
            },
            "type": "mesh3d"
           }
          ],
          "parcoords": [
           {
            "line": {
             "colorbar": {
              "outlinewidth": 0,
              "ticks": ""
             }
            },
            "type": "parcoords"
           }
          ],
          "pie": [
           {
            "automargin": true,
            "type": "pie"
           }
          ],
          "scatter": [
           {
            "marker": {
             "colorbar": {
              "outlinewidth": 0,
              "ticks": ""
             }
            },
            "type": "scatter"
           }
          ],
          "scatter3d": [
           {
            "line": {
             "colorbar": {
              "outlinewidth": 0,
              "ticks": ""
             }
            },
            "marker": {
             "colorbar": {
              "outlinewidth": 0,
              "ticks": ""
             }
            },
            "type": "scatter3d"
           }
          ],
          "scattercarpet": [
           {
            "marker": {
             "colorbar": {
              "outlinewidth": 0,
              "ticks": ""
             }
            },
            "type": "scattercarpet"
           }
          ],
          "scattergeo": [
           {
            "marker": {
             "colorbar": {
              "outlinewidth": 0,
              "ticks": ""
             }
            },
            "type": "scattergeo"
           }
          ],
          "scattergl": [
           {
            "marker": {
             "colorbar": {
              "outlinewidth": 0,
              "ticks": ""
             }
            },
            "type": "scattergl"
           }
          ],
          "scattermapbox": [
           {
            "marker": {
             "colorbar": {
              "outlinewidth": 0,
              "ticks": ""
             }
            },
            "type": "scattermapbox"
           }
          ],
          "scatterpolar": [
           {
            "marker": {
             "colorbar": {
              "outlinewidth": 0,
              "ticks": ""
             }
            },
            "type": "scatterpolar"
           }
          ],
          "scatterpolargl": [
           {
            "marker": {
             "colorbar": {
              "outlinewidth": 0,
              "ticks": ""
             }
            },
            "type": "scatterpolargl"
           }
          ],
          "scatterternary": [
           {
            "marker": {
             "colorbar": {
              "outlinewidth": 0,
              "ticks": ""
             }
            },
            "type": "scatterternary"
           }
          ],
          "surface": [
           {
            "colorbar": {
             "outlinewidth": 0,
             "ticks": ""
            },
            "colorscale": [
             [
              0,
              "#0d0887"
             ],
             [
              0.1111111111111111,
              "#46039f"
             ],
             [
              0.2222222222222222,
              "#7201a8"
             ],
             [
              0.3333333333333333,
              "#9c179e"
             ],
             [
              0.4444444444444444,
              "#bd3786"
             ],
             [
              0.5555555555555556,
              "#d8576b"
             ],
             [
              0.6666666666666666,
              "#ed7953"
             ],
             [
              0.7777777777777778,
              "#fb9f3a"
             ],
             [
              0.8888888888888888,
              "#fdca26"
             ],
             [
              1,
              "#f0f921"
             ]
            ],
            "type": "surface"
           }
          ],
          "table": [
           {
            "cells": {
             "fill": {
              "color": "#EBF0F8"
             },
             "line": {
              "color": "white"
             }
            },
            "header": {
             "fill": {
              "color": "#C8D4E3"
             },
             "line": {
              "color": "white"
             }
            },
            "type": "table"
           }
          ]
         },
         "layout": {
          "annotationdefaults": {
           "arrowcolor": "#2a3f5f",
           "arrowhead": 0,
           "arrowwidth": 1
          },
          "coloraxis": {
           "colorbar": {
            "outlinewidth": 0,
            "ticks": ""
           }
          },
          "colorscale": {
           "diverging": [
            [
             0,
             "#8e0152"
            ],
            [
             0.1,
             "#c51b7d"
            ],
            [
             0.2,
             "#de77ae"
            ],
            [
             0.3,
             "#f1b6da"
            ],
            [
             0.4,
             "#fde0ef"
            ],
            [
             0.5,
             "#f7f7f7"
            ],
            [
             0.6,
             "#e6f5d0"
            ],
            [
             0.7,
             "#b8e186"
            ],
            [
             0.8,
             "#7fbc41"
            ],
            [
             0.9,
             "#4d9221"
            ],
            [
             1,
             "#276419"
            ]
           ],
           "sequential": [
            [
             0,
             "#0d0887"
            ],
            [
             0.1111111111111111,
             "#46039f"
            ],
            [
             0.2222222222222222,
             "#7201a8"
            ],
            [
             0.3333333333333333,
             "#9c179e"
            ],
            [
             0.4444444444444444,
             "#bd3786"
            ],
            [
             0.5555555555555556,
             "#d8576b"
            ],
            [
             0.6666666666666666,
             "#ed7953"
            ],
            [
             0.7777777777777778,
             "#fb9f3a"
            ],
            [
             0.8888888888888888,
             "#fdca26"
            ],
            [
             1,
             "#f0f921"
            ]
           ],
           "sequentialminus": [
            [
             0,
             "#0d0887"
            ],
            [
             0.1111111111111111,
             "#46039f"
            ],
            [
             0.2222222222222222,
             "#7201a8"
            ],
            [
             0.3333333333333333,
             "#9c179e"
            ],
            [
             0.4444444444444444,
             "#bd3786"
            ],
            [
             0.5555555555555556,
             "#d8576b"
            ],
            [
             0.6666666666666666,
             "#ed7953"
            ],
            [
             0.7777777777777778,
             "#fb9f3a"
            ],
            [
             0.8888888888888888,
             "#fdca26"
            ],
            [
             1,
             "#f0f921"
            ]
           ]
          },
          "colorway": [
           "#636efa",
           "#EF553B",
           "#00cc96",
           "#ab63fa",
           "#FFA15A",
           "#19d3f3",
           "#FF6692",
           "#B6E880",
           "#FF97FF",
           "#FECB52"
          ],
          "font": {
           "color": "#2a3f5f"
          },
          "geo": {
           "bgcolor": "white",
           "lakecolor": "white",
           "landcolor": "#E5ECF6",
           "showlakes": true,
           "showland": true,
           "subunitcolor": "white"
          },
          "hoverlabel": {
           "align": "left"
          },
          "hovermode": "closest",
          "mapbox": {
           "style": "light"
          },
          "paper_bgcolor": "white",
          "plot_bgcolor": "#E5ECF6",
          "polar": {
           "angularaxis": {
            "gridcolor": "white",
            "linecolor": "white",
            "ticks": ""
           },
           "bgcolor": "#E5ECF6",
           "radialaxis": {
            "gridcolor": "white",
            "linecolor": "white",
            "ticks": ""
           }
          },
          "scene": {
           "xaxis": {
            "backgroundcolor": "#E5ECF6",
            "gridcolor": "white",
            "gridwidth": 2,
            "linecolor": "white",
            "showbackground": true,
            "ticks": "",
            "zerolinecolor": "white"
           },
           "yaxis": {
            "backgroundcolor": "#E5ECF6",
            "gridcolor": "white",
            "gridwidth": 2,
            "linecolor": "white",
            "showbackground": true,
            "ticks": "",
            "zerolinecolor": "white"
           },
           "zaxis": {
            "backgroundcolor": "#E5ECF6",
            "gridcolor": "white",
            "gridwidth": 2,
            "linecolor": "white",
            "showbackground": true,
            "ticks": "",
            "zerolinecolor": "white"
           }
          },
          "shapedefaults": {
           "line": {
            "color": "#2a3f5f"
           }
          },
          "ternary": {
           "aaxis": {
            "gridcolor": "white",
            "linecolor": "white",
            "ticks": ""
           },
           "baxis": {
            "gridcolor": "white",
            "linecolor": "white",
            "ticks": ""
           },
           "bgcolor": "#E5ECF6",
           "caxis": {
            "gridcolor": "white",
            "linecolor": "white",
            "ticks": ""
           }
          },
          "title": {
           "x": 0.05
          },
          "xaxis": {
           "automargin": true,
           "gridcolor": "white",
           "linecolor": "white",
           "ticks": "",
           "title": {
            "standoff": 15
           },
           "zerolinecolor": "white",
           "zerolinewidth": 2
          },
          "yaxis": {
           "automargin": true,
           "gridcolor": "white",
           "linecolor": "white",
           "ticks": "",
           "title": {
            "standoff": 15
           },
           "zerolinecolor": "white",
           "zerolinewidth": 2
          }
         }
        }
       }
      },
      "text/html": [
       "<div>\n",
       "        \n",
       "        \n",
       "            <div id=\"697de651-cd9e-4824-b01a-f452e56a095b\" class=\"plotly-graph-div\" style=\"height:525px; width:100%;\"></div>\n",
       "            <script type=\"text/javascript\">\n",
       "                require([\"plotly\"], function(Plotly) {\n",
       "                    window.PLOTLYENV=window.PLOTLYENV || {};\n",
       "                    \n",
       "                if (document.getElementById(\"697de651-cd9e-4824-b01a-f452e56a095b\")) {\n",
       "                    Plotly.newPlot(\n",
       "                        '697de651-cd9e-4824-b01a-f452e56a095b',\n",
       "                        [{\"error_y\": {\"array\": [0.013682742199656348, 0.02362694946321056, 0.024387502464492866, 0.02352917145901845, 0.024115049720037692, 0.017421976866363154, 0.02278844007810242, 0.020633222222524197, 0.021741492929221343], \"type\": \"data\", \"visible\": true}, \"marker\": {\"color\": [0.10969500359985261, 0.29540586452695206, 0.2385650835887636, 0.22391270730058732, 0.5483982931410141, 0.3787112868208935, 0.4558408082622134, 0.039285092693115906, 0.12519645612902142], \"colorscale\": [[0.0, \"#00224e\"], [0.1111111111111111, \"#123570\"], [0.2222222222222222, \"#3b496c\"], [0.3333333333333333, \"#575d6d\"], [0.4444444444444444, \"#707173\"], [0.5555555555555556, \"#8a8678\"], [0.6666666666666666, \"#a59c74\"], [0.7777777777777778, \"#c3b369\"], [0.8888888888888888, \"#e1cc55\"], [1.0, \"#fee838\"]], \"opacity\": 0.8, \"showscale\": true}, \"name\": \"Ratings_Score_Top_Coef\", \"type\": \"bar\", \"x\": [\"is_hun\", \"is_ten\", \"is_twe\", \"is_thi\", \"is_for\", \"is_fif\", \"is_six\", \"is_sev\", \"is_eig\"], \"y\": [-0.005583378765432054, -0.006306679953205034, 0.00733244230176461, -0.007300117165513993, 0.0036921433156628016, -0.0039123424584889, 0.004335190851864687, 0.010849422151343662, 0.008504420690712259]}],\n",
       "                        {\"template\": {\"data\": {\"bar\": [{\"error_x\": {\"color\": \"#2a3f5f\"}, \"error_y\": {\"color\": \"#2a3f5f\"}, \"marker\": {\"line\": {\"color\": \"#E5ECF6\", \"width\": 0.5}}, \"type\": \"bar\"}], \"barpolar\": [{\"marker\": {\"line\": {\"color\": \"#E5ECF6\", \"width\": 0.5}}, \"type\": \"barpolar\"}], \"carpet\": [{\"aaxis\": {\"endlinecolor\": \"#2a3f5f\", \"gridcolor\": \"white\", \"linecolor\": \"white\", \"minorgridcolor\": \"white\", \"startlinecolor\": \"#2a3f5f\"}, \"baxis\": {\"endlinecolor\": \"#2a3f5f\", \"gridcolor\": \"white\", \"linecolor\": \"white\", \"minorgridcolor\": \"white\", \"startlinecolor\": \"#2a3f5f\"}, \"type\": \"carpet\"}], \"choropleth\": [{\"colorbar\": {\"outlinewidth\": 0, \"ticks\": \"\"}, \"type\": \"choropleth\"}], \"contour\": [{\"colorbar\": {\"outlinewidth\": 0, \"ticks\": \"\"}, \"colorscale\": [[0.0, \"#0d0887\"], [0.1111111111111111, \"#46039f\"], [0.2222222222222222, \"#7201a8\"], [0.3333333333333333, \"#9c179e\"], [0.4444444444444444, \"#bd3786\"], [0.5555555555555556, \"#d8576b\"], [0.6666666666666666, \"#ed7953\"], [0.7777777777777778, \"#fb9f3a\"], [0.8888888888888888, \"#fdca26\"], [1.0, \"#f0f921\"]], \"type\": \"contour\"}], \"contourcarpet\": [{\"colorbar\": {\"outlinewidth\": 0, \"ticks\": \"\"}, \"type\": \"contourcarpet\"}], \"heatmap\": [{\"colorbar\": {\"outlinewidth\": 0, \"ticks\": \"\"}, \"colorscale\": [[0.0, \"#0d0887\"], [0.1111111111111111, \"#46039f\"], [0.2222222222222222, \"#7201a8\"], [0.3333333333333333, \"#9c179e\"], [0.4444444444444444, \"#bd3786\"], [0.5555555555555556, \"#d8576b\"], [0.6666666666666666, \"#ed7953\"], [0.7777777777777778, \"#fb9f3a\"], [0.8888888888888888, \"#fdca26\"], [1.0, \"#f0f921\"]], \"type\": \"heatmap\"}], \"heatmapgl\": [{\"colorbar\": {\"outlinewidth\": 0, \"ticks\": \"\"}, \"colorscale\": [[0.0, \"#0d0887\"], [0.1111111111111111, \"#46039f\"], [0.2222222222222222, \"#7201a8\"], [0.3333333333333333, \"#9c179e\"], [0.4444444444444444, \"#bd3786\"], [0.5555555555555556, \"#d8576b\"], [0.6666666666666666, \"#ed7953\"], [0.7777777777777778, \"#fb9f3a\"], [0.8888888888888888, \"#fdca26\"], [1.0, \"#f0f921\"]], \"type\": \"heatmapgl\"}], \"histogram\": [{\"marker\": {\"colorbar\": {\"outlinewidth\": 0, \"ticks\": \"\"}}, \"type\": \"histogram\"}], \"histogram2d\": [{\"colorbar\": {\"outlinewidth\": 0, \"ticks\": \"\"}, \"colorscale\": [[0.0, \"#0d0887\"], [0.1111111111111111, \"#46039f\"], [0.2222222222222222, \"#7201a8\"], [0.3333333333333333, \"#9c179e\"], [0.4444444444444444, \"#bd3786\"], [0.5555555555555556, \"#d8576b\"], [0.6666666666666666, \"#ed7953\"], [0.7777777777777778, \"#fb9f3a\"], [0.8888888888888888, \"#fdca26\"], [1.0, \"#f0f921\"]], \"type\": \"histogram2d\"}], \"histogram2dcontour\": [{\"colorbar\": {\"outlinewidth\": 0, \"ticks\": \"\"}, \"colorscale\": [[0.0, \"#0d0887\"], [0.1111111111111111, \"#46039f\"], [0.2222222222222222, \"#7201a8\"], [0.3333333333333333, \"#9c179e\"], [0.4444444444444444, \"#bd3786\"], [0.5555555555555556, \"#d8576b\"], [0.6666666666666666, \"#ed7953\"], [0.7777777777777778, \"#fb9f3a\"], [0.8888888888888888, \"#fdca26\"], [1.0, \"#f0f921\"]], \"type\": \"histogram2dcontour\"}], \"mesh3d\": [{\"colorbar\": {\"outlinewidth\": 0, \"ticks\": \"\"}, \"type\": \"mesh3d\"}], \"parcoords\": [{\"line\": {\"colorbar\": {\"outlinewidth\": 0, \"ticks\": \"\"}}, \"type\": \"parcoords\"}], \"pie\": [{\"automargin\": true, \"type\": \"pie\"}], \"scatter\": [{\"marker\": {\"colorbar\": {\"outlinewidth\": 0, \"ticks\": \"\"}}, \"type\": \"scatter\"}], \"scatter3d\": [{\"line\": {\"colorbar\": {\"outlinewidth\": 0, \"ticks\": \"\"}}, \"marker\": {\"colorbar\": {\"outlinewidth\": 0, \"ticks\": \"\"}}, \"type\": \"scatter3d\"}], \"scattercarpet\": [{\"marker\": {\"colorbar\": {\"outlinewidth\": 0, \"ticks\": \"\"}}, \"type\": \"scattercarpet\"}], \"scattergeo\": [{\"marker\": {\"colorbar\": {\"outlinewidth\": 0, \"ticks\": \"\"}}, \"type\": \"scattergeo\"}], \"scattergl\": [{\"marker\": {\"colorbar\": {\"outlinewidth\": 0, \"ticks\": \"\"}}, \"type\": \"scattergl\"}], \"scattermapbox\": [{\"marker\": {\"colorbar\": {\"outlinewidth\": 0, \"ticks\": \"\"}}, \"type\": \"scattermapbox\"}], \"scatterpolar\": [{\"marker\": {\"colorbar\": {\"outlinewidth\": 0, \"ticks\": \"\"}}, \"type\": \"scatterpolar\"}], \"scatterpolargl\": [{\"marker\": {\"colorbar\": {\"outlinewidth\": 0, \"ticks\": \"\"}}, \"type\": \"scatterpolargl\"}], \"scatterternary\": [{\"marker\": {\"colorbar\": {\"outlinewidth\": 0, \"ticks\": \"\"}}, \"type\": \"scatterternary\"}], \"surface\": [{\"colorbar\": {\"outlinewidth\": 0, \"ticks\": \"\"}, \"colorscale\": [[0.0, \"#0d0887\"], [0.1111111111111111, \"#46039f\"], [0.2222222222222222, \"#7201a8\"], [0.3333333333333333, \"#9c179e\"], [0.4444444444444444, \"#bd3786\"], [0.5555555555555556, \"#d8576b\"], [0.6666666666666666, \"#ed7953\"], [0.7777777777777778, \"#fb9f3a\"], [0.8888888888888888, \"#fdca26\"], [1.0, \"#f0f921\"]], \"type\": \"surface\"}], \"table\": [{\"cells\": {\"fill\": {\"color\": \"#EBF0F8\"}, \"line\": {\"color\": \"white\"}}, \"header\": {\"fill\": {\"color\": \"#C8D4E3\"}, \"line\": {\"color\": \"white\"}}, \"type\": \"table\"}]}, \"layout\": {\"annotationdefaults\": {\"arrowcolor\": \"#2a3f5f\", \"arrowhead\": 0, \"arrowwidth\": 1}, \"coloraxis\": {\"colorbar\": {\"outlinewidth\": 0, \"ticks\": \"\"}}, \"colorscale\": {\"diverging\": [[0, \"#8e0152\"], [0.1, \"#c51b7d\"], [0.2, \"#de77ae\"], [0.3, \"#f1b6da\"], [0.4, \"#fde0ef\"], [0.5, \"#f7f7f7\"], [0.6, \"#e6f5d0\"], [0.7, \"#b8e186\"], [0.8, \"#7fbc41\"], [0.9, \"#4d9221\"], [1, \"#276419\"]], \"sequential\": [[0.0, \"#0d0887\"], [0.1111111111111111, \"#46039f\"], [0.2222222222222222, \"#7201a8\"], [0.3333333333333333, \"#9c179e\"], [0.4444444444444444, \"#bd3786\"], [0.5555555555555556, \"#d8576b\"], [0.6666666666666666, \"#ed7953\"], [0.7777777777777778, \"#fb9f3a\"], [0.8888888888888888, \"#fdca26\"], [1.0, \"#f0f921\"]], \"sequentialminus\": [[0.0, \"#0d0887\"], [0.1111111111111111, \"#46039f\"], [0.2222222222222222, \"#7201a8\"], [0.3333333333333333, \"#9c179e\"], [0.4444444444444444, \"#bd3786\"], [0.5555555555555556, \"#d8576b\"], [0.6666666666666666, \"#ed7953\"], [0.7777777777777778, \"#fb9f3a\"], [0.8888888888888888, \"#fdca26\"], [1.0, \"#f0f921\"]]}, \"colorway\": [\"#636efa\", \"#EF553B\", \"#00cc96\", \"#ab63fa\", \"#FFA15A\", \"#19d3f3\", \"#FF6692\", \"#B6E880\", \"#FF97FF\", \"#FECB52\"], \"font\": {\"color\": \"#2a3f5f\"}, \"geo\": {\"bgcolor\": \"white\", \"lakecolor\": \"white\", \"landcolor\": \"#E5ECF6\", \"showlakes\": true, \"showland\": true, \"subunitcolor\": \"white\"}, \"hoverlabel\": {\"align\": \"left\"}, \"hovermode\": \"closest\", \"mapbox\": {\"style\": \"light\"}, \"paper_bgcolor\": \"white\", \"plot_bgcolor\": \"#E5ECF6\", \"polar\": {\"angularaxis\": {\"gridcolor\": \"white\", \"linecolor\": \"white\", \"ticks\": \"\"}, \"bgcolor\": \"#E5ECF6\", \"radialaxis\": {\"gridcolor\": \"white\", \"linecolor\": \"white\", \"ticks\": \"\"}}, \"scene\": {\"xaxis\": {\"backgroundcolor\": \"#E5ECF6\", \"gridcolor\": \"white\", \"gridwidth\": 2, \"linecolor\": \"white\", \"showbackground\": true, \"ticks\": \"\", \"zerolinecolor\": \"white\"}, \"yaxis\": {\"backgroundcolor\": \"#E5ECF6\", \"gridcolor\": \"white\", \"gridwidth\": 2, \"linecolor\": \"white\", \"showbackground\": true, \"ticks\": \"\", \"zerolinecolor\": \"white\"}, \"zaxis\": {\"backgroundcolor\": \"#E5ECF6\", \"gridcolor\": \"white\", \"gridwidth\": 2, \"linecolor\": \"white\", \"showbackground\": true, \"ticks\": \"\", \"zerolinecolor\": \"white\"}}, \"shapedefaults\": {\"line\": {\"color\": \"#2a3f5f\"}}, \"ternary\": {\"aaxis\": {\"gridcolor\": \"white\", \"linecolor\": \"white\", \"ticks\": \"\"}, \"baxis\": {\"gridcolor\": \"white\", \"linecolor\": \"white\", \"ticks\": \"\"}, \"bgcolor\": \"#E5ECF6\", \"caxis\": {\"gridcolor\": \"white\", \"linecolor\": \"white\", \"ticks\": \"\"}}, \"title\": {\"x\": 0.05}, \"xaxis\": {\"automargin\": true, \"gridcolor\": \"white\", \"linecolor\": \"white\", \"ticks\": \"\", \"title\": {\"standoff\": 15}, \"zerolinecolor\": \"white\", \"zerolinewidth\": 2}, \"yaxis\": {\"automargin\": true, \"gridcolor\": \"white\", \"linecolor\": \"white\", \"ticks\": \"\", \"title\": {\"standoff\": 15}, \"zerolinecolor\": \"white\", \"zerolinewidth\": 2}}}},\n",
       "                        {\"responsive\": true}\n",
       "                    ).then(function(){\n",
       "                            \n",
       "var gd = document.getElementById('697de651-cd9e-4824-b01a-f452e56a095b');\n",
       "var x = new MutationObserver(function (mutations, observer) {{\n",
       "        var display = window.getComputedStyle(gd).display;\n",
       "        if (!display || display === 'none') {{\n",
       "            console.log([gd, 'removed!']);\n",
       "            Plotly.purge(gd);\n",
       "            observer.disconnect();\n",
       "        }}\n",
       "}});\n",
       "\n",
       "// Listen for the removal of the full notebook cells\n",
       "var notebookContainer = gd.closest('#notebook-container');\n",
       "if (notebookContainer) {{\n",
       "    x.observe(notebookContainer, {childList: true});\n",
       "}}\n",
       "\n",
       "// Listen for the clearing of the current output cell\n",
       "var outputEl = gd.closest('.output');\n",
       "if (outputEl) {{\n",
       "    x.observe(outputEl, {childList: true});\n",
       "}}\n",
       "\n",
       "                        })\n",
       "                };\n",
       "                });\n",
       "            </script>\n",
       "        </div>"
      ]
     },
     "metadata": {},
     "output_type": "display_data"
    }
   ],
   "source": [
    "plot_sig_results(mlm_results)"
   ]
  },
  {
   "cell_type": "code",
   "execution_count": 18,
   "metadata": {},
   "outputs": [
    {
     "data": {
      "text/html": [
       "<style  type=\"text/css\" >\n",
       "</style><table id=\"T_11306198_1a12_11eb_bd49_8cec4b0ec919\" ><thead>    <tr>        <th class=\"blank level0\" ></th>        <th class=\"col_heading level0 col0\" >features</th>        <th class=\"col_heading level0 col1\" >pvalues</th>        <th class=\"col_heading level0 col2\" >coef</th>        <th class=\"col_heading level0 col3\" >conf_int_025</th>        <th class=\"col_heading level0 col4\" >conf_int_975</th>    </tr></thead><tbody>\n",
       "                <tr>\n",
       "                        <th id=\"T_11306198_1a12_11eb_bd49_8cec4b0ec919level0_row0\" class=\"row_heading level0 row0\" >0</th>\n",
       "                        <td id=\"T_11306198_1a12_11eb_bd49_8cec4b0ec919row0_col0\" class=\"data row0 col0\" >is_hun</td>\n",
       "                        <td id=\"T_11306198_1a12_11eb_bd49_8cec4b0ec919row0_col1\" class=\"data row0 col1\" >0.109695</td>\n",
       "                        <td id=\"T_11306198_1a12_11eb_bd49_8cec4b0ec919row0_col2\" class=\"data row0 col2\" >-0.005583</td>\n",
       "                        <td id=\"T_11306198_1a12_11eb_bd49_8cec4b0ec919row0_col3\" class=\"data row0 col3\" >-0.012425</td>\n",
       "                        <td id=\"T_11306198_1a12_11eb_bd49_8cec4b0ec919row0_col4\" class=\"data row0 col4\" >0.001258</td>\n",
       "            </tr>\n",
       "            <tr>\n",
       "                        <th id=\"T_11306198_1a12_11eb_bd49_8cec4b0ec919level0_row1\" class=\"row_heading level0 row1\" >1</th>\n",
       "                        <td id=\"T_11306198_1a12_11eb_bd49_8cec4b0ec919row1_col0\" class=\"data row1 col0\" >is_ten</td>\n",
       "                        <td id=\"T_11306198_1a12_11eb_bd49_8cec4b0ec919row1_col1\" class=\"data row1 col1\" >0.295406</td>\n",
       "                        <td id=\"T_11306198_1a12_11eb_bd49_8cec4b0ec919row1_col2\" class=\"data row1 col2\" >-0.006307</td>\n",
       "                        <td id=\"T_11306198_1a12_11eb_bd49_8cec4b0ec919row1_col3\" class=\"data row1 col3\" >-0.018120</td>\n",
       "                        <td id=\"T_11306198_1a12_11eb_bd49_8cec4b0ec919row1_col4\" class=\"data row1 col4\" >0.005507</td>\n",
       "            </tr>\n",
       "            <tr>\n",
       "                        <th id=\"T_11306198_1a12_11eb_bd49_8cec4b0ec919level0_row2\" class=\"row_heading level0 row2\" >2</th>\n",
       "                        <td id=\"T_11306198_1a12_11eb_bd49_8cec4b0ec919row2_col0\" class=\"data row2 col0\" >is_twe</td>\n",
       "                        <td id=\"T_11306198_1a12_11eb_bd49_8cec4b0ec919row2_col1\" class=\"data row2 col1\" >0.238565</td>\n",
       "                        <td id=\"T_11306198_1a12_11eb_bd49_8cec4b0ec919row2_col2\" class=\"data row2 col2\" >0.007332</td>\n",
       "                        <td id=\"T_11306198_1a12_11eb_bd49_8cec4b0ec919row2_col3\" class=\"data row2 col3\" >-0.004861</td>\n",
       "                        <td id=\"T_11306198_1a12_11eb_bd49_8cec4b0ec919row2_col4\" class=\"data row2 col4\" >0.019526</td>\n",
       "            </tr>\n",
       "            <tr>\n",
       "                        <th id=\"T_11306198_1a12_11eb_bd49_8cec4b0ec919level0_row3\" class=\"row_heading level0 row3\" >3</th>\n",
       "                        <td id=\"T_11306198_1a12_11eb_bd49_8cec4b0ec919row3_col0\" class=\"data row3 col0\" >is_thi</td>\n",
       "                        <td id=\"T_11306198_1a12_11eb_bd49_8cec4b0ec919row3_col1\" class=\"data row3 col1\" >0.223913</td>\n",
       "                        <td id=\"T_11306198_1a12_11eb_bd49_8cec4b0ec919row3_col2\" class=\"data row3 col2\" >-0.007300</td>\n",
       "                        <td id=\"T_11306198_1a12_11eb_bd49_8cec4b0ec919row3_col3\" class=\"data row3 col3\" >-0.019065</td>\n",
       "                        <td id=\"T_11306198_1a12_11eb_bd49_8cec4b0ec919row3_col4\" class=\"data row3 col4\" >0.004464</td>\n",
       "            </tr>\n",
       "            <tr>\n",
       "                        <th id=\"T_11306198_1a12_11eb_bd49_8cec4b0ec919level0_row4\" class=\"row_heading level0 row4\" >4</th>\n",
       "                        <td id=\"T_11306198_1a12_11eb_bd49_8cec4b0ec919row4_col0\" class=\"data row4 col0\" >is_for</td>\n",
       "                        <td id=\"T_11306198_1a12_11eb_bd49_8cec4b0ec919row4_col1\" class=\"data row4 col1\" >0.548398</td>\n",
       "                        <td id=\"T_11306198_1a12_11eb_bd49_8cec4b0ec919row4_col2\" class=\"data row4 col2\" >0.003692</td>\n",
       "                        <td id=\"T_11306198_1a12_11eb_bd49_8cec4b0ec919row4_col3\" class=\"data row4 col3\" >-0.008365</td>\n",
       "                        <td id=\"T_11306198_1a12_11eb_bd49_8cec4b0ec919row4_col4\" class=\"data row4 col4\" >0.015750</td>\n",
       "            </tr>\n",
       "            <tr>\n",
       "                        <th id=\"T_11306198_1a12_11eb_bd49_8cec4b0ec919level0_row5\" class=\"row_heading level0 row5\" >5</th>\n",
       "                        <td id=\"T_11306198_1a12_11eb_bd49_8cec4b0ec919row5_col0\" class=\"data row5 col0\" >is_fif</td>\n",
       "                        <td id=\"T_11306198_1a12_11eb_bd49_8cec4b0ec919row5_col1\" class=\"data row5 col1\" >0.378711</td>\n",
       "                        <td id=\"T_11306198_1a12_11eb_bd49_8cec4b0ec919row5_col2\" class=\"data row5 col2\" >-0.003912</td>\n",
       "                        <td id=\"T_11306198_1a12_11eb_bd49_8cec4b0ec919row5_col3\" class=\"data row5 col3\" >-0.012623</td>\n",
       "                        <td id=\"T_11306198_1a12_11eb_bd49_8cec4b0ec919row5_col4\" class=\"data row5 col4\" >0.004799</td>\n",
       "            </tr>\n",
       "            <tr>\n",
       "                        <th id=\"T_11306198_1a12_11eb_bd49_8cec4b0ec919level0_row6\" class=\"row_heading level0 row6\" >6</th>\n",
       "                        <td id=\"T_11306198_1a12_11eb_bd49_8cec4b0ec919row6_col0\" class=\"data row6 col0\" >is_six</td>\n",
       "                        <td id=\"T_11306198_1a12_11eb_bd49_8cec4b0ec919row6_col1\" class=\"data row6 col1\" >0.455841</td>\n",
       "                        <td id=\"T_11306198_1a12_11eb_bd49_8cec4b0ec919row6_col2\" class=\"data row6 col2\" >0.004335</td>\n",
       "                        <td id=\"T_11306198_1a12_11eb_bd49_8cec4b0ec919row6_col3\" class=\"data row6 col3\" >-0.007059</td>\n",
       "                        <td id=\"T_11306198_1a12_11eb_bd49_8cec4b0ec919row6_col4\" class=\"data row6 col4\" >0.015729</td>\n",
       "            </tr>\n",
       "            <tr>\n",
       "                        <th id=\"T_11306198_1a12_11eb_bd49_8cec4b0ec919level0_row7\" class=\"row_heading level0 row7\" >7</th>\n",
       "                        <td id=\"T_11306198_1a12_11eb_bd49_8cec4b0ec919row7_col0\" class=\"data row7 col0\" >is_sev</td>\n",
       "                        <td id=\"T_11306198_1a12_11eb_bd49_8cec4b0ec919row7_col1\" class=\"data row7 col1\" >0.039285</td>\n",
       "                        <td id=\"T_11306198_1a12_11eb_bd49_8cec4b0ec919row7_col2\" class=\"data row7 col2\" >0.010849</td>\n",
       "                        <td id=\"T_11306198_1a12_11eb_bd49_8cec4b0ec919row7_col3\" class=\"data row7 col3\" >0.000533</td>\n",
       "                        <td id=\"T_11306198_1a12_11eb_bd49_8cec4b0ec919row7_col4\" class=\"data row7 col4\" >0.021166</td>\n",
       "            </tr>\n",
       "            <tr>\n",
       "                        <th id=\"T_11306198_1a12_11eb_bd49_8cec4b0ec919level0_row8\" class=\"row_heading level0 row8\" >8</th>\n",
       "                        <td id=\"T_11306198_1a12_11eb_bd49_8cec4b0ec919row8_col0\" class=\"data row8 col0\" >is_eig</td>\n",
       "                        <td id=\"T_11306198_1a12_11eb_bd49_8cec4b0ec919row8_col1\" class=\"data row8 col1\" >0.125196</td>\n",
       "                        <td id=\"T_11306198_1a12_11eb_bd49_8cec4b0ec919row8_col2\" class=\"data row8 col2\" >0.008504</td>\n",
       "                        <td id=\"T_11306198_1a12_11eb_bd49_8cec4b0ec919row8_col3\" class=\"data row8 col3\" >-0.002366</td>\n",
       "                        <td id=\"T_11306198_1a12_11eb_bd49_8cec4b0ec919row8_col4\" class=\"data row8 col4\" >0.019375</td>\n",
       "            </tr>\n",
       "    </tbody></table>"
      ],
      "text/plain": [
       "<pandas.io.formats.style.Styler at 0x2a60187cf98>"
      ]
     },
     "execution_count": 18,
     "metadata": {},
     "output_type": "execute_result"
    }
   ],
   "source": [
    "mlm_results.style"
   ]
  },
  {
   "cell_type": "code",
   "execution_count": 19,
   "metadata": {},
   "outputs": [
    {
     "name": "stderr",
     "output_type": "stream",
     "text": [
      "C:\\Users\\madke\\AppData\\Roaming\\Python\\Python36\\site-packages\\statsmodels\\regression\\mixed_linear_model.py:2168: ConvergenceWarning:\n",
      "\n",
      "The MLE may be on the boundary of the parameter space.\n",
      "\n"
     ]
    },
    {
     "name": "stdout",
     "output_type": "stream",
     "text": [
      "         Mixed Linear Model Regression Results\n",
      "========================================================\n",
      "Model:            MixedLM Dependent Variable: isLit     \n",
      "No. Observations: 14513   Method:             REML      \n",
      "No. Groups:       885     Scale:              0.1196    \n",
      "Min. group size:  1       Log-Likelihood:     -5387.7448\n",
      "Max. group size:  594     Converged:          Yes       \n",
      "Mean group size:  16.4                                  \n",
      "--------------------------------------------------------\n",
      "              Coef.  Std.Err.   z    P>|z| [0.025 0.975]\n",
      "--------------------------------------------------------\n",
      "Intercept      0.125    0.006 21.066 0.000  0.113  0.136\n",
      "is_hun        -0.012    0.020 -0.588 0.556 -0.051  0.028\n",
      "is_au          0.064    0.012  5.517 0.000  0.041  0.087\n",
      "is_hun:is_au   0.007    0.033  0.200 0.842 -0.058  0.071\n",
      "Group Var      0.006    0.002                           \n",
      "========================================================\n",
      "\n"
     ]
    },
    {
     "name": "stderr",
     "output_type": "stream",
     "text": [
      "C:\\Users\\madke\\AppData\\Roaming\\Python\\Python36\\site-packages\\statsmodels\\regression\\mixed_linear_model.py:2168: ConvergenceWarning:\n",
      "\n",
      "The MLE may be on the boundary of the parameter space.\n",
      "\n"
     ]
    },
    {
     "name": "stdout",
     "output_type": "stream",
     "text": [
      "         Mixed Linear Model Regression Results\n",
      "========================================================\n",
      "Model:            MixedLM Dependent Variable: isLit     \n",
      "No. Observations: 14513   Method:             REML      \n",
      "No. Groups:       885     Scale:              0.1196    \n",
      "Min. group size:  1       Log-Likelihood:     -5385.7959\n",
      "Max. group size:  594     Converged:          Yes       \n",
      "Mean group size:  16.4                                  \n",
      "--------------------------------------------------------\n",
      "              Coef.  Std.Err.   z    P>|z| [0.025 0.975]\n",
      "--------------------------------------------------------\n",
      "Intercept      0.125    0.006 20.449 0.000  0.113  0.137\n",
      "is_ten        -0.005    0.013 -0.411 0.681 -0.031  0.020\n",
      "is_au          0.070    0.012  5.945 0.000  0.047  0.093\n",
      "is_ten:is_au  -0.041    0.024 -1.738 0.082 -0.088  0.005\n",
      "Group Var      0.006    0.002                           \n",
      "========================================================\n",
      "\n"
     ]
    },
    {
     "name": "stderr",
     "output_type": "stream",
     "text": [
      "C:\\Users\\madke\\AppData\\Roaming\\Python\\Python36\\site-packages\\statsmodels\\regression\\mixed_linear_model.py:2168: ConvergenceWarning:\n",
      "\n",
      "The MLE may be on the boundary of the parameter space.\n",
      "\n"
     ]
    },
    {
     "name": "stdout",
     "output_type": "stream",
     "text": [
      "         Mixed Linear Model Regression Results\n",
      "========================================================\n",
      "Model:            MixedLM Dependent Variable: isLit     \n",
      "No. Observations: 14513   Method:             REML      \n",
      "No. Groups:       885     Scale:              0.1196    \n",
      "Min. group size:  1       Log-Likelihood:     -5386.8272\n",
      "Max. group size:  594     Converged:          Yes       \n",
      "Mean group size:  16.4                                  \n",
      "--------------------------------------------------------\n",
      "              Coef.  Std.Err.   z    P>|z| [0.025 0.975]\n",
      "--------------------------------------------------------\n",
      "Intercept      0.122    0.006 20.611 0.000  0.110  0.133\n",
      "is_twe         0.023    0.015  1.546 0.122 -0.006  0.051\n",
      "is_au          0.069    0.012  5.981 0.000  0.047  0.092\n",
      "is_twe:is_au  -0.043    0.026 -1.664 0.096 -0.093  0.008\n",
      "Group Var      0.006    0.002                           \n",
      "========================================================\n",
      "\n"
     ]
    },
    {
     "name": "stderr",
     "output_type": "stream",
     "text": [
      "C:\\Users\\madke\\AppData\\Roaming\\Python\\Python36\\site-packages\\statsmodels\\regression\\mixed_linear_model.py:2168: ConvergenceWarning:\n",
      "\n",
      "The MLE may be on the boundary of the parameter space.\n",
      "\n"
     ]
    },
    {
     "name": "stdout",
     "output_type": "stream",
     "text": [
      "         Mixed Linear Model Regression Results\n",
      "========================================================\n",
      "Model:            MixedLM Dependent Variable: isLit     \n",
      "No. Observations: 14513   Method:             REML      \n",
      "No. Groups:       885     Scale:              0.1196    \n",
      "Min. group size:  1       Log-Likelihood:     -5387.7012\n",
      "Max. group size:  594     Converged:          Yes       \n",
      "Mean group size:  16.4                                  \n",
      "--------------------------------------------------------\n",
      "              Coef.  Std.Err.   z    P>|z| [0.025 0.975]\n",
      "--------------------------------------------------------\n",
      "Intercept      0.126    0.006 20.973 0.000  0.114  0.138\n",
      "is_thi        -0.015    0.014 -1.119 0.263 -0.042  0.011\n",
      "is_au          0.064    0.012  5.473 0.000  0.041  0.086\n",
      "is_thi:is_au   0.005    0.027  0.172 0.863 -0.049  0.058\n",
      "Group Var      0.006    0.002                           \n",
      "========================================================\n",
      "\n"
     ]
    },
    {
     "name": "stderr",
     "output_type": "stream",
     "text": [
      "C:\\Users\\madke\\AppData\\Roaming\\Python\\Python36\\site-packages\\statsmodels\\regression\\mixed_linear_model.py:2168: ConvergenceWarning:\n",
      "\n",
      "The MLE may be on the boundary of the parameter space.\n",
      "\n"
     ]
    },
    {
     "name": "stdout",
     "output_type": "stream",
     "text": [
      "         Mixed Linear Model Regression Results\n",
      "========================================================\n",
      "Model:            MixedLM Dependent Variable: isLit     \n",
      "No. Observations: 14513   Method:             REML      \n",
      "No. Groups:       885     Scale:              0.1196    \n",
      "Min. group size:  1       Log-Likelihood:     -5387.3699\n",
      "Max. group size:  594     Converged:          Yes       \n",
      "Mean group size:  16.4                                  \n",
      "--------------------------------------------------------\n",
      "              Coef.  Std.Err.   z    P>|z| [0.025 0.975]\n",
      "--------------------------------------------------------\n",
      "Intercept      0.129    0.006 19.899 0.000  0.116  0.142\n",
      "is_for        -0.018    0.011 -1.659 0.097 -0.040  0.003\n",
      "is_au          0.059    0.012  4.874 0.000  0.035  0.083\n",
      "is_for:is_au   0.020    0.024  0.856 0.392 -0.026  0.067\n",
      "Group Var      0.006    0.002                           \n",
      "========================================================\n",
      "\n"
     ]
    },
    {
     "name": "stderr",
     "output_type": "stream",
     "text": [
      "C:\\Users\\madke\\AppData\\Roaming\\Python\\Python36\\site-packages\\statsmodels\\regression\\mixed_linear_model.py:2168: ConvergenceWarning:\n",
      "\n",
      "The MLE may be on the boundary of the parameter space.\n",
      "\n"
     ]
    },
    {
     "name": "stdout",
     "output_type": "stream",
     "text": [
      "         Mixed Linear Model Regression Results\n",
      "========================================================\n",
      "Model:            MixedLM Dependent Variable: isLit     \n",
      "No. Observations: 14513   Method:             REML      \n",
      "No. Groups:       885     Scale:              0.1196    \n",
      "Min. group size:  1       Log-Likelihood:     -5386.8651\n",
      "Max. group size:  594     Converged:          Yes       \n",
      "Mean group size:  16.4                                  \n",
      "--------------------------------------------------------\n",
      "              Coef.  Std.Err.   z    P>|z| [0.025 0.975]\n",
      "--------------------------------------------------------\n",
      "Intercept      0.125    0.006 21.373 0.000  0.113  0.136\n",
      "is_fif        -0.013    0.022 -0.583 0.560 -0.055  0.030\n",
      "is_au          0.066    0.012  5.766 0.000  0.044  0.089\n",
      "is_fif:is_au  -0.022    0.035 -0.622 0.534 -0.090  0.046\n",
      "Group Var      0.006    0.002                           \n",
      "========================================================\n",
      "\n"
     ]
    },
    {
     "name": "stderr",
     "output_type": "stream",
     "text": [
      "C:\\Users\\madke\\AppData\\Roaming\\Python\\Python36\\site-packages\\statsmodels\\regression\\mixed_linear_model.py:2168: ConvergenceWarning:\n",
      "\n",
      "The MLE may be on the boundary of the parameter space.\n",
      "\n"
     ]
    },
    {
     "name": "stdout",
     "output_type": "stream",
     "text": [
      "         Mixed Linear Model Regression Results\n",
      "========================================================\n",
      "Model:            MixedLM Dependent Variable: isLit     \n",
      "No. Observations: 14513   Method:             REML      \n",
      "No. Groups:       885     Scale:              0.1196    \n",
      "Min. group size:  1       Log-Likelihood:     -5388.0230\n",
      "Max. group size:  594     Converged:          Yes       \n",
      "Mean group size:  16.4                                  \n",
      "--------------------------------------------------------\n",
      "              Coef.  Std.Err.   z    P>|z| [0.025 0.975]\n",
      "--------------------------------------------------------\n",
      "Intercept      0.123    0.006 21.262 0.000  0.112  0.135\n",
      "is_six         0.010    0.018  0.566 0.571 -0.025  0.045\n",
      "is_au          0.066    0.012  5.714 0.000  0.043  0.089\n",
      "is_six:is_au  -0.018    0.028 -0.639 0.523 -0.073  0.037\n",
      "Group Var      0.006    0.002                           \n",
      "========================================================\n",
      "\n"
     ]
    },
    {
     "name": "stderr",
     "output_type": "stream",
     "text": [
      "C:\\Users\\madke\\AppData\\Roaming\\Python\\Python36\\site-packages\\statsmodels\\regression\\mixed_linear_model.py:2168: ConvergenceWarning:\n",
      "\n",
      "The MLE may be on the boundary of the parameter space.\n",
      "\n"
     ]
    },
    {
     "name": "stdout",
     "output_type": "stream",
     "text": [
      "         Mixed Linear Model Regression Results\n",
      "========================================================\n",
      "Model:            MixedLM Dependent Variable: isLit     \n",
      "No. Observations: 14513   Method:             REML      \n",
      "No. Groups:       885     Scale:              0.1196    \n",
      "Min. group size:  1       Log-Likelihood:     -5385.2539\n",
      "Max. group size:  594     Converged:          Yes       \n",
      "Mean group size:  16.4                                  \n",
      "--------------------------------------------------------\n",
      "               Coef. Std.Err.   z    P>|z| [0.025 0.975]\n",
      "--------------------------------------------------------\n",
      "Intercept      0.123    0.006 21.374 0.000  0.112  0.134\n",
      "is_sev         0.030    0.020  1.472 0.141 -0.010  0.070\n",
      "is_au          0.062    0.011  5.449 0.000  0.040  0.085\n",
      "is_sev:is_au   0.016    0.033  0.478 0.632 -0.048  0.079\n",
      "Group Var      0.006    0.002                           \n",
      "========================================================\n",
      "\n"
     ]
    },
    {
     "name": "stderr",
     "output_type": "stream",
     "text": [
      "C:\\Users\\madke\\AppData\\Roaming\\Python\\Python36\\site-packages\\statsmodels\\regression\\mixed_linear_model.py:2168: ConvergenceWarning:\n",
      "\n",
      "The MLE may be on the boundary of the parameter space.\n",
      "\n"
     ]
    },
    {
     "name": "stdout",
     "output_type": "stream",
     "text": [
      "         Mixed Linear Model Regression Results\n",
      "========================================================\n",
      "Model:            MixedLM Dependent Variable: isLit     \n",
      "No. Observations: 14513   Method:             REML      \n",
      "No. Groups:       885     Scale:              0.1196    \n",
      "Min. group size:  1       Log-Likelihood:     -5385.6466\n",
      "Max. group size:  594     Converged:          Yes       \n",
      "Mean group size:  16.4                                  \n",
      "--------------------------------------------------------\n",
      "              Coef.  Std.Err.   z    P>|z| [0.025 0.975]\n",
      "--------------------------------------------------------\n",
      "Intercept      0.122    0.006 21.040 0.000  0.110  0.133\n",
      "is_eig         0.040    0.018  2.212 0.027  0.005  0.075\n",
      "is_au          0.066    0.012  5.719 0.000  0.043  0.089\n",
      "is_eig:is_au  -0.030    0.029 -1.044 0.296 -0.087  0.027\n",
      "Group Var      0.006    0.002                           \n",
      "========================================================\n",
      "\n"
     ]
    }
   ],
   "source": [
    "decade_ls = ['is_hun', 'is_ten', 'is_twe', 'is_thi', 'is_for', 'is_fif', 'is_six', 'is_sev', 'is_eig']\n",
    "multilevel_models2 = []\n",
    "for i in decade_ls:\n",
    "    mlm_i = mlm(str_x = str(i)+'*is_au', str_y = 'isLit', str_group = 'diarynum', df= df_dnev_cat, nested = None)\n",
    "    multilevel_models2.append(mlm_i)\n",
    "    print(mlm_i.summary())"
   ]
  },
  {
   "cell_type": "code",
   "execution_count": 24,
   "metadata": {},
   "outputs": [],
   "source": [
    "mlm_results2 = pd.DataFrame({\n",
    "    \n",
    "    'features': decade_ls,\n",
    "    'pvalues':[i.pvalues[1] for i in multilevel_models2],\n",
    "    'coef': [i.params[1] for i in multilevel_models2],\n",
    "    'conf_int_025': [i.conf_int()[0][1] for i in multilevel_models2],\n",
    "    'conf_int_975': [i.conf_int()[1][1] for i in multilevel_models2]\n",
    "    \n",
    "})"
   ]
  },
  {
   "cell_type": "code",
   "execution_count": 25,
   "metadata": {},
   "outputs": [
    {
     "data": {
      "text/html": [
       "<style  type=\"text/css\" >\n",
       "#T_b60af338_1a14_11eb_8b9d_8cec4b0ec919row0_col1{\n",
       "            background-color:  #05659f;\n",
       "            color:  #f1f1f1;\n",
       "        }#T_b60af338_1a14_11eb_8b9d_8cec4b0ec919row1_col1{\n",
       "            background-color:  #023858;\n",
       "            color:  #f1f1f1;\n",
       "        }#T_b60af338_1a14_11eb_8b9d_8cec4b0ec919row2_col1{\n",
       "            background-color:  #e7e3f0;\n",
       "            color:  #000000;\n",
       "        }#T_b60af338_1a14_11eb_8b9d_8cec4b0ec919row3_col1{\n",
       "            background-color:  #abbfdc;\n",
       "            color:  #000000;\n",
       "        }#T_b60af338_1a14_11eb_8b9d_8cec4b0ec919row4_col1{\n",
       "            background-color:  #efe9f3;\n",
       "            color:  #000000;\n",
       "        }#T_b60af338_1a14_11eb_8b9d_8cec4b0ec919row5_col1{\n",
       "            background-color:  #04649e;\n",
       "            color:  #f1f1f1;\n",
       "        }#T_b60af338_1a14_11eb_8b9d_8cec4b0ec919row6_col1{\n",
       "            background-color:  #046198;\n",
       "            color:  #f1f1f1;\n",
       "        }#T_b60af338_1a14_11eb_8b9d_8cec4b0ec919row7_col1{\n",
       "            background-color:  #e1dfed;\n",
       "            color:  #000000;\n",
       "        }#T_b60af338_1a14_11eb_8b9d_8cec4b0ec919row8_col1{\n",
       "            background-color:  #fff7fb;\n",
       "            color:  #000000;\n",
       "        }</style><table id=\"T_b60af338_1a14_11eb_8b9d_8cec4b0ec919\" ><thead>    <tr>        <th class=\"blank level0\" ></th>        <th class=\"col_heading level0 col0\" >features</th>        <th class=\"col_heading level0 col1\" >pvalues</th>    </tr></thead><tbody>\n",
       "                <tr>\n",
       "                        <th id=\"T_b60af338_1a14_11eb_8b9d_8cec4b0ec919level0_row0\" class=\"row_heading level0 row0\" >0</th>\n",
       "                        <td id=\"T_b60af338_1a14_11eb_8b9d_8cec4b0ec919row0_col0\" class=\"data row0 col0\" >is_hun</td>\n",
       "                        <td id=\"T_b60af338_1a14_11eb_8b9d_8cec4b0ec919row0_col1\" class=\"data row0 col1\" >0.556401</td>\n",
       "            </tr>\n",
       "            <tr>\n",
       "                        <th id=\"T_b60af338_1a14_11eb_8b9d_8cec4b0ec919level0_row1\" class=\"row_heading level0 row1\" >1</th>\n",
       "                        <td id=\"T_b60af338_1a14_11eb_8b9d_8cec4b0ec919row1_col0\" class=\"data row1 col0\" >is_ten</td>\n",
       "                        <td id=\"T_b60af338_1a14_11eb_8b9d_8cec4b0ec919row1_col1\" class=\"data row1 col1\" >0.680955</td>\n",
       "            </tr>\n",
       "            <tr>\n",
       "                        <th id=\"T_b60af338_1a14_11eb_8b9d_8cec4b0ec919level0_row2\" class=\"row_heading level0 row2\" >2</th>\n",
       "                        <td id=\"T_b60af338_1a14_11eb_8b9d_8cec4b0ec919row2_col0\" class=\"data row2 col0\" >is_twe</td>\n",
       "                        <td id=\"T_b60af338_1a14_11eb_8b9d_8cec4b0ec919row2_col1\" class=\"data row2 col1\" >0.122157</td>\n",
       "            </tr>\n",
       "            <tr>\n",
       "                        <th id=\"T_b60af338_1a14_11eb_8b9d_8cec4b0ec919level0_row3\" class=\"row_heading level0 row3\" >3</th>\n",
       "                        <td id=\"T_b60af338_1a14_11eb_8b9d_8cec4b0ec919row3_col0\" class=\"data row3 col0\" >is_thi</td>\n",
       "                        <td id=\"T_b60af338_1a14_11eb_8b9d_8cec4b0ec919row3_col1\" class=\"data row3 col1\" >0.263128</td>\n",
       "            </tr>\n",
       "            <tr>\n",
       "                        <th id=\"T_b60af338_1a14_11eb_8b9d_8cec4b0ec919level0_row4\" class=\"row_heading level0 row4\" >4</th>\n",
       "                        <td id=\"T_b60af338_1a14_11eb_8b9d_8cec4b0ec919row4_col0\" class=\"data row4 col0\" >is_for</td>\n",
       "                        <td id=\"T_b60af338_1a14_11eb_8b9d_8cec4b0ec919row4_col1\" class=\"data row4 col1\" >0.097063</td>\n",
       "            </tr>\n",
       "            <tr>\n",
       "                        <th id=\"T_b60af338_1a14_11eb_8b9d_8cec4b0ec919level0_row5\" class=\"row_heading level0 row5\" >5</th>\n",
       "                        <td id=\"T_b60af338_1a14_11eb_8b9d_8cec4b0ec919row5_col0\" class=\"data row5 col0\" >is_fif</td>\n",
       "                        <td id=\"T_b60af338_1a14_11eb_8b9d_8cec4b0ec919row5_col1\" class=\"data row5 col1\" >0.560052</td>\n",
       "            </tr>\n",
       "            <tr>\n",
       "                        <th id=\"T_b60af338_1a14_11eb_8b9d_8cec4b0ec919level0_row6\" class=\"row_heading level0 row6\" >6</th>\n",
       "                        <td id=\"T_b60af338_1a14_11eb_8b9d_8cec4b0ec919row6_col0\" class=\"data row6 col0\" >is_six</td>\n",
       "                        <td id=\"T_b60af338_1a14_11eb_8b9d_8cec4b0ec919row6_col1\" class=\"data row6 col1\" >0.571228</td>\n",
       "            </tr>\n",
       "            <tr>\n",
       "                        <th id=\"T_b60af338_1a14_11eb_8b9d_8cec4b0ec919level0_row7\" class=\"row_heading level0 row7\" >7</th>\n",
       "                        <td id=\"T_b60af338_1a14_11eb_8b9d_8cec4b0ec919row7_col0\" class=\"data row7 col0\" >is_sev</td>\n",
       "                        <td id=\"T_b60af338_1a14_11eb_8b9d_8cec4b0ec919row7_col1\" class=\"data row7 col1\" >0.141019</td>\n",
       "            </tr>\n",
       "            <tr>\n",
       "                        <th id=\"T_b60af338_1a14_11eb_8b9d_8cec4b0ec919level0_row8\" class=\"row_heading level0 row8\" >8</th>\n",
       "                        <td id=\"T_b60af338_1a14_11eb_8b9d_8cec4b0ec919row8_col0\" class=\"data row8 col0\" >is_eig</td>\n",
       "                        <td id=\"T_b60af338_1a14_11eb_8b9d_8cec4b0ec919row8_col1\" class=\"data row8 col1\" >0.026971</td>\n",
       "            </tr>\n",
       "    </tbody></table>"
      ],
      "text/plain": [
       "<pandas.io.formats.style.Styler at 0x2a6034b5b70>"
      ]
     },
     "execution_count": 25,
     "metadata": {},
     "output_type": "execute_result"
    }
   ],
   "source": [
    "mlm_results2[['features', 'pvalues']].style.background_gradient()"
   ]
  },
  {
   "cell_type": "code",
   "execution_count": 26,
   "metadata": {},
   "outputs": [
    {
     "data": {
      "application/vnd.plotly.v1+json": {
       "config": {
        "plotlyServerURL": "https://plot.ly"
       },
       "data": [
        {
         "error_y": {
          "array": [
           0.07910799248919125,
           0.05129109422193629,
           0.05717645969035396,
           0.05340659168807183,
           0.04309529998990353,
           0.08463846075561729,
           0.07047138102316994,
           0.07988882045042497,
           0.0708727251278804
          ],
          "type": "data",
          "visible": true
         },
         "marker": {
          "color": [
           0.556400703130226,
           0.6809553494932776,
           0.12215669562775079,
           0.26312833952075143,
           0.09706285754396844,
           0.5600522062711568,
           0.5712277618019157,
           0.14101907302214434,
           0.02697146046709677
          ],
          "colorscale": [
           [
            0,
            "#00224e"
           ],
           [
            0.1111111111111111,
            "#123570"
           ],
           [
            0.2222222222222222,
            "#3b496c"
           ],
           [
            0.3333333333333333,
            "#575d6d"
           ],
           [
            0.4444444444444444,
            "#707173"
           ],
           [
            0.5555555555555556,
            "#8a8678"
           ],
           [
            0.6666666666666666,
            "#a59c74"
           ],
           [
            0.7777777777777778,
            "#c3b369"
           ],
           [
            0.8888888888888888,
            "#e1cc55"
           ],
           [
            1,
            "#fee838"
           ]
          ],
          "opacity": 0.8,
          "showscale": true
         },
         "name": "Ratings_Score_Top_Coef",
         "type": "bar",
         "x": [
          "is_hun",
          "is_ten",
          "is_twe",
          "is_thi",
          "is_for",
          "is_fif",
          "is_six",
          "is_sev",
          "is_eig"
         ],
         "y": [
          -0.011870373561099257,
          -0.005379904215113798,
          0.02254696217393107,
          -0.015246059043717368,
          -0.01824177041426196,
          -0.012582946770638414,
          0.010179782305056674,
          0.029999754713014186,
          0.03999194646638768
         ]
        }
       ],
       "layout": {
        "template": {
         "data": {
          "bar": [
           {
            "error_x": {
             "color": "#2a3f5f"
            },
            "error_y": {
             "color": "#2a3f5f"
            },
            "marker": {
             "line": {
              "color": "#E5ECF6",
              "width": 0.5
             }
            },
            "type": "bar"
           }
          ],
          "barpolar": [
           {
            "marker": {
             "line": {
              "color": "#E5ECF6",
              "width": 0.5
             }
            },
            "type": "barpolar"
           }
          ],
          "carpet": [
           {
            "aaxis": {
             "endlinecolor": "#2a3f5f",
             "gridcolor": "white",
             "linecolor": "white",
             "minorgridcolor": "white",
             "startlinecolor": "#2a3f5f"
            },
            "baxis": {
             "endlinecolor": "#2a3f5f",
             "gridcolor": "white",
             "linecolor": "white",
             "minorgridcolor": "white",
             "startlinecolor": "#2a3f5f"
            },
            "type": "carpet"
           }
          ],
          "choropleth": [
           {
            "colorbar": {
             "outlinewidth": 0,
             "ticks": ""
            },
            "type": "choropleth"
           }
          ],
          "contour": [
           {
            "colorbar": {
             "outlinewidth": 0,
             "ticks": ""
            },
            "colorscale": [
             [
              0,
              "#0d0887"
             ],
             [
              0.1111111111111111,
              "#46039f"
             ],
             [
              0.2222222222222222,
              "#7201a8"
             ],
             [
              0.3333333333333333,
              "#9c179e"
             ],
             [
              0.4444444444444444,
              "#bd3786"
             ],
             [
              0.5555555555555556,
              "#d8576b"
             ],
             [
              0.6666666666666666,
              "#ed7953"
             ],
             [
              0.7777777777777778,
              "#fb9f3a"
             ],
             [
              0.8888888888888888,
              "#fdca26"
             ],
             [
              1,
              "#f0f921"
             ]
            ],
            "type": "contour"
           }
          ],
          "contourcarpet": [
           {
            "colorbar": {
             "outlinewidth": 0,
             "ticks": ""
            },
            "type": "contourcarpet"
           }
          ],
          "heatmap": [
           {
            "colorbar": {
             "outlinewidth": 0,
             "ticks": ""
            },
            "colorscale": [
             [
              0,
              "#0d0887"
             ],
             [
              0.1111111111111111,
              "#46039f"
             ],
             [
              0.2222222222222222,
              "#7201a8"
             ],
             [
              0.3333333333333333,
              "#9c179e"
             ],
             [
              0.4444444444444444,
              "#bd3786"
             ],
             [
              0.5555555555555556,
              "#d8576b"
             ],
             [
              0.6666666666666666,
              "#ed7953"
             ],
             [
              0.7777777777777778,
              "#fb9f3a"
             ],
             [
              0.8888888888888888,
              "#fdca26"
             ],
             [
              1,
              "#f0f921"
             ]
            ],
            "type": "heatmap"
           }
          ],
          "heatmapgl": [
           {
            "colorbar": {
             "outlinewidth": 0,
             "ticks": ""
            },
            "colorscale": [
             [
              0,
              "#0d0887"
             ],
             [
              0.1111111111111111,
              "#46039f"
             ],
             [
              0.2222222222222222,
              "#7201a8"
             ],
             [
              0.3333333333333333,
              "#9c179e"
             ],
             [
              0.4444444444444444,
              "#bd3786"
             ],
             [
              0.5555555555555556,
              "#d8576b"
             ],
             [
              0.6666666666666666,
              "#ed7953"
             ],
             [
              0.7777777777777778,
              "#fb9f3a"
             ],
             [
              0.8888888888888888,
              "#fdca26"
             ],
             [
              1,
              "#f0f921"
             ]
            ],
            "type": "heatmapgl"
           }
          ],
          "histogram": [
           {
            "marker": {
             "colorbar": {
              "outlinewidth": 0,
              "ticks": ""
             }
            },
            "type": "histogram"
           }
          ],
          "histogram2d": [
           {
            "colorbar": {
             "outlinewidth": 0,
             "ticks": ""
            },
            "colorscale": [
             [
              0,
              "#0d0887"
             ],
             [
              0.1111111111111111,
              "#46039f"
             ],
             [
              0.2222222222222222,
              "#7201a8"
             ],
             [
              0.3333333333333333,
              "#9c179e"
             ],
             [
              0.4444444444444444,
              "#bd3786"
             ],
             [
              0.5555555555555556,
              "#d8576b"
             ],
             [
              0.6666666666666666,
              "#ed7953"
             ],
             [
              0.7777777777777778,
              "#fb9f3a"
             ],
             [
              0.8888888888888888,
              "#fdca26"
             ],
             [
              1,
              "#f0f921"
             ]
            ],
            "type": "histogram2d"
           }
          ],
          "histogram2dcontour": [
           {
            "colorbar": {
             "outlinewidth": 0,
             "ticks": ""
            },
            "colorscale": [
             [
              0,
              "#0d0887"
             ],
             [
              0.1111111111111111,
              "#46039f"
             ],
             [
              0.2222222222222222,
              "#7201a8"
             ],
             [
              0.3333333333333333,
              "#9c179e"
             ],
             [
              0.4444444444444444,
              "#bd3786"
             ],
             [
              0.5555555555555556,
              "#d8576b"
             ],
             [
              0.6666666666666666,
              "#ed7953"
             ],
             [
              0.7777777777777778,
              "#fb9f3a"
             ],
             [
              0.8888888888888888,
              "#fdca26"
             ],
             [
              1,
              "#f0f921"
             ]
            ],
            "type": "histogram2dcontour"
           }
          ],
          "mesh3d": [
           {
            "colorbar": {
             "outlinewidth": 0,
             "ticks": ""
            },
            "type": "mesh3d"
           }
          ],
          "parcoords": [
           {
            "line": {
             "colorbar": {
              "outlinewidth": 0,
              "ticks": ""
             }
            },
            "type": "parcoords"
           }
          ],
          "pie": [
           {
            "automargin": true,
            "type": "pie"
           }
          ],
          "scatter": [
           {
            "marker": {
             "colorbar": {
              "outlinewidth": 0,
              "ticks": ""
             }
            },
            "type": "scatter"
           }
          ],
          "scatter3d": [
           {
            "line": {
             "colorbar": {
              "outlinewidth": 0,
              "ticks": ""
             }
            },
            "marker": {
             "colorbar": {
              "outlinewidth": 0,
              "ticks": ""
             }
            },
            "type": "scatter3d"
           }
          ],
          "scattercarpet": [
           {
            "marker": {
             "colorbar": {
              "outlinewidth": 0,
              "ticks": ""
             }
            },
            "type": "scattercarpet"
           }
          ],
          "scattergeo": [
           {
            "marker": {
             "colorbar": {
              "outlinewidth": 0,
              "ticks": ""
             }
            },
            "type": "scattergeo"
           }
          ],
          "scattergl": [
           {
            "marker": {
             "colorbar": {
              "outlinewidth": 0,
              "ticks": ""
             }
            },
            "type": "scattergl"
           }
          ],
          "scattermapbox": [
           {
            "marker": {
             "colorbar": {
              "outlinewidth": 0,
              "ticks": ""
             }
            },
            "type": "scattermapbox"
           }
          ],
          "scatterpolar": [
           {
            "marker": {
             "colorbar": {
              "outlinewidth": 0,
              "ticks": ""
             }
            },
            "type": "scatterpolar"
           }
          ],
          "scatterpolargl": [
           {
            "marker": {
             "colorbar": {
              "outlinewidth": 0,
              "ticks": ""
             }
            },
            "type": "scatterpolargl"
           }
          ],
          "scatterternary": [
           {
            "marker": {
             "colorbar": {
              "outlinewidth": 0,
              "ticks": ""
             }
            },
            "type": "scatterternary"
           }
          ],
          "surface": [
           {
            "colorbar": {
             "outlinewidth": 0,
             "ticks": ""
            },
            "colorscale": [
             [
              0,
              "#0d0887"
             ],
             [
              0.1111111111111111,
              "#46039f"
             ],
             [
              0.2222222222222222,
              "#7201a8"
             ],
             [
              0.3333333333333333,
              "#9c179e"
             ],
             [
              0.4444444444444444,
              "#bd3786"
             ],
             [
              0.5555555555555556,
              "#d8576b"
             ],
             [
              0.6666666666666666,
              "#ed7953"
             ],
             [
              0.7777777777777778,
              "#fb9f3a"
             ],
             [
              0.8888888888888888,
              "#fdca26"
             ],
             [
              1,
              "#f0f921"
             ]
            ],
            "type": "surface"
           }
          ],
          "table": [
           {
            "cells": {
             "fill": {
              "color": "#EBF0F8"
             },
             "line": {
              "color": "white"
             }
            },
            "header": {
             "fill": {
              "color": "#C8D4E3"
             },
             "line": {
              "color": "white"
             }
            },
            "type": "table"
           }
          ]
         },
         "layout": {
          "annotationdefaults": {
           "arrowcolor": "#2a3f5f",
           "arrowhead": 0,
           "arrowwidth": 1
          },
          "coloraxis": {
           "colorbar": {
            "outlinewidth": 0,
            "ticks": ""
           }
          },
          "colorscale": {
           "diverging": [
            [
             0,
             "#8e0152"
            ],
            [
             0.1,
             "#c51b7d"
            ],
            [
             0.2,
             "#de77ae"
            ],
            [
             0.3,
             "#f1b6da"
            ],
            [
             0.4,
             "#fde0ef"
            ],
            [
             0.5,
             "#f7f7f7"
            ],
            [
             0.6,
             "#e6f5d0"
            ],
            [
             0.7,
             "#b8e186"
            ],
            [
             0.8,
             "#7fbc41"
            ],
            [
             0.9,
             "#4d9221"
            ],
            [
             1,
             "#276419"
            ]
           ],
           "sequential": [
            [
             0,
             "#0d0887"
            ],
            [
             0.1111111111111111,
             "#46039f"
            ],
            [
             0.2222222222222222,
             "#7201a8"
            ],
            [
             0.3333333333333333,
             "#9c179e"
            ],
            [
             0.4444444444444444,
             "#bd3786"
            ],
            [
             0.5555555555555556,
             "#d8576b"
            ],
            [
             0.6666666666666666,
             "#ed7953"
            ],
            [
             0.7777777777777778,
             "#fb9f3a"
            ],
            [
             0.8888888888888888,
             "#fdca26"
            ],
            [
             1,
             "#f0f921"
            ]
           ],
           "sequentialminus": [
            [
             0,
             "#0d0887"
            ],
            [
             0.1111111111111111,
             "#46039f"
            ],
            [
             0.2222222222222222,
             "#7201a8"
            ],
            [
             0.3333333333333333,
             "#9c179e"
            ],
            [
             0.4444444444444444,
             "#bd3786"
            ],
            [
             0.5555555555555556,
             "#d8576b"
            ],
            [
             0.6666666666666666,
             "#ed7953"
            ],
            [
             0.7777777777777778,
             "#fb9f3a"
            ],
            [
             0.8888888888888888,
             "#fdca26"
            ],
            [
             1,
             "#f0f921"
            ]
           ]
          },
          "colorway": [
           "#636efa",
           "#EF553B",
           "#00cc96",
           "#ab63fa",
           "#FFA15A",
           "#19d3f3",
           "#FF6692",
           "#B6E880",
           "#FF97FF",
           "#FECB52"
          ],
          "font": {
           "color": "#2a3f5f"
          },
          "geo": {
           "bgcolor": "white",
           "lakecolor": "white",
           "landcolor": "#E5ECF6",
           "showlakes": true,
           "showland": true,
           "subunitcolor": "white"
          },
          "hoverlabel": {
           "align": "left"
          },
          "hovermode": "closest",
          "mapbox": {
           "style": "light"
          },
          "paper_bgcolor": "white",
          "plot_bgcolor": "#E5ECF6",
          "polar": {
           "angularaxis": {
            "gridcolor": "white",
            "linecolor": "white",
            "ticks": ""
           },
           "bgcolor": "#E5ECF6",
           "radialaxis": {
            "gridcolor": "white",
            "linecolor": "white",
            "ticks": ""
           }
          },
          "scene": {
           "xaxis": {
            "backgroundcolor": "#E5ECF6",
            "gridcolor": "white",
            "gridwidth": 2,
            "linecolor": "white",
            "showbackground": true,
            "ticks": "",
            "zerolinecolor": "white"
           },
           "yaxis": {
            "backgroundcolor": "#E5ECF6",
            "gridcolor": "white",
            "gridwidth": 2,
            "linecolor": "white",
            "showbackground": true,
            "ticks": "",
            "zerolinecolor": "white"
           },
           "zaxis": {
            "backgroundcolor": "#E5ECF6",
            "gridcolor": "white",
            "gridwidth": 2,
            "linecolor": "white",
            "showbackground": true,
            "ticks": "",
            "zerolinecolor": "white"
           }
          },
          "shapedefaults": {
           "line": {
            "color": "#2a3f5f"
           }
          },
          "ternary": {
           "aaxis": {
            "gridcolor": "white",
            "linecolor": "white",
            "ticks": ""
           },
           "baxis": {
            "gridcolor": "white",
            "linecolor": "white",
            "ticks": ""
           },
           "bgcolor": "#E5ECF6",
           "caxis": {
            "gridcolor": "white",
            "linecolor": "white",
            "ticks": ""
           }
          },
          "title": {
           "x": 0.05
          },
          "xaxis": {
           "automargin": true,
           "gridcolor": "white",
           "linecolor": "white",
           "ticks": "",
           "title": {
            "standoff": 15
           },
           "zerolinecolor": "white",
           "zerolinewidth": 2
          },
          "yaxis": {
           "automargin": true,
           "gridcolor": "white",
           "linecolor": "white",
           "ticks": "",
           "title": {
            "standoff": 15
           },
           "zerolinecolor": "white",
           "zerolinewidth": 2
          }
         }
        }
       }
      },
      "text/html": [
       "<div>\n",
       "        \n",
       "        \n",
       "            <div id=\"91845a3a-00b2-4650-a47c-acc170c17514\" class=\"plotly-graph-div\" style=\"height:525px; width:100%;\"></div>\n",
       "            <script type=\"text/javascript\">\n",
       "                require([\"plotly\"], function(Plotly) {\n",
       "                    window.PLOTLYENV=window.PLOTLYENV || {};\n",
       "                    \n",
       "                if (document.getElementById(\"91845a3a-00b2-4650-a47c-acc170c17514\")) {\n",
       "                    Plotly.newPlot(\n",
       "                        '91845a3a-00b2-4650-a47c-acc170c17514',\n",
       "                        [{\"error_y\": {\"array\": [0.07910799248919125, 0.05129109422193629, 0.05717645969035396, 0.05340659168807183, 0.04309529998990353, 0.08463846075561729, 0.07047138102316994, 0.07988882045042497, 0.0708727251278804], \"type\": \"data\", \"visible\": true}, \"marker\": {\"color\": [0.556400703130226, 0.6809553494932776, 0.12215669562775079, 0.26312833952075143, 0.09706285754396844, 0.5600522062711568, 0.5712277618019157, 0.14101907302214434, 0.02697146046709677], \"colorscale\": [[0.0, \"#00224e\"], [0.1111111111111111, \"#123570\"], [0.2222222222222222, \"#3b496c\"], [0.3333333333333333, \"#575d6d\"], [0.4444444444444444, \"#707173\"], [0.5555555555555556, \"#8a8678\"], [0.6666666666666666, \"#a59c74\"], [0.7777777777777778, \"#c3b369\"], [0.8888888888888888, \"#e1cc55\"], [1.0, \"#fee838\"]], \"opacity\": 0.8, \"showscale\": true}, \"name\": \"Ratings_Score_Top_Coef\", \"type\": \"bar\", \"x\": [\"is_hun\", \"is_ten\", \"is_twe\", \"is_thi\", \"is_for\", \"is_fif\", \"is_six\", \"is_sev\", \"is_eig\"], \"y\": [-0.011870373561099257, -0.005379904215113798, 0.02254696217393107, -0.015246059043717368, -0.01824177041426196, -0.012582946770638414, 0.010179782305056674, 0.029999754713014186, 0.03999194646638768]}],\n",
       "                        {\"template\": {\"data\": {\"bar\": [{\"error_x\": {\"color\": \"#2a3f5f\"}, \"error_y\": {\"color\": \"#2a3f5f\"}, \"marker\": {\"line\": {\"color\": \"#E5ECF6\", \"width\": 0.5}}, \"type\": \"bar\"}], \"barpolar\": [{\"marker\": {\"line\": {\"color\": \"#E5ECF6\", \"width\": 0.5}}, \"type\": \"barpolar\"}], \"carpet\": [{\"aaxis\": {\"endlinecolor\": \"#2a3f5f\", \"gridcolor\": \"white\", \"linecolor\": \"white\", \"minorgridcolor\": \"white\", \"startlinecolor\": \"#2a3f5f\"}, \"baxis\": {\"endlinecolor\": \"#2a3f5f\", \"gridcolor\": \"white\", \"linecolor\": \"white\", \"minorgridcolor\": \"white\", \"startlinecolor\": \"#2a3f5f\"}, \"type\": \"carpet\"}], \"choropleth\": [{\"colorbar\": {\"outlinewidth\": 0, \"ticks\": \"\"}, \"type\": \"choropleth\"}], \"contour\": [{\"colorbar\": {\"outlinewidth\": 0, \"ticks\": \"\"}, \"colorscale\": [[0.0, \"#0d0887\"], [0.1111111111111111, \"#46039f\"], [0.2222222222222222, \"#7201a8\"], [0.3333333333333333, \"#9c179e\"], [0.4444444444444444, \"#bd3786\"], [0.5555555555555556, \"#d8576b\"], [0.6666666666666666, \"#ed7953\"], [0.7777777777777778, \"#fb9f3a\"], [0.8888888888888888, \"#fdca26\"], [1.0, \"#f0f921\"]], \"type\": \"contour\"}], \"contourcarpet\": [{\"colorbar\": {\"outlinewidth\": 0, \"ticks\": \"\"}, \"type\": \"contourcarpet\"}], \"heatmap\": [{\"colorbar\": {\"outlinewidth\": 0, \"ticks\": \"\"}, \"colorscale\": [[0.0, \"#0d0887\"], [0.1111111111111111, \"#46039f\"], [0.2222222222222222, \"#7201a8\"], [0.3333333333333333, \"#9c179e\"], [0.4444444444444444, \"#bd3786\"], [0.5555555555555556, \"#d8576b\"], [0.6666666666666666, \"#ed7953\"], [0.7777777777777778, \"#fb9f3a\"], [0.8888888888888888, \"#fdca26\"], [1.0, \"#f0f921\"]], \"type\": \"heatmap\"}], \"heatmapgl\": [{\"colorbar\": {\"outlinewidth\": 0, \"ticks\": \"\"}, \"colorscale\": [[0.0, \"#0d0887\"], [0.1111111111111111, \"#46039f\"], [0.2222222222222222, \"#7201a8\"], [0.3333333333333333, \"#9c179e\"], [0.4444444444444444, \"#bd3786\"], [0.5555555555555556, \"#d8576b\"], [0.6666666666666666, \"#ed7953\"], [0.7777777777777778, \"#fb9f3a\"], [0.8888888888888888, \"#fdca26\"], [1.0, \"#f0f921\"]], \"type\": \"heatmapgl\"}], \"histogram\": [{\"marker\": {\"colorbar\": {\"outlinewidth\": 0, \"ticks\": \"\"}}, \"type\": \"histogram\"}], \"histogram2d\": [{\"colorbar\": {\"outlinewidth\": 0, \"ticks\": \"\"}, \"colorscale\": [[0.0, \"#0d0887\"], [0.1111111111111111, \"#46039f\"], [0.2222222222222222, \"#7201a8\"], [0.3333333333333333, \"#9c179e\"], [0.4444444444444444, \"#bd3786\"], [0.5555555555555556, \"#d8576b\"], [0.6666666666666666, \"#ed7953\"], [0.7777777777777778, \"#fb9f3a\"], [0.8888888888888888, \"#fdca26\"], [1.0, \"#f0f921\"]], \"type\": \"histogram2d\"}], \"histogram2dcontour\": [{\"colorbar\": {\"outlinewidth\": 0, \"ticks\": \"\"}, \"colorscale\": [[0.0, \"#0d0887\"], [0.1111111111111111, \"#46039f\"], [0.2222222222222222, \"#7201a8\"], [0.3333333333333333, \"#9c179e\"], [0.4444444444444444, \"#bd3786\"], [0.5555555555555556, \"#d8576b\"], [0.6666666666666666, \"#ed7953\"], [0.7777777777777778, \"#fb9f3a\"], [0.8888888888888888, \"#fdca26\"], [1.0, \"#f0f921\"]], \"type\": \"histogram2dcontour\"}], \"mesh3d\": [{\"colorbar\": {\"outlinewidth\": 0, \"ticks\": \"\"}, \"type\": \"mesh3d\"}], \"parcoords\": [{\"line\": {\"colorbar\": {\"outlinewidth\": 0, \"ticks\": \"\"}}, \"type\": \"parcoords\"}], \"pie\": [{\"automargin\": true, \"type\": \"pie\"}], \"scatter\": [{\"marker\": {\"colorbar\": {\"outlinewidth\": 0, \"ticks\": \"\"}}, \"type\": \"scatter\"}], \"scatter3d\": [{\"line\": {\"colorbar\": {\"outlinewidth\": 0, \"ticks\": \"\"}}, \"marker\": {\"colorbar\": {\"outlinewidth\": 0, \"ticks\": \"\"}}, \"type\": \"scatter3d\"}], \"scattercarpet\": [{\"marker\": {\"colorbar\": {\"outlinewidth\": 0, \"ticks\": \"\"}}, \"type\": \"scattercarpet\"}], \"scattergeo\": [{\"marker\": {\"colorbar\": {\"outlinewidth\": 0, \"ticks\": \"\"}}, \"type\": \"scattergeo\"}], \"scattergl\": [{\"marker\": {\"colorbar\": {\"outlinewidth\": 0, \"ticks\": \"\"}}, \"type\": \"scattergl\"}], \"scattermapbox\": [{\"marker\": {\"colorbar\": {\"outlinewidth\": 0, \"ticks\": \"\"}}, \"type\": \"scattermapbox\"}], \"scatterpolar\": [{\"marker\": {\"colorbar\": {\"outlinewidth\": 0, \"ticks\": \"\"}}, \"type\": \"scatterpolar\"}], \"scatterpolargl\": [{\"marker\": {\"colorbar\": {\"outlinewidth\": 0, \"ticks\": \"\"}}, \"type\": \"scatterpolargl\"}], \"scatterternary\": [{\"marker\": {\"colorbar\": {\"outlinewidth\": 0, \"ticks\": \"\"}}, \"type\": \"scatterternary\"}], \"surface\": [{\"colorbar\": {\"outlinewidth\": 0, \"ticks\": \"\"}, \"colorscale\": [[0.0, \"#0d0887\"], [0.1111111111111111, \"#46039f\"], [0.2222222222222222, \"#7201a8\"], [0.3333333333333333, \"#9c179e\"], [0.4444444444444444, \"#bd3786\"], [0.5555555555555556, \"#d8576b\"], [0.6666666666666666, \"#ed7953\"], [0.7777777777777778, \"#fb9f3a\"], [0.8888888888888888, \"#fdca26\"], [1.0, \"#f0f921\"]], \"type\": \"surface\"}], \"table\": [{\"cells\": {\"fill\": {\"color\": \"#EBF0F8\"}, \"line\": {\"color\": \"white\"}}, \"header\": {\"fill\": {\"color\": \"#C8D4E3\"}, \"line\": {\"color\": \"white\"}}, \"type\": \"table\"}]}, \"layout\": {\"annotationdefaults\": {\"arrowcolor\": \"#2a3f5f\", \"arrowhead\": 0, \"arrowwidth\": 1}, \"coloraxis\": {\"colorbar\": {\"outlinewidth\": 0, \"ticks\": \"\"}}, \"colorscale\": {\"diverging\": [[0, \"#8e0152\"], [0.1, \"#c51b7d\"], [0.2, \"#de77ae\"], [0.3, \"#f1b6da\"], [0.4, \"#fde0ef\"], [0.5, \"#f7f7f7\"], [0.6, \"#e6f5d0\"], [0.7, \"#b8e186\"], [0.8, \"#7fbc41\"], [0.9, \"#4d9221\"], [1, \"#276419\"]], \"sequential\": [[0.0, \"#0d0887\"], [0.1111111111111111, \"#46039f\"], [0.2222222222222222, \"#7201a8\"], [0.3333333333333333, \"#9c179e\"], [0.4444444444444444, \"#bd3786\"], [0.5555555555555556, \"#d8576b\"], [0.6666666666666666, \"#ed7953\"], [0.7777777777777778, \"#fb9f3a\"], [0.8888888888888888, \"#fdca26\"], [1.0, \"#f0f921\"]], \"sequentialminus\": [[0.0, \"#0d0887\"], [0.1111111111111111, \"#46039f\"], [0.2222222222222222, \"#7201a8\"], [0.3333333333333333, \"#9c179e\"], [0.4444444444444444, \"#bd3786\"], [0.5555555555555556, \"#d8576b\"], [0.6666666666666666, \"#ed7953\"], [0.7777777777777778, \"#fb9f3a\"], [0.8888888888888888, \"#fdca26\"], [1.0, \"#f0f921\"]]}, \"colorway\": [\"#636efa\", \"#EF553B\", \"#00cc96\", \"#ab63fa\", \"#FFA15A\", \"#19d3f3\", \"#FF6692\", \"#B6E880\", \"#FF97FF\", \"#FECB52\"], \"font\": {\"color\": \"#2a3f5f\"}, \"geo\": {\"bgcolor\": \"white\", \"lakecolor\": \"white\", \"landcolor\": \"#E5ECF6\", \"showlakes\": true, \"showland\": true, \"subunitcolor\": \"white\"}, \"hoverlabel\": {\"align\": \"left\"}, \"hovermode\": \"closest\", \"mapbox\": {\"style\": \"light\"}, \"paper_bgcolor\": \"white\", \"plot_bgcolor\": \"#E5ECF6\", \"polar\": {\"angularaxis\": {\"gridcolor\": \"white\", \"linecolor\": \"white\", \"ticks\": \"\"}, \"bgcolor\": \"#E5ECF6\", \"radialaxis\": {\"gridcolor\": \"white\", \"linecolor\": \"white\", \"ticks\": \"\"}}, \"scene\": {\"xaxis\": {\"backgroundcolor\": \"#E5ECF6\", \"gridcolor\": \"white\", \"gridwidth\": 2, \"linecolor\": \"white\", \"showbackground\": true, \"ticks\": \"\", \"zerolinecolor\": \"white\"}, \"yaxis\": {\"backgroundcolor\": \"#E5ECF6\", \"gridcolor\": \"white\", \"gridwidth\": 2, \"linecolor\": \"white\", \"showbackground\": true, \"ticks\": \"\", \"zerolinecolor\": \"white\"}, \"zaxis\": {\"backgroundcolor\": \"#E5ECF6\", \"gridcolor\": \"white\", \"gridwidth\": 2, \"linecolor\": \"white\", \"showbackground\": true, \"ticks\": \"\", \"zerolinecolor\": \"white\"}}, \"shapedefaults\": {\"line\": {\"color\": \"#2a3f5f\"}}, \"ternary\": {\"aaxis\": {\"gridcolor\": \"white\", \"linecolor\": \"white\", \"ticks\": \"\"}, \"baxis\": {\"gridcolor\": \"white\", \"linecolor\": \"white\", \"ticks\": \"\"}, \"bgcolor\": \"#E5ECF6\", \"caxis\": {\"gridcolor\": \"white\", \"linecolor\": \"white\", \"ticks\": \"\"}}, \"title\": {\"x\": 0.05}, \"xaxis\": {\"automargin\": true, \"gridcolor\": \"white\", \"linecolor\": \"white\", \"ticks\": \"\", \"title\": {\"standoff\": 15}, \"zerolinecolor\": \"white\", \"zerolinewidth\": 2}, \"yaxis\": {\"automargin\": true, \"gridcolor\": \"white\", \"linecolor\": \"white\", \"ticks\": \"\", \"title\": {\"standoff\": 15}, \"zerolinecolor\": \"white\", \"zerolinewidth\": 2}}}},\n",
       "                        {\"responsive\": true}\n",
       "                    ).then(function(){\n",
       "                            \n",
       "var gd = document.getElementById('91845a3a-00b2-4650-a47c-acc170c17514');\n",
       "var x = new MutationObserver(function (mutations, observer) {{\n",
       "        var display = window.getComputedStyle(gd).display;\n",
       "        if (!display || display === 'none') {{\n",
       "            console.log([gd, 'removed!']);\n",
       "            Plotly.purge(gd);\n",
       "            observer.disconnect();\n",
       "        }}\n",
       "}});\n",
       "\n",
       "// Listen for the removal of the full notebook cells\n",
       "var notebookContainer = gd.closest('#notebook-container');\n",
       "if (notebookContainer) {{\n",
       "    x.observe(notebookContainer, {childList: true});\n",
       "}}\n",
       "\n",
       "// Listen for the clearing of the current output cell\n",
       "var outputEl = gd.closest('.output');\n",
       "if (outputEl) {{\n",
       "    x.observe(outputEl, {childList: true});\n",
       "}}\n",
       "\n",
       "                        })\n",
       "                };\n",
       "                });\n",
       "            </script>\n",
       "        </div>"
      ]
     },
     "metadata": {},
     "output_type": "display_data"
    }
   ],
   "source": [
    "plot_sig_results(mlm_results2)"
   ]
  },
  {
   "cell_type": "code",
   "execution_count": 27,
   "metadata": {},
   "outputs": [
    {
     "data": {
      "text/html": [
       "<style  type=\"text/css\" >\n",
       "</style><table id=\"T_b7067b88_1a14_11eb_8f20_8cec4b0ec919\" ><thead>    <tr>        <th class=\"blank level0\" ></th>        <th class=\"col_heading level0 col0\" >features</th>        <th class=\"col_heading level0 col1\" >pvalues</th>        <th class=\"col_heading level0 col2\" >coef</th>        <th class=\"col_heading level0 col3\" >conf_int_025</th>        <th class=\"col_heading level0 col4\" >conf_int_975</th>    </tr></thead><tbody>\n",
       "                <tr>\n",
       "                        <th id=\"T_b7067b88_1a14_11eb_8f20_8cec4b0ec919level0_row0\" class=\"row_heading level0 row0\" >0</th>\n",
       "                        <td id=\"T_b7067b88_1a14_11eb_8f20_8cec4b0ec919row0_col0\" class=\"data row0 col0\" >is_hun</td>\n",
       "                        <td id=\"T_b7067b88_1a14_11eb_8f20_8cec4b0ec919row0_col1\" class=\"data row0 col1\" >0.556401</td>\n",
       "                        <td id=\"T_b7067b88_1a14_11eb_8f20_8cec4b0ec919row0_col2\" class=\"data row0 col2\" >-0.011870</td>\n",
       "                        <td id=\"T_b7067b88_1a14_11eb_8f20_8cec4b0ec919row0_col3\" class=\"data row0 col3\" >-0.051424</td>\n",
       "                        <td id=\"T_b7067b88_1a14_11eb_8f20_8cec4b0ec919row0_col4\" class=\"data row0 col4\" >0.027684</td>\n",
       "            </tr>\n",
       "            <tr>\n",
       "                        <th id=\"T_b7067b88_1a14_11eb_8f20_8cec4b0ec919level0_row1\" class=\"row_heading level0 row1\" >1</th>\n",
       "                        <td id=\"T_b7067b88_1a14_11eb_8f20_8cec4b0ec919row1_col0\" class=\"data row1 col0\" >is_ten</td>\n",
       "                        <td id=\"T_b7067b88_1a14_11eb_8f20_8cec4b0ec919row1_col1\" class=\"data row1 col1\" >0.680955</td>\n",
       "                        <td id=\"T_b7067b88_1a14_11eb_8f20_8cec4b0ec919row1_col2\" class=\"data row1 col2\" >-0.005380</td>\n",
       "                        <td id=\"T_b7067b88_1a14_11eb_8f20_8cec4b0ec919row1_col3\" class=\"data row1 col3\" >-0.031025</td>\n",
       "                        <td id=\"T_b7067b88_1a14_11eb_8f20_8cec4b0ec919row1_col4\" class=\"data row1 col4\" >0.020266</td>\n",
       "            </tr>\n",
       "            <tr>\n",
       "                        <th id=\"T_b7067b88_1a14_11eb_8f20_8cec4b0ec919level0_row2\" class=\"row_heading level0 row2\" >2</th>\n",
       "                        <td id=\"T_b7067b88_1a14_11eb_8f20_8cec4b0ec919row2_col0\" class=\"data row2 col0\" >is_twe</td>\n",
       "                        <td id=\"T_b7067b88_1a14_11eb_8f20_8cec4b0ec919row2_col1\" class=\"data row2 col1\" >0.122157</td>\n",
       "                        <td id=\"T_b7067b88_1a14_11eb_8f20_8cec4b0ec919row2_col2\" class=\"data row2 col2\" >0.022547</td>\n",
       "                        <td id=\"T_b7067b88_1a14_11eb_8f20_8cec4b0ec919row2_col3\" class=\"data row2 col3\" >-0.006041</td>\n",
       "                        <td id=\"T_b7067b88_1a14_11eb_8f20_8cec4b0ec919row2_col4\" class=\"data row2 col4\" >0.051135</td>\n",
       "            </tr>\n",
       "            <tr>\n",
       "                        <th id=\"T_b7067b88_1a14_11eb_8f20_8cec4b0ec919level0_row3\" class=\"row_heading level0 row3\" >3</th>\n",
       "                        <td id=\"T_b7067b88_1a14_11eb_8f20_8cec4b0ec919row3_col0\" class=\"data row3 col0\" >is_thi</td>\n",
       "                        <td id=\"T_b7067b88_1a14_11eb_8f20_8cec4b0ec919row3_col1\" class=\"data row3 col1\" >0.263128</td>\n",
       "                        <td id=\"T_b7067b88_1a14_11eb_8f20_8cec4b0ec919row3_col2\" class=\"data row3 col2\" >-0.015246</td>\n",
       "                        <td id=\"T_b7067b88_1a14_11eb_8f20_8cec4b0ec919row3_col3\" class=\"data row3 col3\" >-0.041949</td>\n",
       "                        <td id=\"T_b7067b88_1a14_11eb_8f20_8cec4b0ec919row3_col4\" class=\"data row3 col4\" >0.011457</td>\n",
       "            </tr>\n",
       "            <tr>\n",
       "                        <th id=\"T_b7067b88_1a14_11eb_8f20_8cec4b0ec919level0_row4\" class=\"row_heading level0 row4\" >4</th>\n",
       "                        <td id=\"T_b7067b88_1a14_11eb_8f20_8cec4b0ec919row4_col0\" class=\"data row4 col0\" >is_for</td>\n",
       "                        <td id=\"T_b7067b88_1a14_11eb_8f20_8cec4b0ec919row4_col1\" class=\"data row4 col1\" >0.097063</td>\n",
       "                        <td id=\"T_b7067b88_1a14_11eb_8f20_8cec4b0ec919row4_col2\" class=\"data row4 col2\" >-0.018242</td>\n",
       "                        <td id=\"T_b7067b88_1a14_11eb_8f20_8cec4b0ec919row4_col3\" class=\"data row4 col3\" >-0.039789</td>\n",
       "                        <td id=\"T_b7067b88_1a14_11eb_8f20_8cec4b0ec919row4_col4\" class=\"data row4 col4\" >0.003306</td>\n",
       "            </tr>\n",
       "            <tr>\n",
       "                        <th id=\"T_b7067b88_1a14_11eb_8f20_8cec4b0ec919level0_row5\" class=\"row_heading level0 row5\" >5</th>\n",
       "                        <td id=\"T_b7067b88_1a14_11eb_8f20_8cec4b0ec919row5_col0\" class=\"data row5 col0\" >is_fif</td>\n",
       "                        <td id=\"T_b7067b88_1a14_11eb_8f20_8cec4b0ec919row5_col1\" class=\"data row5 col1\" >0.560052</td>\n",
       "                        <td id=\"T_b7067b88_1a14_11eb_8f20_8cec4b0ec919row5_col2\" class=\"data row5 col2\" >-0.012583</td>\n",
       "                        <td id=\"T_b7067b88_1a14_11eb_8f20_8cec4b0ec919row5_col3\" class=\"data row5 col3\" >-0.054902</td>\n",
       "                        <td id=\"T_b7067b88_1a14_11eb_8f20_8cec4b0ec919row5_col4\" class=\"data row5 col4\" >0.029736</td>\n",
       "            </tr>\n",
       "            <tr>\n",
       "                        <th id=\"T_b7067b88_1a14_11eb_8f20_8cec4b0ec919level0_row6\" class=\"row_heading level0 row6\" >6</th>\n",
       "                        <td id=\"T_b7067b88_1a14_11eb_8f20_8cec4b0ec919row6_col0\" class=\"data row6 col0\" >is_six</td>\n",
       "                        <td id=\"T_b7067b88_1a14_11eb_8f20_8cec4b0ec919row6_col1\" class=\"data row6 col1\" >0.571228</td>\n",
       "                        <td id=\"T_b7067b88_1a14_11eb_8f20_8cec4b0ec919row6_col2\" class=\"data row6 col2\" >0.010180</td>\n",
       "                        <td id=\"T_b7067b88_1a14_11eb_8f20_8cec4b0ec919row6_col3\" class=\"data row6 col3\" >-0.025056</td>\n",
       "                        <td id=\"T_b7067b88_1a14_11eb_8f20_8cec4b0ec919row6_col4\" class=\"data row6 col4\" >0.045415</td>\n",
       "            </tr>\n",
       "            <tr>\n",
       "                        <th id=\"T_b7067b88_1a14_11eb_8f20_8cec4b0ec919level0_row7\" class=\"row_heading level0 row7\" >7</th>\n",
       "                        <td id=\"T_b7067b88_1a14_11eb_8f20_8cec4b0ec919row7_col0\" class=\"data row7 col0\" >is_sev</td>\n",
       "                        <td id=\"T_b7067b88_1a14_11eb_8f20_8cec4b0ec919row7_col1\" class=\"data row7 col1\" >0.141019</td>\n",
       "                        <td id=\"T_b7067b88_1a14_11eb_8f20_8cec4b0ec919row7_col2\" class=\"data row7 col2\" >0.030000</td>\n",
       "                        <td id=\"T_b7067b88_1a14_11eb_8f20_8cec4b0ec919row7_col3\" class=\"data row7 col3\" >-0.009945</td>\n",
       "                        <td id=\"T_b7067b88_1a14_11eb_8f20_8cec4b0ec919row7_col4\" class=\"data row7 col4\" >0.069944</td>\n",
       "            </tr>\n",
       "            <tr>\n",
       "                        <th id=\"T_b7067b88_1a14_11eb_8f20_8cec4b0ec919level0_row8\" class=\"row_heading level0 row8\" >8</th>\n",
       "                        <td id=\"T_b7067b88_1a14_11eb_8f20_8cec4b0ec919row8_col0\" class=\"data row8 col0\" >is_eig</td>\n",
       "                        <td id=\"T_b7067b88_1a14_11eb_8f20_8cec4b0ec919row8_col1\" class=\"data row8 col1\" >0.026971</td>\n",
       "                        <td id=\"T_b7067b88_1a14_11eb_8f20_8cec4b0ec919row8_col2\" class=\"data row8 col2\" >0.039992</td>\n",
       "                        <td id=\"T_b7067b88_1a14_11eb_8f20_8cec4b0ec919row8_col3\" class=\"data row8 col3\" >0.004556</td>\n",
       "                        <td id=\"T_b7067b88_1a14_11eb_8f20_8cec4b0ec919row8_col4\" class=\"data row8 col4\" >0.075428</td>\n",
       "            </tr>\n",
       "    </tbody></table>"
      ],
      "text/plain": [
       "<pandas.io.formats.style.Styler at 0x2a6037b1828>"
      ]
     },
     "execution_count": 27,
     "metadata": {},
     "output_type": "execute_result"
    }
   ],
   "source": [
    "mlm_results2.style"
   ]
  },
  {
   "cell_type": "code",
   "execution_count": null,
   "metadata": {},
   "outputs": [],
   "source": []
  }
 ],
 "metadata": {
  "kernelspec": {
   "display_name": "Python 3",
   "language": "python",
   "name": "python3"
  },
  "language_info": {
   "codemirror_mode": {
    "name": "ipython",
    "version": 3
   },
   "file_extension": ".py",
   "mimetype": "text/x-python",
   "name": "python",
   "nbconvert_exporter": "python",
   "pygments_lexer": "ipython3",
   "version": "3.6.4"
  }
 },
 "nbformat": 4,
 "nbformat_minor": 2
}

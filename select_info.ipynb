{
 "cells": [
  {
   "cell_type": "code",
   "execution_count": 1,
   "metadata": {},
   "outputs": [],
   "source": [
    "import pandas as pd\n",
    "import numpy as np\n",
    "import sqlalchemy\n",
    "import datetime\n",
    "\n",
    "df_stikhi = pd.read_csv('./101120_stikhicats.csv', index_col = 0)\n",
    "df_manifest = pd.read_csv('./083020_manifestcats.csv', index_col = 0)\n",
    "df_dnevnik = pd.read_csv('./072420_dnevnikcats.csv', index_col = 0)\n",
    "df_roman = pd.read_csv('./101820_romancats.csv', index_col = 0)\n",
    "df_gazet = pd.read_csv('./102920_gazetcats.csv', index_col = 0)"
   ]
  },
  {
   "cell_type": "code",
   "execution_count": 50,
   "metadata": {},
   "outputs": [
    {
     "name": "stderr",
     "output_type": "stream",
     "text": [
      "C:\\Users\\madke\\Anaconda3\\lib\\site-packages\\pymysql\\cursors.py:170: Warning:\n",
      "\n",
      "(3719, \"'utf8' is currently an alias for the character set UTF8MB3, but will be an alias for UTF8MB4 in a future release. Please consider using UTF8MB4 in order to be unambiguous.\")\n",
      "\n"
     ]
    }
   ],
   "source": [
    "passw = '****'\n",
    "engine = sqlalchemy.create_engine('mysql+pymysql://madkehl:' + passw + '@127.0.0.1/prozhito_orig', encoding = 'utf-8')\n",
    "connection = engine.connect()\n",
    "metadata = sqlalchemy.MetaData()\n",
    "notes = sqlalchemy.Table('notes', metadata, autoload = True, autoload_with = engine)\n",
    "persons = sqlalchemy.Table('persons', metadata, autoload = True, autoload_with = engine)\n",
    "diary =sqlalchemy.Table('diary', metadata, autoload = True, autoload_with = engine)\n",
    "\n",
    "def execute(query):\n",
    "    ResultProxy = connection.execute(query)\n",
    "    return ResultProxy\n",
    "\n",
    "def retrieve_notes(id_num):\n",
    "    '''\n",
    "    SELECT COUNT(YEAR(date)) AS NEWYEAR from notes WHERE YEAR(date) in (1901, 1903, 1906) GROUP BY YEAR(date); \n",
    "    **for some reason the year column is less complete than date column\n",
    "    '''\n",
    "    trial = execute('SELECT * FROM notes WHERE id = '+ str(id_num) + ';')\n",
    "    ResultSet = trial.fetchall()\n",
    "    return ResultSet\n",
    "\n",
    "\n",
    "\n",
    "def resultToBio(diarynum):\n",
    "    trans = execute('SELECT person FROM diary WHERE id = ' + str(diarynum) + ';')\n",
    "    trans = trans.fetchall()\n",
    "    if len(trans) < 1:\n",
    "        return([[None, None, None]])\n",
    "    bio_info = execute('SELECT firstName, lastName, info FROM persons WHERE id = ' + str(trans[0][0]) + ';')\n",
    "    ResultSet = bio_info.fetchall()\n",
    "    koshka_list = []\n",
    "    for n in ResultSet:\n",
    "        koshka_list.append([n[0], n[1], n[2]])\n",
    "    return koshka_list\n",
    "\n",
    "\n",
    "def sample(df):\n",
    "    dice = range(max(df['entry_type']))\n",
    "    for_tatyana = []\n",
    "    id_col = []\n",
    "    for i in dice:\n",
    "        temp = df[df['entry_type'] == i]\n",
    "        res = temp['entry_id'].sample(n=3, random_state=7)\n",
    "        res = res.reset_index(drop = True)\n",
    "        for_tatyana.append(res)\n",
    "        id_col.append(i)\n",
    "        id_col.append(i)\n",
    "        id_col.append(i)\n",
    "    return(for_tatyana, id_col)\n",
    "    "
   ]
  },
  {
   "cell_type": "code",
   "execution_count": 51,
   "metadata": {},
   "outputs": [],
   "source": [
    "full_entries = []\n",
    "ids, entry_types = sample(df_stikhi)\n",
    "for i in ids:\n",
    "    for n in i:\n",
    "        full_entries.append(retrieve_notes(n))"
   ]
  },
  {
   "cell_type": "code",
   "execution_count": 52,
   "metadata": {},
   "outputs": [],
   "source": [
    "entry_id = []\n",
    "diarynum = []\n",
    "text = []\n",
    "year = []\n",
    "\n",
    "for i in full_entries:\n",
    "    for n in i:\n",
    "        entry_id.append(n[0])\n",
    "        diarynum.append(n[1])\n",
    "        text.append(n[2])\n",
    "        year.append(n[3].year)"
   ]
  },
  {
   "cell_type": "code",
   "execution_count": 53,
   "metadata": {},
   "outputs": [],
   "source": [
    "bios = []\n",
    "for i in diarynum:\n",
    "    bios.append(resultToBio(i))"
   ]
  },
  {
   "cell_type": "code",
   "execution_count": 54,
   "metadata": {},
   "outputs": [],
   "source": [
    "first_name = []\n",
    "last_name = []\n",
    "info = []\n",
    "\n",
    "for i in bios:\n",
    "    for n in i:\n",
    "        first_name.append(n[0])\n",
    "        last_name.append(n[1])\n",
    "        info.append(n[2])\n",
    "        "
   ]
  },
  {
   "cell_type": "code",
   "execution_count": 55,
   "metadata": {},
   "outputs": [
    {
     "data": {
      "text/plain": [
       "39"
      ]
     },
     "execution_count": 55,
     "metadata": {},
     "output_type": "execute_result"
    }
   ],
   "source": [
    "len(entry_types)"
   ]
  },
  {
   "cell_type": "code",
   "execution_count": 56,
   "metadata": {},
   "outputs": [],
   "source": [
    "\n",
    "full_entries_df = pd.DataFrame({\n",
    "    \n",
    "    'entry_type': entry_types,\n",
    "    'entry_id': entry_id,\n",
    "    'diarynum': diarynum,\n",
    "    'text': text,\n",
    "    'year': year,\n",
    "    'first_name': first_name,\n",
    "    'last_name': last_name,\n",
    "    'info': info\n",
    "    \n",
    "    \n",
    "})\n"
   ]
  },
  {
   "cell_type": "code",
   "execution_count": 58,
   "metadata": {},
   "outputs": [],
   "source": [
    "full_entries_df.to_csv('./110320_poetrysamples.csv')"
   ]
  },
  {
   "cell_type": "code",
   "execution_count": null,
   "metadata": {},
   "outputs": [],
   "source": []
  }
 ],
 "metadata": {
  "kernelspec": {
   "display_name": "Python 3",
   "language": "python",
   "name": "python3"
  },
  "language_info": {
   "codemirror_mode": {
    "name": "ipython",
    "version": 3
   },
   "file_extension": ".py",
   "mimetype": "text/x-python",
   "name": "python",
   "nbconvert_exporter": "python",
   "pygments_lexer": "ipython3",
   "version": "3.6.4"
  }
 },
 "nbformat": 4,
 "nbformat_minor": 2
}

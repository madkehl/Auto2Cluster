{
 "cells": [
  {
   "cell_type": "code",
   "execution_count": 1,
   "metadata": {},
   "outputs": [
    {
     "name": "stderr",
     "output_type": "stream",
     "text": [
      "C:\\Users\\madke\\Anaconda3\\lib\\site-packages\\h5py\\__init__.py:36: FutureWarning: Conversion of the second argument of issubdtype from `float` to `np.floating` is deprecated. In future, it will be treated as `np.float64 == np.dtype(float).type`.\n",
      "  from ._conv import register_converters as _register_converters\n",
      "Using TensorFlow backend.\n"
     ]
    }
   ],
   "source": [
    "exec(open(\"./autoencoderhelperfunctions.py\").read())\n",
    "df = pd.read_csv(\"./102520_gazet.csv\", index_col = 0)\n",
    "labels1 = pd.read_csv('./102420_gazetvecs.csv', index_col = 0)\n",
    "labels2 = labels1[~labels1.text.str.contains('і')].copy()\n",
    "labels3 = labels2[~labels2.text.str.contains('журналист')].copy()\n",
    "#labels4 = labels3[~labels3.text.str.contains('стихии')].copy()\n",
    "#labels = labels4[~labels4.text.str.contains('стихает')].copy()\n",
    "labels = labels3.dropna()\n",
    "labels = labels.reset_index(drop = True)"
   ]
  },
  {
   "cell_type": "code",
   "execution_count": 4,
   "metadata": {},
   "outputs": [
    {
     "data": {
      "text/html": [
       "<div>\n",
       "<style scoped>\n",
       "    .dataframe tbody tr th:only-of-type {\n",
       "        vertical-align: middle;\n",
       "    }\n",
       "\n",
       "    .dataframe tbody tr th {\n",
       "        vertical-align: top;\n",
       "    }\n",
       "\n",
       "    .dataframe thead th {\n",
       "        text-align: right;\n",
       "    }\n",
       "</style>\n",
       "<table border=\"1\" class=\"dataframe\">\n",
       "  <thead>\n",
       "    <tr style=\"text-align: right;\">\n",
       "      <th></th>\n",
       "      <th>0</th>\n",
       "      <th>1</th>\n",
       "      <th>2</th>\n",
       "    </tr>\n",
       "  </thead>\n",
       "  <tbody>\n",
       "    <tr>\n",
       "      <th>0</th>\n",
       "      <td>-0.172373</td>\n",
       "      <td>0.155007</td>\n",
       "      <td>-0.065034</td>\n",
       "    </tr>\n",
       "    <tr>\n",
       "      <th>1</th>\n",
       "      <td>-0.308240</td>\n",
       "      <td>0.311033</td>\n",
       "      <td>-0.027513</td>\n",
       "    </tr>\n",
       "    <tr>\n",
       "      <th>2</th>\n",
       "      <td>-0.000072</td>\n",
       "      <td>0.211948</td>\n",
       "      <td>-0.506178</td>\n",
       "    </tr>\n",
       "    <tr>\n",
       "      <th>3</th>\n",
       "      <td>-0.290286</td>\n",
       "      <td>0.346752</td>\n",
       "      <td>-0.140201</td>\n",
       "    </tr>\n",
       "    <tr>\n",
       "      <th>4</th>\n",
       "      <td>-0.394555</td>\n",
       "      <td>0.368516</td>\n",
       "      <td>0.080829</td>\n",
       "    </tr>\n",
       "  </tbody>\n",
       "</table>\n",
       "</div>"
      ],
      "text/plain": [
       "          0         1         2\n",
       "0 -0.172373  0.155007 -0.065034\n",
       "1 -0.308240  0.311033 -0.027513\n",
       "2 -0.000072  0.211948 -0.506178\n",
       "3 -0.290286  0.346752 -0.140201\n",
       "4 -0.394555  0.368516  0.080829"
      ]
     },
     "execution_count": 4,
     "metadata": {},
     "output_type": "execute_result"
    }
   ],
   "source": [
    "og.head()"
   ]
  },
  {
   "cell_type": "code",
   "execution_count": 3,
   "metadata": {},
   "outputs": [],
   "source": [
    "og= df[['0','1','2']]"
   ]
  },
  {
   "cell_type": "code",
   "execution_count": 8,
   "metadata": {},
   "outputs": [
    {
     "data": {
      "text/plain": [
       "<matplotlib.axes._subplots.AxesSubplot at 0x1d540e5f438>"
      ]
     },
     "execution_count": 8,
     "metadata": {},
     "output_type": "execute_result"
    },
    {
     "data": {
      "image/png": "[encoded data removed]",
      "text/plain": [
       "<matplotlib.figure.Figure at 0x1d540e87dd8>"
      ]
     },
     "metadata": {},
     "output_type": "display_data"
    }
   ],
   "source": [
    "og2 = np.array(og) \n",
    "svm_ = return_hdbscansvm(og2, rf = False, svmc= 1000, txt_col = labels['text'], clust_size = 75, samp_size = 75, svmx = False, clust_metric = 'manhattan')\n",
    "\n",
    "make_graph(og2, svm_[0]['text'], svm_[1], colors = \"Inferno\", PCA = False)\n",
    "#X1 = og\n",
    "%matplotlib inline\n",
    "svm_[2].condensed_tree_.plot(select_clusters = False)"
   ]
  },
  {
   "cell_type": "code",
   "execution_count": 9,
   "metadata": {
    "scrolled": true
   },
   "outputs": [
    {
     "name": "stdout",
     "output_type": "stream",
     "text": [
      "\n",
      "\n",
      "TOPIC 0\n",
      "\n",
      "('Преследование Компартии, третирование ее работников и членов, обвинения, без реальных, действительно серьезных, оснований, подозрительность и — вандализм, попрание критериев цивилизованного общества, закрытие газет — внезапный и крутой откат назад, к рубежам далеким и казавшимся пройденными.', 0)\n",
      "('Сегодня в газетах запрещение оставаться немцам в прибалтийских губерниях.', 0)\n",
      "('В сегодняшней газете призыв к созданию народного ополчения.', 0)\n",
      "('По-видимому, отступление итальянцев остановлено; их потери в газетах преувеличены.', 0)\n",
      "('Но, судя по вызывающему тону крайних газет, победа правительства непрочна; дни Милюкова, Гучкова, князя Львова сочтены.', 0)\n",
      "('По официальным газетным сообщениям, конференция обсуждала исключительно вопросы по снабжению вооружением.', 0)\n",
      "('Особенно по вопросам мировой политики газету считают нашим рупором.', 0)\n",
      "('** **Чемберлен** **попытался,** **продолжает** **газета,** **установить** **сотрудничество** **с** **Германией** **и** **Италией,** **и** **в** **результате** **эти** **страны** **привели** **Англию** **к** **непосредственной** **опасности** **войны.', 0)\n",
      "('Передовая местной газеты опять категорически требует реорганизации правительства, верховного командования, изгнания капитулянтских и фашистских элементов из государственного аппарата.', 0)\n",
      "('Гетеборгская либеральная газета «Гетеборг-Хандельстиднинген» особенно распространяется о роли Литвинова и считает, что «установление всеми странами нормальных отношений с Союзом» отразится на разрешении экономического кризиса.', 0)\n",
      "\n",
      "\n",
      "TOPIC 1\n",
      "\n",
      "('В газете «Сов.', 1)\n",
      "('Статья затем была напечатана целиком в «Киевской Мысли» уже позже, но в ней приводится фраза из этой статьи, которая в полтавской газете, была исключена и попала только в «Киевскую Мысль»: «Tertium non datur».', 1)\n",
      "('В газете «Восточно-Сибирская правда» напечатана моя заметка о встрече с писателями в ЛРД.', 1)\n",
      "('Работает в газете.', 1)\n",
      "('В газете «Молва» появилась статья С. Кондратьева «О работе Теоретико-композиторского факультета Одесской консерватории».', 1)\n",
      "('В Ленинграде вышла книга Ф.А.Кудрявцева «История бурят-монгольского народа» В газете «Правда» напечатана обширная рецензия на нее академика Е.М.', 1)\n",
      "('В письме была помещена вырезка из Якутской газеты «Разведчик недр» от 22 апреля 61 г., где дается хороший отзыв о моей книге, которую рекомендуют прочесть каждому геологу.', 1)\n",
      "('Ваше письмо напечатано в газете за 12 сентября.', 1)\n",
      "('Стенная газета (мой фельетон в стихах).', 1)\n",
      "('«Раз напечатано в газетах — значит, правда».', 1)\n",
      "\n",
      "\n",
      "TOPIC 2\n",
      "\n",
      "('Я, между прочим, в поезде в газете проверил таблицу займа<com id=\"14651218570434\"/> выпуска 1952 г. И оказалось, что моя облигация пятисотка<com id=\"14651218570435\"/> за № 127819 выиграла 1000 руб.', 2)\n",
      "('20 июня в журнале «Ньюсуик» было напечатано интервью Президента АН СССР А. П. Александрова.', 2)\n",
      "('6 апреля в газете «Известия» было опубликовано сообщение, что И. А. Халепский назначается народным комиссаром связи СССР.', 2)\n",
      "('4) «Петербургская газета», 21 октября 1906 г.    \\nОтношение Давыдова вызывает много толков в прессе<com id=\"154749024614145\"/>.', 2)\n",
      "('$$«Искоренить троцкистских мерзавцев, уничтожить гадов».$$ Так написана передовица в газете «Советская Сибирь» №267 от 19 ноября 1936 г.', 2)\n",
      "('В газете «Смена» напечатано извещение Исполкома Ленгорсовета депутатов трудящихся:    \\nВ целях установления твердого порядка и организации бесперебойного снабжения населения городов Ленинграда, Кронштадта, Колпино, Пушкина и Петергофа основными продовольственными и промышленными товарами в условиях военного времени и в целях недопущения очередей Приказом Наркомторга Союза ССР с 18 июля 1941 года по продовольственным карточкам:    \\nРабочим и ИТР — хлеб 800 г, крупа 2000 г, сахар 1500 г, мясо 2200 г, рыба 1000 г, жира 800\\u202fг.    \\nСлужащим — хлеб 600 г, крупа 1500 г, сахар 1200 г, мясо 1200 г, рыба 800 г, жиры 400\\u202fг.    \\nИждивенцам — хлеб 400 г, крупа 1000 г, сахар 1000 г, мясо 600 г, рыба 500 г, жиры 200\\u202fг.    \\nДетям до 12 лет — хлеб 400 г, крупа 1200 г, сахар 1200 г, мясо 600 г, рыба 500 г, жиры 400\\u202fг.', 2)\n",
      "('1) «Петербургская газета», 20 октября 1902 г.<com id=\"151903819514219\"/>    \\n2) История с Собиновым.', 2)\n",
      "('1) «Петербургская газета», 7 ноября 1902 г.    \\nСтатья эта не по нутру старикам<com id=\"151903819714292\"/>.', 2)\n",
      "('6, 7, 8) «Петербургская газета», 12 ноября 1902 г.<com id=\"151903819714306\"/>    \\nДавно ожидаемый [*дефект* *текста*] договор, оказывается, не вполне удовлетворил артистов и оказывается неудовлетворительным<com id=\"151903819714307\"/>.', 2)\n",
      "('Оказалось: 21 книга и 4 брошюры духовных, и 731 книга, 71 брошюра светских и несколько журналов в листах.', 2)\n",
      "\n",
      "\n",
      "TOPIC 3\n",
      "\n",
      "('3, 4) «Петербургская газета», 19 ноября 1905 г.<com id=\"154221698714455\"/>', 3)\n",
      "('[«Петербургская газета», 4 февраля 1906 г.', 3)\n",
      "('2) [«Петербургская газета», 8 октября 1904 г.', 3)\n",
      "('[«Петербургская газета», 8 апреля 1906 г.', 3)\n",
      "('1) [«Петербургская газета», 27 марта 1906 г.]', 3)\n",
      "('4-8) [«Петербургская газета», 25 октября 1905 г.', 3)\n",
      "('2) [Петербургская газета», 17 октября 1903 г.', 3)\n",
      "('3, 4) [«Петербургская газета», 6 марта 1905 г.', 3)\n",
      "('— 28, булки — 20, открытки — 6, — 10, газета — 5, чистка штиблет — 5, зап.', 3)\n",
      "('3) [«Петербургская газета», 22 декабря 1902 г.', 3)\n",
      "\n",
      "\n",
      "TOPIC 4\n",
      "\n",
      "('… Письмоносец газету принес, а писем не оказалось… Где они сейчас?..', 4)\n",
      "('Перекрутили на Испанию — там реклама и журналы, потом начался какой-то нудный фильм, и я ушел.', 4)\n",
      "('Интересно разговаривали, Боря показывал ей старые журналы и портреты писателей.', 4)\n",
      "('Твардовский и весь аппарат целыми днями сидят в журнале, ожидая смены.', 4)\n",
      "('Утром читал газеты и интересовался полученными письмами, но неинтересными.', 4)\n",
      "('Ходил к Митюшке читал газету «Пионерская правда « — а в ней смешной рассказ «Старик Хатабыч».', 4)\n",
      "('Заказал журналы в Университетской библиотеке.', 4)\n",
      "('!»    \\nГазетчик принес журналы, первые военные номера «Крокодила», «Огонька».', 4)\n",
      "('На газеты не подписался, решил покупать ежедневно.', 4)\n",
      "('С утра и до обеда переписал материал в газету «Ударник полей» о проделках в комитете заготовок.', 4)\n",
      "\n",
      "\n",
      "TOPIC 5\n",
      "\n",
      "('Всю ночь думал о «Списке раздора», опубликованном в «Литературной газете», и в принципе не смог решиться на отказ от участия в Парижском салоне.', 5)\n",
      "('По дороге, пока мы шли от вокзала, М. А. расспрашивал меня о московских журналах, сказал, что в журнале «На посту» есть статья о нем[3], и спросил, не читал ли я ее.', 5)\n",
      "('л-т сообщил, что в газете было (а что было, не записано в поспешности).', 5)\n",
      "('А я уже настрочила за него заметку в газету о его чувствах.', 5)\n",
      "('Пишу в «Крестьянскую газету» и думаю послать.', 5)\n",
      "('Через несколько дней Мережковский пишет в «Россию»,<com id=\"150401340914613\"/> которая тоже не печатает, причем думаем, что по газетам разослано запрещение писать что-либо против Мережковского (уж не говоря о Толстом!).', 5)\n",
      "('Егоров говорит о сегодняшнем взлете газеты и о судьбе писателя: «Если не получится дальше, идите к нам в академию, и мы выучим на чиновника».', 5)\n",
      "('Я потрясён газетным известием о самоубийстве Юрьевской: в Швейцарии выпила морфий, перерезала горло (какое горло!)', 5)\n",
      "('На первом, кажется, декаднике ФОСПа (или вечере «Литературной газеты»?', 5)\n",
      "('Вчера, приступая, по обыкновению очень витиевато, к просьбе об этом и говоря, что мы живем в глухом углу, завел речь, что вот, мол, в «Красной газете» есть известие, что Чехонин заболел безнадежно.', 5)\n",
      "\n",
      "\n",
      "TOPIC 6\n",
      "\n",
      "('Он сказал, что будто бы видел в газете «Ньюс уик» года полтора назад небольшую заметку о советском искусстве, где упоминались из скульпторов Неизвестный и Сидур.', 6)\n",
      "('На деле получилось следующее: осужденные подали просьбу о помиловании и тут же его получили — уже в следующем номере газет оказалось возможным объявить о нем.', 6)\n",
      "('Она сотрудничает с журналом «Скрипичный ключ» и этот журнал напечатал статью Евгения Соколинского о премьере «Гаспарон».', 6)\n",
      "('Сегодня прочел в газете о смерти заслуженного артиста М.П.', 6)\n",
      "('В газетах об образовании министерства, которого уже по счету?', 6)\n",
      "('Две станции, например, говорили о статье в журнале «Проблемы социализма», что ли, которая — ударила по своему же хозяину — Хрущеву.', 6)\n",
      "('Ну, загляни в энциклопедию, и тогда узнаешь, что еще двадцать лет назад некий Есин опубликовал несколько повестей в знаменитом журнале все о том же герое.', 6)\n",
      "('Толковали с Василием Яковлевичем о судьбах нового его журнала «Минувшие годы», являющегося замаскированным «Былым».', 6)\n",
      "('Говорит, что газеты не вышли потому, что Мрозовскнй запретил печатать о событиях в Петербурге.', 6)\n",
      "('Кончается статья в самом лучшем стиле: «Рекомендуем читателям «Литературной России» ознакомиться полностью с письмом группы писателей в журнале «Огонек».', 6)\n",
      "\n",
      "\n",
      "TOPIC 7\n",
      "\n",
      "('Одна за другой отказались меня публиковать «Комсомольская правда», «Правда», «Известия», «Литгазета».', 7)\n",
      "('Сократили ее почти наполовину, в частности, исключили то место, где я говорю об отношении газет к лирике.', 7)\n",
      "('Еще бы — газета не Оссовский и не Коломийцов,<com id=\"150165977414653\"/> которые вытаскивают документы (или крадут их) из бокового кармана — пьяного Глазунова!', 7)\n",
      "('Но в то же время странно читать в газетах про серию крейсеров, которые она строит.', 7)\n",
      "('Летний «круглый стол» в «ЛГ» должен был столкнуть лбами толстые журналы с глянцевыми, и разговор оказался нервным, однако никакой ясности не внёс, равно как и сегодняшнее изложение в газете той говорильни.', 7)\n",
      "('Наиболее способный из них, Павел Аоки, нанялся в газетные репортеры и бегает по городу за сведениями для газет; другие — кто молчалив, кто слишком застенчив.', 7)\n",
      "('Протопопов<com id=\"14806095484181\"/> выступил в газетах с оправданием, чрезвычайно слабым и неудачным вообще, но сверкающим новым, совершенно неожиданным заявлением.', 7)\n",
      "('Спрос на газеты очень большой, но разверстка очень маленькая.', 7)\n",
      "('Не то чтобы газеты были не нужны, но был нужен этаж в комбинате «Московская правда».', 7)\n",
      "('С жадностью принялись за чтение газеты и тогда только стали понимать, в чем и как было дело.', 7)\n",
      "\n",
      "\n",
      "TOPIC 8\n",
      "\n",
      "('• Противник почти каждый день, нас буквально засыпал агитационными листовками и пропусками на переход на их сторону, причём листовки абсолютно безграмотные, одно выражение чего стоит, вот такое «На кой хрен сдалась такая власть вам — бей её и кончай войну» — только дураки могут придумать такие вещи, многое старых листовок, где приглашают нас идти вместе с ними брать Киев — когда он взят уже много месяцев тому назад, в общем брехня здоровая , да и газеты их не лучше — видимо редактировал их не знающий настоящего положения в СССР и безграмотный в Русском языке, но кое-кто поддался на их удочки и были случаи перехода на их сторону, особенно усилился переход в конце января и до середины февраля месяца, кроме так называемой у нас «почты с воздуха», немцы устанавливают в своих окопах радиоустановки и начинают уговаривать бросать оружие и кончать войну, вот гады навязали нам войну, да ещё кривляются, более нахальные, так те кричат без микрофона «Победить — мы не победим Россию — слишком она велика и вас много —но научить вас воевать — научим», а я дума, что даже и не научимся, ибо воюем уже достаточно времени и пора бы научиться — нет, как была неразбериха и неумение воевать — так и по сей день осталось.', 8)\n",
      "('Я начинаю думать, что они тоже, как казаки в Тяньцзине, поговорить поговорили, а организовать Сибирского юбилейного торжества не смогли или не сумели и не издали не только юбилейного сборника или журнала, но даже и простой однодневной газеты.', 8)\n",
      "('Но как же честят нас в газетах!', 8)\n",
      "('Перестал читать газеты: их довели до того же положения, в каком находились они при Щедрине; опять требуется эфиопский язык и ухищрения для маскировки мыслей.', 8)\n",
      "('погода — газеты писали, что такой хорошей осени не было более ста лет.', 8)\n",
      "('«Вам, — сказал я Горну, — было поручено Советом Министров наблюдение за газетой, за тем, чтобы она действовала в духе правительственной декларации, между тем она превратилась в полубольшевицкий орган, не говоря уже о том, что она наполнена пасквилями и клеветой».', 8)\n",
      "('Потом я двадцать лет убеждался, что партия в газетах — ложь, а партия в моей жизни, в моем коллективе, — миф, отживший ритуал… без которого нельзя.', 8)\n",
      "('Оказывается, не я один переменился, в отчетах даже газет последний спектакль, а именно «Семнадцатилетние», сильно критикуется, несмотря на все старания Давыдова и Петрова популярничать.', 8)\n",
      "('В Петербурге она идет завтра в 29-й раз, но никто, кроме черносотенных газет, не находил ее вредной.', 8)\n",
      "('Появились уже статьи по поводу этого, причем первая — в «Петербургской газете» — ясно указывает в своем содержании, кто ее мог писать и кем она навеяна.', 8)\n",
      "\n",
      "\n",
      "TOPIC 9\n",
      "\n",
      "('Пойду в редакцию «Известий» читать газеты того периода, чтобы ясно иметь перед собой всю эпоху целиком, для того, чтобы не ошибиться, и для того, чтобы наткнуться еще на что-то, о чем не думаю теперь и не подозреваю.', 9)\n",
      "('Дело переходит к Москве, и если бы Липаев принялся серьезнее за издание, журнал его отвечал бы настоящей потребности.', 9)\n",
      "('Сижу в «Ленинке», листаю эмигрантские журналы, и, что замечательно, даже мое нынешнее положение не заставляет меня что-то предпринять!', 9)\n",
      "('По-видимому, мир в безумии сам себе готовит «мясника», как выразилась немецкая газета.', 9)\n",
      "('Его слово к открытию новой газеты слабо, казенно.<com id=\"150165976514245\"/> Чтение Евангелия совсем не проникает ни в душу, ни в сердце, даже разум остается холодным.', 9)\n",
      "('Если стать на этот путь, то, как сказал, «Урал» проигрывает по той причине, что он — «журнал без неожиданностей».', 9)\n",
      "('Конечно, мининдел запел обычную песню о «свободе прессы» в Швеции, но я с любезной улыбкой стала уверять его, что с его авторитетом он может, не нарушая законов, дать понять редакторам что газетная шумиха вокруг Соболева нежелательна и портит отношения с СССР.', 9)\n",
      "('1, 2) «Петербургская газета», 9 марта 1902 г.<com id=\"1519038045141105\"/>    \\n3) Каждый почти день я осаждаем просьбами, суть которых выражается следующей фразой: «Примите на службу такого-то (артист, капельдинер, чиновник), хотя он прав не имеет, но вы можете сделать исключение, потому что ведь у вас в администрации делают незаконности, так отчего же вы сами для меня не можете это сделать».', 9)\n",
      "('Когда я пришел в Контору, то все сказанное повторил при Бершове и Каханове, чтобы им дать понять о недовольстве моем агитацией моих подчиненных и что я уверен, что все газетные статьи есть результат разговоров и критики в самих театрах.', 9)\n",
      "('Экономическая теория захватила ее, Лида стала увлекаться чтением газет.', 9)\n",
      "\n",
      "\n",
      "TOPIC 10\n",
      "\n",
      "('Я сотрудничала в газетах — вела литературные обзоры и библиографию, была театральным и музыкальным рецензентом: состояла членом многих культурно-просветительных и научных обществ, в некоторых из них секретарствовала.', 10)\n",
      "('Его перу принадлежит около двадцати публичных выступлений в газетах и журналах о жизни и творчестве замечательного биолога и путешественника.', 10)\n",
      "('В русских газетах очень тусклая и бесполезная статья — декларация, подписанная В. Лосским и Пьяновым, и плохая, с передержками фактов, статья священников, которые побоялись себя назвать.', 10)\n",
      "('Следовательно, Костелянский совершил два нарушения игнорировав приказы Кривды о «Запрещении собрания» и «Подпольного издания газеты».', 10)\n",
      "('Нота направлена почему-то только в редакции мадридских газет.', 10)\n",
      "('9/IX Говорят, в газетах было что-то о пересмотре коллективных договоров — с целью удлинения рабочего времени при том же вознаграждении.', 10)\n",
      "('Подавляющая часть дискуссионных статей, опубликованных более года назад в этом журнале, так и не получила до сих пор отклика, не вызвала обмена мнениями.', 10)\n",
      "('** **В** **той** **международной** **обстановке,** **продолжает** **газета,** **в** **которой** **оказалась** **Англия** **после** **подписания** **Мюнхенского** **соглашения,** **политика** **тесного** **сотрудничества** **на** **дружеских** **началах** **с** **Советским** **Союзом** **должна** **была** **быть** **избрана** **не** **только** **по** **соображениям** **здравого** **смысла,** **но** **и** **просто** **как** **необходимость.', 10)\n",
      "('Выяснив вопросы о типографии и средствах, отделили газетную комиссию от редакционно-издательской тем, чтобы каждая работала самостоятельно.', 10)\n",
      "('газете» уже лежит несколько статей в защиту Шолохова от нападенья Солженицына и «литературоведа Д.», но ЦК не разрешает их печатать, не желая привлечения к этой теме общественного внимания.', 10)\n",
      "\n",
      "\n",
      "TOPIC 11\n",
      "\n",
      "('Ратую за человека в газете.', 11)\n",
      "('И подобранный состав участников (хотя, помнится, три участника все же поддерживали Зимина), и соответствующий отчет, опубликованный затем в журнале «Вопросы истории», как принято говорить, «закрыли тему».', 11)\n",
      "('В Учительской газете напечатана статья Золотова, в которой он, теперь уже без всякого гонора, скромно говорит о задачах его экспедиции, уже не выпячивая гипотезу ядерного взрыва.', 11)\n",
      "('Вспоминаю чудные молочные продукты в Таллине и прочитанное про Таллин в газете: он уже три года держит красное знамя ВЦСПС и Министерства мясо-молочной промышленности СССР — и получает первую Всесоюзную премию.', 11)\n",
      "('Если будут условия, возьмешься за продолжение радищевских дел (выставка), нет — нажмешь на газету и лекции, сочетая с «ПХЛ»<com id=\"15002934741416\"/>.', 11)\n",
      "('Да и в самом деле — неужто местный стачечный комитет только из газетной перепечатки узнает о распоряжении Центрального Комитета?', 11)\n",
      "('Вот и выходит, что он протестует не против увольнения из журнала его ближайших сотрудников, а только против печатания за границей.', 11)\n",
      "('Когда кончился актив (часов в 11 ночи), было решено стенограмму выступления напечатать в завтрашнем же номере газеты.', 11)\n",
      "('Боже, как все плохо...  \\nСегодня в газете поздравление от муфтия Центрального Духовного Управления мусульман Абдурахмана Расулаева: «Да поможет вам Аллах и т.д.', 11)\n",
      "('Меня вызывали в штаб, фотографировали для газеты.', 11)\n"
     ]
    }
   ],
   "source": [
    "dice = range(0,12)\n",
    "for_tatyana = []\n",
    "for i in dice:\n",
    "    temp = svm_[0][svm_[0][i] == 1]\n",
    "    res = temp['text'].sample(n=10, random_state=7)\n",
    "    res = res.reset_index(drop = True)\n",
    "    for_tatyana.append(res)\n",
    "    \n",
    "    \n",
    "for j, i in enumerate(for_tatyana):\n",
    "    print('\\n')\n",
    "    print('TOPIC' + ' ' + str(j) + '\\n')\n",
    "    for n in i:\n",
    "        print(n)"
   ]
  },
  {
   "cell_type": "code",
   "execution_count": 33,
   "metadata": {},
   "outputs": [
    {
     "data": {
      "text/plain": [
       "array([15, 21, 18, ..., 16,  6,  9])"
      ]
     },
     "execution_count": 33,
     "metadata": {},
     "output_type": "execute_result"
    }
   ],
   "source": [
    " svm_[1]"
   ]
  },
  {
   "cell_type": "code",
   "execution_count": 24,
   "metadata": {},
   "outputs": [],
   "source": [
    "df['entry_type'] =  svm_[1]\n",
    "df.to_csv('./101820_stikhicats.csv')"
   ]
  },
  {
   "cell_type": "code",
   "execution_count": null,
   "metadata": {},
   "outputs": [],
   "source": []
  }
 ],
 "metadata": {
  "kernelspec": {
   "display_name": "Python 3",
   "language": "python",
   "name": "python3"
  },
  "language_info": {
   "codemirror_mode": {
    "name": "ipython",
    "version": 3
   },
   "file_extension": ".py",
   "mimetype": "text/x-python",
   "name": "python",
   "nbconvert_exporter": "python",
   "pygments_lexer": "ipython3",
   "version": "3.6.4"
  }
 },
 "nbformat": 4,
 "nbformat_minor": 2
}

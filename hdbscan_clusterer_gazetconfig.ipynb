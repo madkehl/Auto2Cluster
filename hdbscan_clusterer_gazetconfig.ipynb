{
 "cells": [
  {
   "cell_type": "code",
   "execution_count": 1,
   "metadata": {},
   "outputs": [
    {
     "name": "stderr",
     "output_type": "stream",
     "text": [
      "C:\\Users\\madke\\Anaconda3\\lib\\site-packages\\h5py\\__init__.py:36: FutureWarning: Conversion of the second argument of issubdtype from `float` to `np.floating` is deprecated. In future, it will be treated as `np.float64 == np.dtype(float).type`.\n",
      "  from ._conv import register_converters as _register_converters\n",
      "Using TensorFlow backend.\n"
     ]
    }
   ],
   "source": [
    "exec(open(\"./autoencoderhelperfunctions.py\").read())\n",
    "df = pd.read_csv(\"./102520_gazet.csv\", index_col = 0)\n",
    "labels1 = pd.read_csv('./102420_gazetvecs.csv', index_col = 0)\n",
    "labels2 = labels1[~labels1.text.str.contains('і')].copy()\n",
    "labels3 = labels2[~labels2.text.str.contains('журналист')].copy()\n",
    "#labels4 = labels3[~labels3.text.str.contains('стихии')].copy()\n",
    "#labels = labels4[~labels4.text.str.contains('стихает')].copy()\n",
    "labels = labels3.dropna()\n",
    "labels = labels.reset_index(drop = True)"
   ]
  },
  {
   "cell_type": "code",
   "execution_count": 3,
   "metadata": {},
   "outputs": [],
   "source": [
    "og= df[['0','1','2']]"
   ]
  },
  {
   "cell_type": "code",
   "execution_count": 4,
   "metadata": {},
   "outputs": [
    {
     "name": "stdout",
     "output_type": "stream",
     "text": [
      "done\n",
      "done\n",
      "Accuracy: 0.9995014955134596\n"
     ]
    },
    {
     "data": {
      "text/plain": [
       "<matplotlib.axes._subplots.AxesSubplot at 0x27633690c18>"
      ]
     },
     "execution_count": 4,
     "metadata": {},
     "output_type": "execute_result"
    },
    {
     "data": {
      "image/png": "[encoded data removed]",
      "text/plain": [
       "<matplotlib.figure.Figure at 0x27633639a20>"
      ]
     },
     "metadata": {},
     "output_type": "display_data"
    }
   ],
   "source": [
    "og2 = np.array(og) \n",
    "svm_ = return_hdbscansvm(og2, rf = True, svmc= 1000, txt_col = labels['text'], clust_size = 75, samp_size = 75, svmx = False, clust_metric = 'manhattan')\n",
    "\n",
    "make_graph(og2, svm_[0]['text'], svm_[1], colors = \"Inferno\", PCA = False)\n",
    "#X1 = og\n",
    "%matplotlib inline\n",
    "svm_[2].condensed_tree_.plot(select_clusters = False)"
   ]
  },
  {
   "cell_type": "code",
   "execution_count": 5,
   "metadata": {
    "scrolled": true
   },
   "outputs": [
    {
     "name": "stdout",
     "output_type": "stream",
     "text": [
      "\n",
      "\n",
      "TOPIC 0\n",
      "\n",
      "('В газете содержатся злобные выпады против Советского Союза, клевета на руководителей КПЧ и призывы к их физическому уничтожению.', 0)\n",
      "('Рассказывая об этом, наши газеты делают вывод, что дело оказания помощи голодающим Лигой Наций потерпело полную неудачу.', 0)\n",
      "('Организовали распределение центральных газет среди бойцов царандоя.', 0)\n",
      "('Один из комментаторов удивляется: почему правительство так панически боится подпольных журналов, запрещенных выступлений?', 0)\n",
      "('Чувства зависимости, гнета, боязнь и трусость известной части французского населения уступают [место] надеждам на будущее Франции под влиянием писем, газет независимой части этой благородной страны.', 0)\n",
      "('Судя по отрывочным сведениям б[ольшевистс]ких газет, все западные социалисты, даже левые фракции, за исключением отдельных, немногих лиц, отвернулись от московского интернационала и открещиваются от солидарности с нашими коммунистами.', 0)\n",
      "('По газетам ожидание окончательного натиска врага.', 0)\n",
      "('Правительство, которое разгоняет силою оружия Учредительное собрание, и арестовывает и убивает граждан исключительно за их политические убеждения, и препятствует выпуску газет других политических партий, недостойно представлять истинную демократию.', 0)\n",
      "('Маневры правых газет являются к тому же лишь преломлением внутренней политики страны и по существу имеют отдаленное отношение к вопросу о покушении и о ГПУ.', 0)\n",
      "('Правые газеты, как «Новое Время», протестуют против таких способов борьбы, как убийство, которое введено в жизнь соцреволюционерами.', 0)\n",
      "\n",
      "\n",
      "TOPIC 1\n",
      "\n",
      "('5) В журнале «Мир искусства» в последнем номере помещена статья Розанова об «Эдипе в Колоне».', 1)\n",
      "('Говорят, в журнале «На литературном посту» есть статья «Искаженный Некрасов», очевидно посвященная мне<com id=\"149013741814284\"/>.', 1)\n",
      "('В газете последний фельетон Троцкого.', 1)\n",
      "('Штейна, напечатанная в журнале «Звезда» №12 1939 год.', 1)\n",
      "('1, 2) «Петербургская газета», 16 октября 1902 г.<com id=\"151903819414202\"/>    \\n3) О первой статье сообщено полицмейстеру Александринского театра.', 1)\n",
      "('), вышедшую в варшавском журнале «Meander» в 1957 г.?', 1)\n",
      "('Action Francaise — единственная газета, которая признается в этом доме.', 1)\n",
      "('Говорили о журнале.', 1)\n",
      "('3) «Петербургская газета», 19 марта 1906 г.<com id=\"154221699514666\"/>    \\nПрисутствовал в Мариинском театре на Инвалидном концерте.', 1)\n",
      "('Большая статья об этом помещена в газете «Радянська культура» за 12 января.', 1)\n",
      "\n",
      "\n",
      "TOPIC 2\n",
      "\n",
      "('— «А раньше, бывало, говорят, я у Рыкова был!»…    \\n[Прилагаются вырезки из статей: «О выступлениях части сибирских литераторов и литературных организаций против Максима Горького (Постановление ЦК ВКП(б) 25 декабря 1929 года)» из газеты «Правда» за 26 декабря 1929 г.; «Сибкрайком о выступлении сибирских литераторов против М. Горького» из «Правды» за 28 декабря 1929 г.]', 2)\n",
      "('В газетах напечатан список 48 расстрелянных вредителей.', 2)\n",
      "('1) «Петербургская газета», 17 февраля 1910 г.    \\nСавина продолжает разыгрывать различные номера со своим бенефисом.', 2)\n",
      "('Проппер получает с газеты 300 000 рублей в год чистых.', 2)\n",
      "('За 1926 г. я выписал книг на 56 р., кроме пересылочных, и на 35 р. книг и журналов.', 2)\n",
      "('были командированы в 1928 году журналом «Следопыт» на краснорыбные промыслы Мангышлака.', 2)\n",
      "('Подчеркнули, что это та же газета, которая торговала фильмом.', 2)\n",
      "('По этому поводу газета публикует ряд комментариев.', 2)\n",
      "('В июле прошла «литправка», ответы на вопросы «литредактора» и т.д.<com id=\"1482437907141337\"/>    \\nНаписала краткое содержание своего выступления о Герцене (на герценовской сессии АПН) для журнала «Советская педагогика».', 2)\n",
      "('Теперь снова регулярно выходит наша газета.', 2)\n",
      "\n",
      "\n",
      "TOPIC 3\n",
      "\n",
      "('3) «Петербургская газета», 2 октября 1905 г.', 3)\n",
      "('4) [«Петербургская газета», 1 мая 1902 г.', 3)\n",
      "('2) [«Петербургская газета», 18 декабря 1907 г.]', 3)\n",
      "('6) [«Петербургская газета», 11 сентября 1902 г.', 3)\n",
      "('4) «Петербургская газета», 11 декабря 1909 г.', 3)\n",
      "('3) «Петербургская газета», 6 марта 1904 г.<com id=\"154221671214566\"/>    \\n4) «Петербургская газета», 7 марта 1904 г.<com id=\"154221671214567\"/>', 3)\n",
      "('2, 3) [«Петербургская газета», 4 и 5 декабря 1904 г.', 3)\n",
      "('3) [«Петербургская газета», 16 марта 1907 г.', 3)\n",
      "('1) «Петербургская газета», 22 октября 1901 г.', 3)\n",
      "('4) «Петербургская газета», 5 февраля 1904 г.', 3)\n",
      "\n",
      "\n",
      "TOPIC 4\n",
      "\n",
      "('Проверил подписку на газеты.', 4)\n",
      "('Читая газеты, облизывался на погоду в Касабланке (а также на фильмы, которые идут в Париже).', 4)\n",
      "('В газетах пишут, будто члены семьи Амануллы забирали товары в магазинах Лондона, Парижа, Берлина и не платили.', 4)\n",
      "('Узнали из газеты «Коммерсант», там поздравления Марлена Хуциева.', 4)\n",
      "('Разговор был часа в 4 утра, в ту же ночь перестроили газету, и пошло в тот номер полторы полосы информации.', 4)\n",
      "('Сережа с утра ушел за новостями, газетами.', 4)\n",
      "('Читал газеты.', 4)\n",
      "('Читаю историю евреев, читаем газету «Русская мысль».', 4)\n",
      "('Несколько часов уходит на то, чтобы делать вырезки из газет.', 4)\n",
      "('Я сидел, дежурил, читал газету.', 4)\n",
      "\n",
      "\n",
      "TOPIC 5\n",
      "\n",
      "('Долго писал мотериал в газету «Большевик» о царской армии, получилось хорошо, но о сегоднешним плохо.', 5)\n",
      "('в газетах все то, что пишут и печатают о нем!', 5)\n",
      "('Потом этот дневник попал к Мережковским, которые его так отредактировали — в том виде, в каком он появился в журнале — что могла получиться апология царской семьи».', 5)\n",
      "('Все газеты писали о нашем скандале, и не мог Соловьев ему об этом не говорить.', 5)\n",
      "('[…] О Чехове мы только что на днях читали в газетах, что ему лучше.', 5)\n",
      "('*    \\n>*Я* *сохраню* *самые* *теплые* *воспоминания* *о* *годах,* *когда* *мы* *дружно* *и* *хорошо* *работали,* *и* *о* *сотрудниках* *журнала.', 5)\n",
      "('Должен позвонить Вале и Мите, должен прочитать газету и узнать, когда буду дежурным.', 5)\n",
      "('Прочли о себе в одесских газетах о Дубоссарах: беглые евреи пропечатали и все наврали — ни слова правды.', 5)\n",
      "('газеты» и в интервью он должен как-то деликатно намекнуть о своей лояльности.', 5)\n",
      "('Начитаешься утром газет, словно мыла наешься, как выразился один русский зарубежный фельетонист.', 5)\n",
      "\n",
      "\n",
      "TOPIC 6\n",
      "\n",
      "('Появился этот портрет (Максима Горького) в одесской газете «Театр» по случаю гастролей Шаляпина и постановки в городском театре пьесы Горького «Мещане».', 6)\n",
      "('Местная газетка «Джейтысуйская искра» выходит 3 раза в неделю.', 6)\n",
      "('О нашей комнате я написал стихи в стенной газете; помню следующее (начало не помню, шла речь «о любви», причем комната утопала «в волнах дыма и мата»):    \\n                                 \\n>Наутро, затем, как окончен митинг.', 6)\n",
      "('О Кабакове статья в «Витварном умени», и он приехал за журналом.', 6)\n",
      "('Толик Мосальский написал для «Литературной газеты» трактат «Как нам накормить страну».', 6)\n",
      "('В газете сообщение консерваторской дирекции о смерти преподавательницы фортепиано Балабаненко.', 6)\n",
      "('Его, сказал, расстроило, что я не попал в список букерианцев в литгазетовскую статью по премии.', 6)\n",
      "('Он просил меня писать заметки в его газету, а затем, говорит, вступишь в наш лит.', 6)\n",
      "('На фото красивый мужчина с журналом в руке: «Эррол Флинн, один из свидетелей обвинения, держа в руке «Confidential», с отвращение зажимает себе нос.', 6)\n",
      "('Обсуждали план писать корреспонденции о французском искусстве и культуре для русских газет.', 6)\n",
      "\n",
      "\n",
      "TOPIC 7\n",
      "\n",
      "('Позиция Измайлова в газете достаточно прочная, хотя Бонди подчас сокращает его статьи, а то и вовсе не печатает.', 7)\n",
      "('И опять возвращаюсь к журналу.', 7)\n",
      "('Ситковского, кои барабанно халтурят сейчас в газетах.', 7)\n",
      "('В японском журнале «Ekho» опять ругательная статья Павла Ямада на Сенума и уже на меня и на всю Церковь; среди текста мой портрет; внизу обещание отныне обливать меня грязью.', 7)\n",
      "('Нас осталось мало, но газету выпускать надо... На улицах всё еще рвутся снаряды.', 7)\n",
      "('Возле лестницы, за письменным столом, сидела Нордман-Северова, что-то писавшая; она сказала мне: «Я надписываю свою книгу, которую хочу дать Куприну — несчастному Куприну...» Позже я увидел в мастерской Куприна, стоявшего рядом с Чуковским (в январе этого года они крепко поругались в редакции газеты «Речь»), и услышал, как они одновременно говорили друг другу: «Я был не прав»... Еще я слышал, как Нордман, проходя мимо Маныча, возбужденно сказала ему: «Это неделикатно — нарушать распорядок жизни чужой семьи!» Маныч промолчал, и неожиданно оба куда-то исчезли (еще до обеда).', 7)\n",
      "('Почитывал между делом и бездельем Бунина (прибирал многолетние журналы, с кот<орыми> М<аша> не может расстаться), на чердак, — надеюсь, что снимать их оттуда мне уже не придется: в случае, скажем, переезда с этой дачи насовсем можно их отлично забыть.', 7)\n",
      "('Я уже довольно давно потерял к газете интерес, но тут внимание привлекла статья «Игорь Дедков как феномен» со знакомым для меня именем.', 7)\n",
      "('Он не только организовал симпозиум, но и выпускает журнал «Культура».', 7)\n",
      "('Кое-что у меня тогда появилось в журнале «Юность», но «Имитатор» не был даже задуман.', 7)\n",
      "\n",
      "\n",
      "TOPIC 8\n",
      "\n",
      "('«Петербургская газета» и на этот раз не могла воздержаться от руготни Коровина и Головина, хотя не они писали декорации<com id=\"154749025514334\"/>.', 8)\n",
      "('Ещё, спрашивается, почему я ~~дол~~ не должна верить журналу «Америка», где говорится то же самое, что и в нашем журнале «СССР», где печатаются фотографии негров рядом с фотографиями белых?', 8)\n",
      "('Глубоко и радостно ощущаю через газету и рассказы живых людей <...> — то, что делается в деревне.', 8)\n",
      "('После того как князь Шаховской старался доказать, что это будет только разорение газеты, Сипягин согласился запретить на одну неделю.', 8)\n",
      "('Костя ответил на это просто, что он тогда газету не редактировал.', 8)\n",
      "('А что делается в газетах и журналах?', 8)\n",
      "('Ничего не случилось: только из «Веры и разума» перепечатали «Санкт-Петербургские ведомости» с некоторыми выпусками, а «Петербурская газета» целиком.', 8)\n",
      "('Сократили тиражи журналов, в розницу поступают ничтожные крохи, и как бы плох ни был тот или иной номер, исчезает он из продажи как только появляется.', 8)\n",
      "('Все газеты очень громко кричат о том, какой ужасный Ярузельский и что его на это толкнул Советский Союз.', 8)\n",
      "('Судя по газетам, тем, кто задавал или высказал наболевшее, заткнули рот.', 8)\n",
      "\n",
      "\n",
      "TOPIC 9\n",
      "\n",
      "('Если бы даже и худо для нас получалось, то все ж таки нужно написать, поэтому жду с нетерпением газеты.', 9)\n",
      "('А если каждый день газета будет опровергать свои вчерашние нападки и извиняться — она потеряет уважение.', 9)\n",
      "('газеты» никакого ответа нет.', 9)\n",
      "('Главное, что у меня есть опыт газетной работы.', 9)\n",
      "('Неужели так долго разбирают получаемые газеты!', 9)\n",
      "('Никаких официальных указаний, намекающих на такую возможность, не было, — я, например, справлялся в редакциях газет и в ЛенТАСС, но никто ничего не знал.', 9)\n",
      "('4 дня сижу, как в темном лесу, ничего не знаю, нет ни сводок Информбюро, ни газет, что делается на фронте — неизвестно.', 9)\n",
      "('Музыки не понимают, политикой не интересуются, литературы не знают, говорить не умеют (бормочут), смеются кисло и над глупостями, газет не читают.', 9)\n",
      "('Лишь изредка та или другая газета обругает Малый театр, но не зло, как было во время борьбы и исканий, когда пьесы проваливались и театр пустовал, а с известным хладнокровным презрением, что с таким театром и репертуаром даже не стоит и считаться.', 9)\n",
      "('Вероятно, Модрю смущает, что муж Парни рецензент и может писать о Модрю в парижских газетах, может быть, дела и денежные.', 9)\n",
      "\n",
      "\n",
      "TOPIC 10\n",
      "\n",
      "('Мы должны победить в этой беспримерной жестокой борьбе...»    \\nНемцы откровенно мечтают «об уменьшении народонаселения России на тридцать-сорок процентов», — так пишет немецкая газета «Ост-фронт».', 10)\n",
      "('городов собираются на митинги протеста против фашистского террора в Австрии, [а] «Правда» в передовой от 20 февраля пишет о посевной кампании: «...что может быть проще, чем перелопатить и очистить семена или навести порядок в конюшне, подкормить лошадей и т.д.»    \\nПосевная кампания, которую ведут советские газеты, весьма серьезный вопрос, урожай советских полей во всяком случае должен быть обеспечен.', 10)\n",
      "('Хотя у нас специального зарубежного раздела нет, но критика, наступление на наших зарубежных противников в журнале присутствует.', 10)\n",
      "('Серьезные затруднения испытывает фронтовая газета.', 10)\n",
      "('**    \\n$$Опять попали в руки газеты, опять за горизонтом словно кто-то считает ребра забора — немцы долбят по окопам, и опять старый вопрос, когда же конец, Господи?', 10)\n",
      "('Обсуждение вопроса и выработка совершены при закрытых дверях.»    \\nСегодня в газетах было опубликовано, что царь написал на этой телеграмме: «Нахожу поступок председателя черниговского губернского земского собрания дерзким и бестактным.', 10)\n",
      "('В газете «Комсомолец Каспия» под рубрикой «По данным УВД» опубликовано такое сообщение:     \\n            \\n>«Если говорить о конкретных событиях минувшей недели, то, безусловно, наиболее выдающееся — находка клада золотых монет и пластин из драгметалла весом почти восемь килограммов.', 10)\n",
      "('Утром в газетах первое русское военное сообщение: будто бы русские уже бьют немцев.', 10)\n",
      "('Сейчас опять резко выступили на первое место слухи (опять ночь) и газеты дают резко кривое зеркало.', 10)\n",
      "('Номер газеты, сообщающий об этом событии, полон восхваления советских армий, занимавших германскую столицу.', 10)\n",
      "\n",
      "\n",
      "TOPIC 11\n",
      "\n",
      "('Нестеровский, жестоко скучающий в неуютной и скудной редакции бригадной газеты.', 11)\n",
      "('Пока места в газете нет: съезд Советов, а 23-го начинается процесс «параллельного троцкистского центра» — Пятакова, Сокольникова, Радека, Серебрякова и др.…  \\n(12 ч.', 11)\n",
      "('Это написано в здешней газете «Эль Либераль», на ее единственном, тускло отпечатанном листочке, единственном, потому что фашистская блокада лишила Мадрид [279] газетной бумаги, а германские летчики сбросили на типографию «Либераль» бомбу в сто двадцать килограммов.', 11)\n",
      "('Вот что напечатано в газете «В решающий бой» от 26 сентября, привезенной в Ленинград летчиком и переданной им одному из корреспондентов ТАСС:    \\n«Вперед, за Ленинград!', 11)\n",
      "('В конце концов дала нужные деньги С. В. Петерсен — рукопись была приобретена с целью использовать ее в будущем в журнале.', 11)\n",
      "('Разыскать в МТС юбилейную газету «Памяти погибших товарищей» выпущенную в «Сибгипротрансе» в 1952 году.', 11)\n",
      "('В газетах полный текст речи Гитлера, той самой, после которой в Мюнхене взорвалась адская машина.', 11)\n",
      "('В газетах известие о том, что Ленину сделали операцию извлечения пули из плеча.', 11)\n",
      "('Слушали по «Немецкой волне» письмо Арагона<com id=\"14736207124567\"/>, в котором он пишет, как его газету *Lettres* *françaises* присылают обратно, нераспечатанной, из Москвы.', 11)\n",
      "('Понравилось выступление Спивакова, который указал, что в огромной пиаркампании не задействована такая газета, как «Культура».', 11)\n"
     ]
    }
   ],
   "source": [
    "dice = range(0,12)\n",
    "for_tatyana = []\n",
    "for i in dice:\n",
    "    temp = svm_[0][svm_[0][i] == 1]\n",
    "    res = temp['text'].sample(n=10, random_state=7)\n",
    "    res = res.reset_index(drop = True)\n",
    "    for_tatyana.append(res)\n",
    "    \n",
    "    \n",
    "for j, i in enumerate(for_tatyana):\n",
    "    print('\\n')\n",
    "    print('TOPIC' + ' ' + str(j) + '\\n')\n",
    "    for n in i:\n",
    "        print(n)"
   ]
  },
  {
   "cell_type": "code",
   "execution_count": 33,
   "metadata": {},
   "outputs": [
    {
     "data": {
      "text/plain": [
       "array([15, 21, 18, ..., 16,  6,  9])"
      ]
     },
     "execution_count": 33,
     "metadata": {},
     "output_type": "execute_result"
    }
   ],
   "source": [
    " svm_[1]"
   ]
  },
  {
   "cell_type": "code",
   "execution_count": 6,
   "metadata": {},
   "outputs": [],
   "source": [
    "df['entry_type'] =  svm_[1]\n",
    "df.to_csv('./102920_gazetcats.csv')"
   ]
  },
  {
   "cell_type": "code",
   "execution_count": null,
   "metadata": {},
   "outputs": [],
   "source": []
  }
 ],
 "metadata": {
  "kernelspec": {
   "display_name": "Python 3",
   "language": "python",
   "name": "python3"
  },
  "language_info": {
   "codemirror_mode": {
    "name": "ipython",
    "version": 3
   },
   "file_extension": ".py",
   "mimetype": "text/x-python",
   "name": "python",
   "nbconvert_exporter": "python",
   "pygments_lexer": "ipython3",
   "version": "3.6.4"
  }
 },
 "nbformat": 4,
 "nbformat_minor": 2
}

{
 "cells": [
  {
   "cell_type": "code",
   "execution_count": 1,
   "metadata": {},
   "outputs": [],
   "source": [
    "import pandas as pd\n",
    "import numpy as np\n",
    "import sqlalchemy\n",
    "import datetime\n",
    "\n",
    "df_stikhi = pd.read_csv('./101120_stikhicats.csv', index_col = 0)\n",
    "df_manifest = pd.read_csv('./083020_manifestcats.csv', index_col = 0)\n",
    "df_dnevnik = pd.read_csv('./072420_dnevnikcats.csv', index_col = 0)\n",
    "df_roman = pd.read_csv('./101820_romancats.csv', index_col = 0)\n",
    "df_gazet = pd.read_csv('./102920_gazetcats.csv', index_col = 0)"
   ]
  },
  {
   "cell_type": "code",
   "execution_count": 2,
   "metadata": {},
   "outputs": [
    {
     "name": "stderr",
     "output_type": "stream",
     "text": [
      "C:\\Users\\madke\\Anaconda3\\lib\\site-packages\\pymysql\\cursors.py:170: Warning: (3719, \"'utf8' is currently an alias for the character set UTF8MB3, but will be an alias for UTF8MB4 in a future release. Please consider using UTF8MB4 in order to be unambiguous.\")\n",
      "  result = self._query(query)\n"
     ]
    }
   ],
   "source": [
    "passw = '****'\n",
    "engine = sqlalchemy.create_engine('mysql+pymysql://madkehl:' + passw + '@127.0.0.1/prozhito_orig', encoding = 'utf-8')\n",
    "connection = engine.connect()\n",
    "metadata = sqlalchemy.MetaData()\n",
    "notes = sqlalchemy.Table('notes', metadata, autoload = True, autoload_with = engine)\n",
    "persons = sqlalchemy.Table('persons', metadata, autoload = True, autoload_with = engine)\n",
    "diary =sqlalchemy.Table('diary', metadata, autoload = True, autoload_with = engine)\n",
    "\n",
    "def execute(query):\n",
    "    ResultProxy = connection.execute(query)\n",
    "    return ResultProxy\n",
    "\n",
    "def countyear(list_years):\n",
    "    '''\n",
    "    SELECT COUNT(YEAR(date)) AS NEWYEAR from notes WHERE YEAR(date) in (1901, 1903, 1906) GROUP BY YEAR(date); \n",
    "    **for some reason the year column is less complete than date column\n",
    "    '''\n",
    "    \n",
    "    input_ls = [str(i) for i in list(list_years)]\n",
    "    input_str = ', '.join(input_ls)\n",
    "    \n",
    "    trial = execute('SELECT YEAR(date), COUNT(YEAR(date))FROM notes WHERE YEAR(date) in ('+ (input_str) + ') GROUP BY YEAR(date);')\n",
    "    ResultSet = trial.fetchall()\n",
    "    return ResultSet\n",
    "    "
   ]
  },
  {
   "cell_type": "code",
   "execution_count": 17,
   "metadata": {},
   "outputs": [],
   "source": [
    "def reindex(cats_ls, entry_type, entry_ids, entry_year, diarynum):\n",
    "    new_ind = []\n",
    "    new_ids = []\n",
    "    new_entyr = []\n",
    "    new_diarnum = []\n",
    "    for n, m in enumerate(entry_type):\n",
    "        for i, j  in enumerate(cats_ls):\n",
    "            if m in j:\n",
    "                new_ind.append(i)\n",
    "                new_ids.append(entry_ids.iloc[n])\n",
    "                new_entyr.append(entry_year.iloc[n])\n",
    "                new_diarnum.append(diarynum.iloc[n])\n",
    "                \n",
    "    return(new_ind, new_ids, new_entyr, new_diarnum)\n",
    "            \n",
    "\n",
    "def create_new_df(cats_ls, df, new_names):\n",
    "    \n",
    "    \n",
    "    code = dict(zip(range(len(new_names)), new_names))\n",
    "    new_type, new_ids, new_entyr, new_diarnum = reindex(cats_ls, df['entry_type'], df['entry_id'], df['entry_year'], df['diarynum'])\n",
    "    \n",
    "    new_df = pd.DataFrame({\n",
    "        \n",
    "        'diarynum': new_diarnum,\n",
    "        'entry_id': new_ids,\n",
    "        'entry_year': new_entyr,\n",
    "        'new_entry_type': new_type,\n",
    "        'new_name_type':[code[num] for num in new_type]\n",
    "        \n",
    "    })\n",
    "    return(new_df)"
   ]
  },
  {
   "cell_type": "code",
   "execution_count": 3,
   "metadata": {},
   "outputs": [],
   "source": [
    "years = range(1899, 2019)\n",
    "year_count = countyear(years)\n",
    "\n",
    "years_df = pd.DataFrame({\n",
    "    'entry_year': [i[0] for i in year_count],\n",
    "    'year_totals': [i[1] for i in year_count]\n",
    "})"
   ]
  },
  {
   "cell_type": "code",
   "execution_count": 4,
   "metadata": {},
   "outputs": [],
   "source": [
    "years_df.to_csv('./year_totals.csv')"
   ]
  },
  {
   "cell_type": "markdown",
   "metadata": {},
   "source": [
    "**excluded\n",
    "dnev_notes = 1, 16, 30, 31, 3, 33\n",
    "gaz_ titles numbers petersburgskaia gazeta"
   ]
  },
  {
   "cell_type": "code",
   "execution_count": 3,
   "metadata": {},
   "outputs": [],
   "source": [
    "dnev_rout = [10,11,12,13, 14,15, 34, 8]\n",
    "dnev_interp = [18,28,2,20]\n",
    "dnev_lit = [19,22,32,7,9, 17]\n",
    "dnev_spir = [5, 35, 29, 23, 26, 21]\n",
    "dnev_form = [27, 4, 24, 25, 6]\n",
    "dnev_cats = [dnev_rout, dnev_interp, dnev_form, dnev_lit, dnev_spir]\n",
    "dnev_names = ['Routine','Form', 'Interpersonal', 'Literary', 'Spirit']\n",
    "\n",
    "stix_read = [0]\n",
    "stix_test = [1]\n",
    "stix_form = [2]\n",
    "stix_sovrev = [3]\n",
    "stix_cit = [4]\n",
    "stix_judg = [5,6]\n",
    "stix_cont = [7]\n",
    "stix_exp = [8]\n",
    "stix_interp = [9,10]\n",
    "stix_pro = [11]\n",
    "stix_rec = [12]\n",
    "stix_cats = [stix_read, stix_form,  stix_interp, stix_cont,stix_cit, stix_pro, \n",
    "             stix_sovrev, stix_rec,  stix_test, stix_judg,stix_exp]\n",
    "stix_names = ['Reading','Form', 'Interpersonal', 'Content', 'Citations', 'Professional Activity', \n",
    "              'Soviet Revolution','Recitation', 'Testimony', 'Judgement', 'Expression']\n",
    "\n",
    "\n",
    "gaz_op = [0]\n",
    "gaz_rout = [4]\n",
    "gaz_persmen = [5] \n",
    "gaz_cult = [6]\n",
    "gaz_proact = [7]\n",
    "gaz_info = [8]\n",
    "gaz_form = [9]\n",
    "gaz_pol = [10]\n",
    "gaz_war = [11]\n",
    "gaz_cats = [ gaz_rout, gaz_form, gaz_persmen, gaz_proact,\n",
    "            gaz_pol, gaz_war, gaz_info, gaz_cult, gaz_op]\n",
    "gaz_names = ['Routine', 'Form', 'Personal Mentions', 'Professional Activity',\n",
    "            'Politics', 'War', 'Information', 'Culture', 'Opinions']\n",
    "\n",
    "rom_cont = [0]\n",
    "rom_histfict = [1]\n",
    "rom_interp = [2]\n",
    "rom_media= [3]\n",
    "rom_judg = [4]\n",
    "rom_pro = [5]\n",
    "rom_pub = [6]\n",
    "rom_sovnov = [7]   \n",
    "rom_litmod = [8]\n",
    "rom_form = [9]\n",
    "rom_cats = [rom_form, rom_cont, rom_interp, rom_media, rom_pro, \n",
    "            rom_pub, rom_sovnov, rom_histfict, rom_litmod, rom_judg]\n",
    "rom_names = ['Form', 'Content', 'Interpersonal', 'In Media', 'Professional Activity',\n",
    "            'Publication', 'Soviet Novel', 'Historical Fiction', 'Literary Models', 'Judgement']\n",
    "\n",
    "man_textobj = [0]\n",
    "man_interp = [1]\n",
    "man_form = [2]\n",
    "man_remin = [3]\n",
    "man_hist = [4] \n",
    "man_inst = [5]\n",
    "man_revhist = [6] \n",
    "man_mon = [7,8]\n",
    "\n",
    "man_cats = [man_form, man_interp, man_hist, man_revhist, man_mon, man_textobj, man_remin]\n",
    "\n",
    "man_names = ['Form', 'Interpersonal', 'History', 'Revolutionary History', 'Monarchy',\n",
    "            'Textual Object', 'Reminiscence']"
   ]
  },
  {
   "cell_type": "code",
   "execution_count": 30,
   "metadata": {},
   "outputs": [
    {
     "data": {
      "text/plain": [
       "<matplotlib.axes._subplots.AxesSubplot at 0x236615496a0>"
      ]
     },
     "execution_count": 30,
     "metadata": {},
     "output_type": "execute_result"
    },
    {
     "data": {
      "image/png": "[encoded data removed]",
      "text/plain": [
       "<matplotlib.figure.Figure at 0x2366155b780>"
      ]
     },
     "metadata": {},
     "output_type": "display_data"
    }
   ],
   "source": [
    "#new_dnev = create_new_df(dnev_cats, df_dnevnik, dnev_names)\n",
    "%matplotlib inline\n",
    "new_gaz['entry_year'].hist()"
   ]
  },
  {
   "cell_type": "code",
   "execution_count": 21,
   "metadata": {},
   "outputs": [],
   "source": [
    "new_dnev.to_csv('./110920_dnevnik.csv')"
   ]
  },
  {
   "cell_type": "code",
   "execution_count": 23,
   "metadata": {},
   "outputs": [],
   "source": [
    "new_stix = create_new_df(stix_cats, df_stikhi, stix_names)\n",
    "\n",
    "new_stix.to_csv('./110920_poetry.csv')"
   ]
  },
  {
   "cell_type": "code",
   "execution_count": 24,
   "metadata": {},
   "outputs": [],
   "source": [
    "new_rom = create_new_df(rom_cats, df_roman, rom_names)\n",
    "\n",
    "new_rom.to_csv('./110920_roman.csv')"
   ]
  },
  {
   "cell_type": "code",
   "execution_count": 25,
   "metadata": {},
   "outputs": [],
   "source": [
    "new_gaz = create_new_df(gaz_cats, df_gazet, gaz_names)\n",
    "\n",
    "new_gaz.to_csv('./110920_news.csv')"
   ]
  },
  {
   "cell_type": "code",
   "execution_count": 26,
   "metadata": {},
   "outputs": [],
   "source": [
    "new_man = create_new_df(man_cats, df_manifest, man_names)\n",
    "\n",
    "new_man.to_csv('./110920_man.csv')"
   ]
  },
  {
   "cell_type": "code",
   "execution_count": 13,
   "metadata": {},
   "outputs": [
    {
     "data": {
      "text/html": [
       "<div>\n",
       "<style scoped>\n",
       "    .dataframe tbody tr th:only-of-type {\n",
       "        vertical-align: middle;\n",
       "    }\n",
       "\n",
       "    .dataframe tbody tr th {\n",
       "        vertical-align: top;\n",
       "    }\n",
       "\n",
       "    .dataframe thead th {\n",
       "        text-align: right;\n",
       "    }\n",
       "</style>\n",
       "<table border=\"1\" class=\"dataframe\">\n",
       "  <thead>\n",
       "    <tr style=\"text-align: right;\">\n",
       "      <th></th>\n",
       "      <th>diarynum</th>\n",
       "      <th>entry_id</th>\n",
       "      <th>entry_year</th>\n",
       "      <th>new_entry_type</th>\n",
       "      <th>new_name_type</th>\n",
       "    </tr>\n",
       "  </thead>\n",
       "  <tbody>\n",
       "    <tr>\n",
       "      <th>0</th>\n",
       "      <td>3.0</td>\n",
       "      <td>895</td>\n",
       "      <td>1935.0</td>\n",
       "      <td>8</td>\n",
       "      <td>Literary Models</td>\n",
       "    </tr>\n",
       "    <tr>\n",
       "      <th>1</th>\n",
       "      <td>3.0</td>\n",
       "      <td>721</td>\n",
       "      <td>1933.0</td>\n",
       "      <td>1</td>\n",
       "      <td>Content</td>\n",
       "    </tr>\n",
       "    <tr>\n",
       "      <th>2</th>\n",
       "      <td>3.0</td>\n",
       "      <td>865</td>\n",
       "      <td>1935.0</td>\n",
       "      <td>4</td>\n",
       "      <td>Professional Activity</td>\n",
       "    </tr>\n",
       "    <tr>\n",
       "      <th>3</th>\n",
       "      <td>3.0</td>\n",
       "      <td>908</td>\n",
       "      <td>1936.0</td>\n",
       "      <td>9</td>\n",
       "      <td>Judgement</td>\n",
       "    </tr>\n",
       "    <tr>\n",
       "      <th>4</th>\n",
       "      <td>3.0</td>\n",
       "      <td>865</td>\n",
       "      <td>1935.0</td>\n",
       "      <td>4</td>\n",
       "      <td>Professional Activity</td>\n",
       "    </tr>\n",
       "    <tr>\n",
       "      <th>...</th>\n",
       "      <td>...</td>\n",
       "      <td>...</td>\n",
       "      <td>...</td>\n",
       "      <td>...</td>\n",
       "      <td>...</td>\n",
       "    </tr>\n",
       "    <tr>\n",
       "      <th>7137</th>\n",
       "      <td>3.0</td>\n",
       "      <td>865</td>\n",
       "      <td>1935.0</td>\n",
       "      <td>5</td>\n",
       "      <td>Publication</td>\n",
       "    </tr>\n",
       "    <tr>\n",
       "      <th>7138</th>\n",
       "      <td>3.0</td>\n",
       "      <td>867</td>\n",
       "      <td>1935.0</td>\n",
       "      <td>6</td>\n",
       "      <td>Soviet Novel</td>\n",
       "    </tr>\n",
       "    <tr>\n",
       "      <th>7139</th>\n",
       "      <td>2.0</td>\n",
       "      <td>1476</td>\n",
       "      <td>1918.0</td>\n",
       "      <td>0</td>\n",
       "      <td>Form</td>\n",
       "    </tr>\n",
       "    <tr>\n",
       "      <th>7140</th>\n",
       "      <td>3.0</td>\n",
       "      <td>733</td>\n",
       "      <td>1934.0</td>\n",
       "      <td>3</td>\n",
       "      <td>In Media</td>\n",
       "    </tr>\n",
       "    <tr>\n",
       "      <th>7141</th>\n",
       "      <td>3.0</td>\n",
       "      <td>865</td>\n",
       "      <td>1935.0</td>\n",
       "      <td>4</td>\n",
       "      <td>Professional Activity</td>\n",
       "    </tr>\n",
       "  </tbody>\n",
       "</table>\n",
       "<p>7142 rows × 5 columns</p>\n",
       "</div>"
      ],
      "text/plain": [
       "      diarynum  entry_id  entry_year  new_entry_type          new_name_type\n",
       "0          3.0       895      1935.0               8        Literary Models\n",
       "1          3.0       721      1933.0               1                Content\n",
       "2          3.0       865      1935.0               4  Professional Activity\n",
       "3          3.0       908      1936.0               9              Judgement\n",
       "4          3.0       865      1935.0               4  Professional Activity\n",
       "...        ...       ...         ...             ...                    ...\n",
       "7137       3.0       865      1935.0               5            Publication\n",
       "7138       3.0       867      1935.0               6           Soviet Novel\n",
       "7139       2.0      1476      1918.0               0                   Form\n",
       "7140       3.0       733      1934.0               3               In Media\n",
       "7141       3.0       865      1935.0               4  Professional Activity\n",
       "\n",
       "[7142 rows x 5 columns]"
      ]
     },
     "execution_count": 13,
     "metadata": {},
     "output_type": "execute_result"
    }
   ],
   "source": [
    "new_rom"
   ]
  },
  {
   "cell_type": "code",
   "execution_count": null,
   "metadata": {},
   "outputs": [],
   "source": []
  }
 ],
 "metadata": {
  "kernelspec": {
   "display_name": "Python 3",
   "language": "python",
   "name": "python3"
  },
  "language_info": {
   "codemirror_mode": {
    "name": "ipython",
    "version": 3
   },
   "file_extension": ".py",
   "mimetype": "text/x-python",
   "name": "python",
   "nbconvert_exporter": "python",
   "pygments_lexer": "ipython3",
   "version": "3.6.4"
  }
 },
 "nbformat": 4,
 "nbformat_minor": 2
}
